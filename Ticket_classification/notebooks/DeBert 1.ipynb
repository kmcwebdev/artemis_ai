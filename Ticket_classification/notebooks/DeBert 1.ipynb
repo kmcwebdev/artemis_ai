{
  "cells": [
    {
      "cell_type": "code",
      "execution_count": 7,
      "metadata": {
        "id": "UrQq-KhSLE7f"
      },
      "outputs": [],
      "source": [
        "# Basic Libraries\n",
        "import numpy as np\n",
        "import pandas as pd\n",
        "import seaborn as sns\n",
        "import matplotlib.pyplot as plt # we only need pyplot\n",
        "sns.set() # set the default Seaborn style for graphics"
      ]
    },
    {
      "cell_type": "code",
      "execution_count": 8,
      "metadata": {
        "colab": {
          "base_uri": "https://localhost:8080/",
          "height": 206
        },
        "id": "ulQYCkZ0LV9L",
        "outputId": "43a5917e-fa15-4e5c-e39a-d68712d4d73a"
      },
      "outputs": [
        {
          "data": {
            "text/html": [
              "<div>\n",
              "<style scoped>\n",
              "    .dataframe tbody tr th:only-of-type {\n",
              "        vertical-align: middle;\n",
              "    }\n",
              "\n",
              "    .dataframe tbody tr th {\n",
              "        vertical-align: top;\n",
              "    }\n",
              "\n",
              "    .dataframe thead th {\n",
              "        text-align: right;\n",
              "    }\n",
              "</style>\n",
              "<table border=\"1\" class=\"dataframe\">\n",
              "  <thead>\n",
              "    <tr style=\"text-align: right;\">\n",
              "      <th></th>\n",
              "      <th>Department</th>\n",
              "      <th>Tech Group</th>\n",
              "      <th>Sub-Category</th>\n",
              "      <th>Priority</th>\n",
              "      <th>Description</th>\n",
              "      <th>assistant (For Getlogs only)</th>\n",
              "    </tr>\n",
              "  </thead>\n",
              "  <tbody>\n",
              "    <tr>\n",
              "      <th>0</th>\n",
              "      <td>Technology Services</td>\n",
              "      <td>Access Control and Security</td>\n",
              "      <td>Access Reactivation</td>\n",
              "      <td>P3 - Planned</td>\n",
              "      <td>Request to reactivate a users biometric access.</td>\n",
              "      <td>NaN</td>\n",
              "    </tr>\n",
              "    <tr>\n",
              "      <th>1</th>\n",
              "      <td>Technology Services</td>\n",
              "      <td>Access Control and Security</td>\n",
              "      <td>Access Upload</td>\n",
              "      <td>P3 - Planned</td>\n",
              "      <td>Request to upload an access to another biometr...</td>\n",
              "      <td>NaN</td>\n",
              "    </tr>\n",
              "    <tr>\n",
              "      <th>2</th>\n",
              "      <td>Technology Services</td>\n",
              "      <td>Access Control and Security</td>\n",
              "      <td>Badge Card Re-assignment</td>\n",
              "      <td>P3 - Planned</td>\n",
              "      <td>Request to re-assign a badge card to a differe...</td>\n",
              "      <td>NaN</td>\n",
              "    </tr>\n",
              "    <tr>\n",
              "      <th>3</th>\n",
              "      <td>Technology Services</td>\n",
              "      <td>Access Control and Security</td>\n",
              "      <td>Badge Card Request</td>\n",
              "      <td>P3 - Planned</td>\n",
              "      <td>Request for badge card (ITS is already present...</td>\n",
              "      <td>NaN</td>\n",
              "    </tr>\n",
              "    <tr>\n",
              "      <th>4</th>\n",
              "      <td>Technology Services</td>\n",
              "      <td>Access Control and Security</td>\n",
              "      <td>Bio Disable</td>\n",
              "      <td>P3 - Planned</td>\n",
              "      <td>Request to disable a biometric access.</td>\n",
              "      <td>NaN</td>\n",
              "    </tr>\n",
              "  </tbody>\n",
              "</table>\n",
              "</div>"
            ],
            "text/plain": [
              "            Department                   Tech Group              Sub-Category  \\\n",
              "0  Technology Services  Access Control and Security       Access Reactivation   \n",
              "1  Technology Services  Access Control and Security             Access Upload   \n",
              "2  Technology Services  Access Control and Security  Badge Card Re-assignment   \n",
              "3  Technology Services  Access Control and Security        Badge Card Request   \n",
              "4  Technology Services  Access Control and Security               Bio Disable   \n",
              "\n",
              "       Priority                                        Description  \\\n",
              "0  P3 - Planned   Request to reactivate a users biometric access.   \n",
              "1  P3 - Planned  Request to upload an access to another biometr...   \n",
              "2  P3 - Planned  Request to re-assign a badge card to a differe...   \n",
              "3  P3 - Planned  Request for badge card (ITS is already present...   \n",
              "4  P3 - Planned             Request to disable a biometric access.   \n",
              "\n",
              "   assistant (For Getlogs only)  \n",
              "0                           NaN  \n",
              "1                           NaN  \n",
              "2                           NaN  \n",
              "3                           NaN  \n",
              "4                           NaN  "
            ]
          },
          "execution_count": 8,
          "metadata": {},
          "output_type": "execute_result"
        }
      ],
      "source": [
        "file = '../data/AI Auto Ticket Categorization (Original)(Reference).csv'\n",
        "df = pd.read_csv(file, encoding='ISO-8859-1', skipinitialspace = True)\n",
        "df.head()"
      ]
    },
    {
      "cell_type": "code",
      "execution_count": 9,
      "metadata": {
        "id": "OR_KM1nhMOj5"
      },
      "outputs": [],
      "source": [
        "# Extract Description and Department column\n",
        "df = df[['Description', 'Department']]\n",
        "# Get unique Department\n",
        "departments = df['Department'].unique()\n",
        "descriptions = df['Description']"
      ]
    },
    {
      "cell_type": "code",
      "execution_count": 10,
      "metadata": {
        "colab": {
          "base_uri": "https://localhost:8080/",
          "height": 35
        },
        "id": "_acuKwyyhUSV",
        "outputId": "a610d22d-604b-4a22-9eec-cc8d07588dfb"
      },
      "outputs": [
        {
          "data": {
            "text/plain": [
              "'Tickets related to inquiries or requests concerning mental health support, benefits, resources and policies.'"
            ]
          },
          "execution_count": 10,
          "metadata": {},
          "output_type": "execute_result"
        }
      ],
      "source": [
        "df['Description'][600]"
      ]
    },
    {
      "cell_type": "code",
      "execution_count": 11,
      "metadata": {
        "id": "Sid5WbodP56b"
      },
      "outputs": [],
      "source": [
        "rows = []\n",
        "for description in descriptions:\n",
        "    row = {'Description': description}\n",
        "    for department in departments:\n",
        "        row[department] = 1 if department in df[df['Description'] == description]['Department'].values else 0\n",
        "    rows.append(row)"
      ]
    },
    {
      "cell_type": "code",
      "execution_count": 12,
      "metadata": {
        "id": "B6GyWHOIQSDP"
      },
      "outputs": [],
      "source": [
        "new_df = pd.DataFrame(rows, columns=['Description'] + list(departments))"
      ]
    },
    {
      "cell_type": "code",
      "execution_count": 13,
      "metadata": {
        "colab": {
          "base_uri": "https://localhost:8080/",
          "height": 345
        },
        "id": "tyr2h597QXl7",
        "outputId": "85888fc3-2c52-46b3-c41a-329168bca809"
      },
      "outputs": [
        {
          "data": {
            "text/html": [
              "<div>\n",
              "<style scoped>\n",
              "    .dataframe tbody tr th:only-of-type {\n",
              "        vertical-align: middle;\n",
              "    }\n",
              "\n",
              "    .dataframe tbody tr th {\n",
              "        vertical-align: top;\n",
              "    }\n",
              "\n",
              "    .dataframe thead th {\n",
              "        text-align: right;\n",
              "    }\n",
              "</style>\n",
              "<table border=\"1\" class=\"dataframe\">\n",
              "  <thead>\n",
              "    <tr style=\"text-align: right;\">\n",
              "      <th></th>\n",
              "      <th>Description</th>\n",
              "      <th>Technology Services</th>\n",
              "      <th>Finance</th>\n",
              "      <th>Projects &amp; Design</th>\n",
              "      <th>Engineering</th>\n",
              "      <th>HR</th>\n",
              "      <th>Customer Success</th>\n",
              "      <th>Document Controller</th>\n",
              "      <th>Legal &amp; Compliance</th>\n",
              "      <th>Marketing</th>\n",
              "      <th>Service Delivery External</th>\n",
              "      <th>Operations Team</th>\n",
              "    </tr>\n",
              "  </thead>\n",
              "  <tbody>\n",
              "    <tr>\n",
              "      <th>0</th>\n",
              "      <td>Request to reactivate a users biometric access.</td>\n",
              "      <td>1</td>\n",
              "      <td>0</td>\n",
              "      <td>0</td>\n",
              "      <td>0</td>\n",
              "      <td>0</td>\n",
              "      <td>0</td>\n",
              "      <td>0</td>\n",
              "      <td>0</td>\n",
              "      <td>0</td>\n",
              "      <td>0</td>\n",
              "      <td>0</td>\n",
              "    </tr>\n",
              "    <tr>\n",
              "      <th>1</th>\n",
              "      <td>Request to upload an access to another biometr...</td>\n",
              "      <td>1</td>\n",
              "      <td>0</td>\n",
              "      <td>0</td>\n",
              "      <td>0</td>\n",
              "      <td>0</td>\n",
              "      <td>0</td>\n",
              "      <td>0</td>\n",
              "      <td>0</td>\n",
              "      <td>0</td>\n",
              "      <td>0</td>\n",
              "      <td>0</td>\n",
              "    </tr>\n",
              "    <tr>\n",
              "      <th>2</th>\n",
              "      <td>Request to re-assign a badge card to a differe...</td>\n",
              "      <td>1</td>\n",
              "      <td>0</td>\n",
              "      <td>0</td>\n",
              "      <td>0</td>\n",
              "      <td>0</td>\n",
              "      <td>0</td>\n",
              "      <td>0</td>\n",
              "      <td>0</td>\n",
              "      <td>0</td>\n",
              "      <td>0</td>\n",
              "      <td>0</td>\n",
              "    </tr>\n",
              "    <tr>\n",
              "      <th>3</th>\n",
              "      <td>Request for badge card (ITS is already present...</td>\n",
              "      <td>1</td>\n",
              "      <td>0</td>\n",
              "      <td>0</td>\n",
              "      <td>0</td>\n",
              "      <td>0</td>\n",
              "      <td>0</td>\n",
              "      <td>0</td>\n",
              "      <td>0</td>\n",
              "      <td>0</td>\n",
              "      <td>0</td>\n",
              "      <td>0</td>\n",
              "    </tr>\n",
              "    <tr>\n",
              "      <th>4</th>\n",
              "      <td>Request to disable a biometric access.</td>\n",
              "      <td>1</td>\n",
              "      <td>0</td>\n",
              "      <td>0</td>\n",
              "      <td>0</td>\n",
              "      <td>0</td>\n",
              "      <td>0</td>\n",
              "      <td>0</td>\n",
              "      <td>0</td>\n",
              "      <td>0</td>\n",
              "      <td>0</td>\n",
              "      <td>0</td>\n",
              "    </tr>\n",
              "  </tbody>\n",
              "</table>\n",
              "</div>"
            ],
            "text/plain": [
              "                                         Description  Technology Services  \\\n",
              "0   Request to reactivate a users biometric access.                    1   \n",
              "1  Request to upload an access to another biometr...                    1   \n",
              "2  Request to re-assign a badge card to a differe...                    1   \n",
              "3  Request for badge card (ITS is already present...                    1   \n",
              "4             Request to disable a biometric access.                    1   \n",
              "\n",
              "   Finance  Projects & Design  Engineering  HR  Customer Success  \\\n",
              "0        0                  0            0   0                 0   \n",
              "1        0                  0            0   0                 0   \n",
              "2        0                  0            0   0                 0   \n",
              "3        0                  0            0   0                 0   \n",
              "4        0                  0            0   0                 0   \n",
              "\n",
              "   Document Controller  Legal & Compliance  Marketing  \\\n",
              "0                    0                   0          0   \n",
              "1                    0                   0          0   \n",
              "2                    0                   0          0   \n",
              "3                    0                   0          0   \n",
              "4                    0                   0          0   \n",
              "\n",
              "   Service Delivery External  Operations Team  \n",
              "0                          0                0  \n",
              "1                          0                0  \n",
              "2                          0                0  \n",
              "3                          0                0  \n",
              "4                          0                0  "
            ]
          },
          "execution_count": 13,
          "metadata": {},
          "output_type": "execute_result"
        }
      ],
      "source": [
        "new_df.head()"
      ]
    },
    {
      "cell_type": "code",
      "execution_count": 15,
      "metadata": {
        "colab": {
          "base_uri": "https://localhost:8080/"
        },
        "id": "Ga0AFxl3RHPj",
        "outputId": "3c578613-fa08-4f10-e4d2-ade4c0e3947d"
      },
      "outputs": [
        {
          "name": "stdout",
          "output_type": "stream",
          "text": [
            "Total number of descriptions = 931\n",
            "Total number of descriptions without label = 0\n",
            "Total labels = 931\n"
          ]
        }
      ],
      "source": [
        "# Calculate the sum of each department's column\n",
        "x = new_df.iloc[:, 1:].sum()\n",
        "\n",
        "# Calculate the sum of each row to determine the number of labels per description\n",
        "rowsums = new_df.iloc[:, 1:].sum(axis=1)\n",
        "\n",
        "# Count the number of descriptions without any label\n",
        "no_label_count = (rowsums == 0).sum()\n",
        "\n",
        "print(\"Total number of descriptions =\", len(new_df))\n",
        "print(\"Total number of descriptions without label =\", no_label_count)\n",
        "print(\"Total labels =\", x.sum())"
      ]
    },
    {
      "cell_type": "code",
      "execution_count": 16,
      "metadata": {
        "colab": {
          "base_uri": "https://localhost:8080/",
          "height": 688
        },
        "id": "VXKoZV2kVhsC",
        "outputId": "be513d1f-a2f7-40e3-c8e4-424ac1d7e1e1"
      },
      "outputs": [
        {
          "name": "stderr",
          "output_type": "stream",
          "text": [
            "/var/folders/np/chn3lg_51j3d5y4xw5_mdssc0000gn/T/ipykernel_1949/1360276030.py:2: FutureWarning: \n",
            "\n",
            "Passing `palette` without assigning `hue` is deprecated and will be removed in v0.14.0. Assign the `y` variable to `hue` and set `legend=False` for the same effect.\n",
            "\n",
            "  ax = sns.barplot(x=x.values, y=x.index, palette=\"viridis\", alpha=0.8)\n"
          ]
        },
        {
          "data": {
            "image/png": "[encoded data removed]",
            "text/plain": [
              "<Figure size 1000x600 with 1 Axes>"
            ]
          },
          "metadata": {},
          "output_type": "display_data"
        }
      ],
      "source": [
        "plt.figure(figsize=(10, 6))  # Adjust the figure size\n",
        "ax = sns.barplot(x=x.values, y=x.index, palette=\"viridis\", alpha=0.8)\n",
        "\n",
        "# Add labels to the bars\n",
        "for rect, label in zip(ax.patches, x.values):\n",
        "    width = rect.get_width()\n",
        "    ax.text(width + 5, rect.get_y() + rect.get_height() / 2, label, ha='center', va='center')\n",
        "\n",
        "# Add labels and title\n",
        "plt.xlabel('Values', fontsize=14)  # Add x-axis label\n",
        "plt.ylabel('Department', fontsize=14)  # Add y-axis label\n",
        "plt.title('Distribution of Departments', fontsize=16)  # Increase title font size\n",
        "\n",
        "plt.grid(True)  # Add a grid\n",
        "plt.tight_layout()  # Ensure the entire plot fits into the figure area\n",
        "plt.show()"
      ]
    },
    {
      "cell_type": "markdown",
      "metadata": {
        "id": "t6QJzIbkajif"
      },
      "source": [
        "## Text Pre-Processing"
      ]
    },
    {
      "cell_type": "code",
      "execution_count": 17,
      "metadata": {
        "colab": {
          "base_uri": "https://localhost:8080/"
        },
        "id": "_f7E-ZJobKI1",
        "outputId": "0848d03a-a6c4-46cb-a9e8-43f1a47a13ac"
      },
      "outputs": [
        {
          "name": "stderr",
          "output_type": "stream",
          "text": [
            "[nltk_data] Downloading package stopwords to\n",
            "[nltk_data]     /Users/tangminhanh/nltk_data...\n",
            "[nltk_data]   Package stopwords is already up-to-date!\n",
            "[nltk_data] Downloading package wordnet to\n",
            "[nltk_data]     /Users/tangminhanh/nltk_data...\n",
            "[nltk_data]   Package wordnet is already up-to-date!\n",
            "[nltk_data] Downloading package omw-1.4 to\n",
            "[nltk_data]     /Users/tangminhanh/nltk_data...\n",
            "[nltk_data]   Package omw-1.4 is already up-to-date!\n"
          ]
        },
        {
          "data": {
            "text/plain": [
              "True"
            ]
          },
          "execution_count": 17,
          "metadata": {},
          "output_type": "execute_result"
        }
      ],
      "source": [
        "import re\n",
        "import nltk\n",
        "from nltk.corpus import stopwords\n",
        "from nltk.stem.porter import PorterStemmer\n",
        "from nltk.tokenize import word_tokenize\n",
        "from nltk.stem import SnowballStemmer\n",
        "from nltk.stem import WordNetLemmatizer\n",
        "from sklearn.feature_extraction.text import TfidfVectorizer\n",
        "from sklearn.linear_model import LogisticRegression\n",
        "\n",
        "nltk.download('stopwords')\n",
        "nltk.download('wordnet')\n",
        "nltk.download('omw-1.4')"
      ]
    },
    {
      "cell_type": "code",
      "execution_count": 18,
      "metadata": {
        "id": "EFrevxIabQHb"
      },
      "outputs": [],
      "source": [
        "train_data = new_df"
      ]
    },
    {
      "cell_type": "code",
      "execution_count": 19,
      "metadata": {
        "id": "Nue6FI8Va_FS"
      },
      "outputs": [],
      "source": [
        "#Remove Stopwords\n",
        "stop_words = set(stopwords.words('english'))\n",
        "\n",
        "# function to remove stopwords\n",
        "def remove_stopwords(text):\n",
        "    no_stopword_text = [w for w in text.split() if not w in stop_words]\n",
        "    return ' '.join(no_stopword_text)\n",
        "\n",
        "#Clean Text\n",
        "def clean_text(text):\n",
        "    text = text.lower()\n",
        "    text = re.sub(\"[^a-zA-Z]\",\" \",text)\n",
        "    text = ' '.join(text.split())\n",
        "    return text\n",
        "\n",
        "#stemming\n",
        "stemmer = SnowballStemmer(\"english\")\n",
        "def stemming(sentence):\n",
        "    stemSentence = \"\"\n",
        "    for word in sentence.split():\n",
        "        stem = stemmer.stem(word)\n",
        "        stemSentence += stem\n",
        "        stemSentence += \" \"\n",
        "    stemSentence = stemSentence.strip()\n",
        "    return stemSentence\n",
        "\n",
        "train_data['Text'] = train_data['Description'].apply(lambda x: remove_stopwords(x))\n",
        "train_data['Text'] = train_data['Description'].apply(lambda x:clean_text(x))\n",
        "train_data['Text'] = train_data['Description'].apply(stemming)"
      ]
    },
    {
      "cell_type": "code",
      "execution_count": 20,
      "metadata": {
        "id": "T40AhZOBbm_t"
      },
      "outputs": [],
      "source": [
        "train_data['Description'] = train_data['Text']\n",
        "train_data.drop('Text', inplace=True, axis=1)"
      ]
    },
    {
      "cell_type": "markdown",
      "metadata": {
        "id": "mEmtQCirbyWh"
      },
      "source": [
        "### Transformed into a simpler binary classification problem"
      ]
    },
    {
      "cell_type": "code",
      "execution_count": 21,
      "metadata": {
        "colab": {
          "base_uri": "https://localhost:8080/",
          "height": 649
        },
        "id": "zj0cYSsKyojI",
        "outputId": "6744e6c4-5247-4e94-a3f9-f061013f3d01"
      },
      "outputs": [
        {
          "data": {
            "text/html": [
              "<div>\n",
              "<style scoped>\n",
              "    .dataframe tbody tr th:only-of-type {\n",
              "        vertical-align: middle;\n",
              "    }\n",
              "\n",
              "    .dataframe tbody tr th {\n",
              "        vertical-align: top;\n",
              "    }\n",
              "\n",
              "    .dataframe thead th {\n",
              "        text-align: right;\n",
              "    }\n",
              "</style>\n",
              "<table border=\"1\" class=\"dataframe\">\n",
              "  <thead>\n",
              "    <tr style=\"text-align: right;\">\n",
              "      <th></th>\n",
              "      <th>Description</th>\n",
              "      <th>Technology Services</th>\n",
              "      <th>Finance</th>\n",
              "      <th>Projects &amp; Design</th>\n",
              "      <th>Engineering</th>\n",
              "      <th>HR</th>\n",
              "      <th>Customer Success</th>\n",
              "      <th>Document Controller</th>\n",
              "      <th>Legal &amp; Compliance</th>\n",
              "      <th>Marketing</th>\n",
              "      <th>Service Delivery External</th>\n",
              "      <th>Operations Team</th>\n",
              "    </tr>\n",
              "  </thead>\n",
              "  <tbody>\n",
              "    <tr>\n",
              "      <th>0</th>\n",
              "      <td>request to reactiv a user biometr access.</td>\n",
              "      <td>1</td>\n",
              "      <td>0</td>\n",
              "      <td>0</td>\n",
              "      <td>0</td>\n",
              "      <td>0</td>\n",
              "      <td>0</td>\n",
              "      <td>0</td>\n",
              "      <td>0</td>\n",
              "      <td>0</td>\n",
              "      <td>0</td>\n",
              "      <td>0</td>\n",
              "    </tr>\n",
              "    <tr>\n",
              "      <th>1</th>\n",
              "      <td>request to upload an access to anoth biometr d...</td>\n",
              "      <td>1</td>\n",
              "      <td>0</td>\n",
              "      <td>0</td>\n",
              "      <td>0</td>\n",
              "      <td>0</td>\n",
              "      <td>0</td>\n",
              "      <td>0</td>\n",
              "      <td>0</td>\n",
              "      <td>0</td>\n",
              "      <td>0</td>\n",
              "      <td>0</td>\n",
              "    </tr>\n",
              "    <tr>\n",
              "      <th>2</th>\n",
              "      <td>request to re-assign a badg card to a differ u...</td>\n",
              "      <td>1</td>\n",
              "      <td>0</td>\n",
              "      <td>0</td>\n",
              "      <td>0</td>\n",
              "      <td>0</td>\n",
              "      <td>0</td>\n",
              "      <td>0</td>\n",
              "      <td>0</td>\n",
              "      <td>0</td>\n",
              "      <td>0</td>\n",
              "      <td>0</td>\n",
              "    </tr>\n",
              "    <tr>\n",
              "      <th>3</th>\n",
              "      <td>request for badg card (it is alreadi present o...</td>\n",
              "      <td>1</td>\n",
              "      <td>0</td>\n",
              "      <td>0</td>\n",
              "      <td>0</td>\n",
              "      <td>0</td>\n",
              "      <td>0</td>\n",
              "      <td>0</td>\n",
              "      <td>0</td>\n",
              "      <td>0</td>\n",
              "      <td>0</td>\n",
              "      <td>0</td>\n",
              "    </tr>\n",
              "    <tr>\n",
              "      <th>4</th>\n",
              "      <td>request to disabl a biometr access.</td>\n",
              "      <td>1</td>\n",
              "      <td>0</td>\n",
              "      <td>0</td>\n",
              "      <td>0</td>\n",
              "      <td>0</td>\n",
              "      <td>0</td>\n",
              "      <td>0</td>\n",
              "      <td>0</td>\n",
              "      <td>0</td>\n",
              "      <td>0</td>\n",
              "      <td>0</td>\n",
              "    </tr>\n",
              "    <tr>\n",
              "      <th>...</th>\n",
              "      <td>...</td>\n",
              "      <td>...</td>\n",
              "      <td>...</td>\n",
              "      <td>...</td>\n",
              "      <td>...</td>\n",
              "      <td>...</td>\n",
              "      <td>...</td>\n",
              "      <td>...</td>\n",
              "      <td>...</td>\n",
              "      <td>...</td>\n",
              "      <td>...</td>\n",
              "      <td>...</td>\n",
              "    </tr>\n",
              "    <tr>\n",
              "      <th>926</th>\n",
              "      <td>ani ticket relat to variat order quotat request.</td>\n",
              "      <td>0</td>\n",
              "      <td>0</td>\n",
              "      <td>0</td>\n",
              "      <td>0</td>\n",
              "      <td>0</td>\n",
              "      <td>0</td>\n",
              "      <td>0</td>\n",
              "      <td>0</td>\n",
              "      <td>0</td>\n",
              "      <td>0</td>\n",
              "      <td>1</td>\n",
              "    </tr>\n",
              "    <tr>\n",
              "      <th>927</th>\n",
              "      <td>ani ticket relat to variat order quotat review.</td>\n",
              "      <td>0</td>\n",
              "      <td>0</td>\n",
              "      <td>0</td>\n",
              "      <td>0</td>\n",
              "      <td>0</td>\n",
              "      <td>0</td>\n",
              "      <td>0</td>\n",
              "      <td>0</td>\n",
              "      <td>0</td>\n",
              "      <td>0</td>\n",
              "      <td>1</td>\n",
              "    </tr>\n",
              "    <tr>\n",
              "      <th>928</th>\n",
              "      <td>ani ticket relat to review of additive-deduct ...</td>\n",
              "      <td>0</td>\n",
              "      <td>0</td>\n",
              "      <td>0</td>\n",
              "      <td>0</td>\n",
              "      <td>0</td>\n",
              "      <td>0</td>\n",
              "      <td>0</td>\n",
              "      <td>0</td>\n",
              "      <td>0</td>\n",
              "      <td>0</td>\n",
              "      <td>1</td>\n",
              "    </tr>\n",
              "    <tr>\n",
              "      <th>929</th>\n",
              "      <td>ani ticket relat to inpuut analysi for post pr...</td>\n",
              "      <td>0</td>\n",
              "      <td>0</td>\n",
              "      <td>0</td>\n",
              "      <td>0</td>\n",
              "      <td>0</td>\n",
              "      <td>0</td>\n",
              "      <td>0</td>\n",
              "      <td>0</td>\n",
              "      <td>0</td>\n",
              "      <td>0</td>\n",
              "      <td>1</td>\n",
              "    </tr>\n",
              "    <tr>\n",
              "      <th>930</th>\n",
              "      <td>ani ticket relat to provid punchlist summari a...</td>\n",
              "      <td>0</td>\n",
              "      <td>0</td>\n",
              "      <td>0</td>\n",
              "      <td>0</td>\n",
              "      <td>0</td>\n",
              "      <td>0</td>\n",
              "      <td>0</td>\n",
              "      <td>0</td>\n",
              "      <td>0</td>\n",
              "      <td>0</td>\n",
              "      <td>1</td>\n",
              "    </tr>\n",
              "  </tbody>\n",
              "</table>\n",
              "<p>931 rows × 12 columns</p>\n",
              "</div>"
            ],
            "text/plain": [
              "                                           Description  Technology Services  \\\n",
              "0           request to reactiv a user biometr access.                    1   \n",
              "1    request to upload an access to anoth biometr d...                    1   \n",
              "2    request to re-assign a badg card to a differ u...                    1   \n",
              "3    request for badg card (it is alreadi present o...                    1   \n",
              "4                  request to disabl a biometr access.                    1   \n",
              "..                                                 ...                  ...   \n",
              "926   ani ticket relat to variat order quotat request.                    0   \n",
              "927    ani ticket relat to variat order quotat review.                    0   \n",
              "928  ani ticket relat to review of additive-deduct ...                    0   \n",
              "929  ani ticket relat to inpuut analysi for post pr...                    0   \n",
              "930  ani ticket relat to provid punchlist summari a...                    0   \n",
              "\n",
              "     Finance  Projects & Design  Engineering  HR  Customer Success  \\\n",
              "0          0                  0            0   0                 0   \n",
              "1          0                  0            0   0                 0   \n",
              "2          0                  0            0   0                 0   \n",
              "3          0                  0            0   0                 0   \n",
              "4          0                  0            0   0                 0   \n",
              "..       ...                ...          ...  ..               ...   \n",
              "926        0                  0            0   0                 0   \n",
              "927        0                  0            0   0                 0   \n",
              "928        0                  0            0   0                 0   \n",
              "929        0                  0            0   0                 0   \n",
              "930        0                  0            0   0                 0   \n",
              "\n",
              "     Document Controller  Legal & Compliance  Marketing  \\\n",
              "0                      0                   0          0   \n",
              "1                      0                   0          0   \n",
              "2                      0                   0          0   \n",
              "3                      0                   0          0   \n",
              "4                      0                   0          0   \n",
              "..                   ...                 ...        ...   \n",
              "926                    0                   0          0   \n",
              "927                    0                   0          0   \n",
              "928                    0                   0          0   \n",
              "929                    0                   0          0   \n",
              "930                    0                   0          0   \n",
              "\n",
              "     Service Delivery External  Operations Team  \n",
              "0                            0                0  \n",
              "1                            0                0  \n",
              "2                            0                0  \n",
              "3                            0                0  \n",
              "4                            0                0  \n",
              "..                         ...              ...  \n",
              "926                          0                1  \n",
              "927                          0                1  \n",
              "928                          0                1  \n",
              "929                          0                1  \n",
              "930                          0                1  \n",
              "\n",
              "[931 rows x 12 columns]"
            ]
          },
          "execution_count": 21,
          "metadata": {},
          "output_type": "execute_result"
        }
      ],
      "source": [
        "train_data"
      ]
    },
    {
      "cell_type": "markdown",
      "metadata": {
        "id": "jyzz9vIeAPiS"
      },
      "source": []
    },
    {
      "cell_type": "code",
      "execution_count": 22,
      "metadata": {
        "colab": {
          "base_uri": "https://localhost:8080/"
        },
        "id": "ARV8-_KdANVE",
        "outputId": "385f047a-8dee-4f81-d47b-7d94596a4ed0"
      },
      "outputs": [
        {
          "name": "stdout",
          "output_type": "stream",
          "text": [
            "Requirement already satisfied: datasets in /Users/tangminhanh/Downloads/artemis_ai/kmc/lib/python3.9/site-packages (2.19.2)\n",
            "Requirement already satisfied: transformers in /Users/tangminhanh/Downloads/artemis_ai/kmc/lib/python3.9/site-packages (4.31.0)\n",
            "Collecting evaluate\n",
            "  Downloading evaluate-0.4.2-py3-none-any.whl.metadata (9.3 kB)\n",
            "Collecting sentencepiece\n",
            "  Downloading sentencepiece-0.2.0-cp39-cp39-macosx_10_9_x86_64.whl.metadata (7.7 kB)\n",
            "Requirement already satisfied: accelerate in /Users/tangminhanh/Downloads/artemis_ai/kmc/lib/python3.9/site-packages (0.30.1)\n",
            "Requirement already satisfied: filelock in /Users/tangminhanh/Downloads/artemis_ai/kmc/lib/python3.9/site-packages (from datasets) (3.13.3)\n",
            "Requirement already satisfied: numpy>=1.17 in /Users/tangminhanh/Downloads/artemis_ai/kmc/lib/python3.9/site-packages (from datasets) (1.26.4)\n",
            "Requirement already satisfied: pyarrow>=12.0.0 in /Users/tangminhanh/Downloads/artemis_ai/kmc/lib/python3.9/site-packages (from datasets) (16.1.0)\n",
            "Requirement already satisfied: pyarrow-hotfix in /Users/tangminhanh/Downloads/artemis_ai/kmc/lib/python3.9/site-packages (from datasets) (0.6)\n",
            "Requirement already satisfied: dill<0.3.9,>=0.3.0 in /Users/tangminhanh/Downloads/artemis_ai/kmc/lib/python3.9/site-packages (from datasets) (0.3.8)\n",
            "Requirement already satisfied: pandas in /Users/tangminhanh/Downloads/artemis_ai/kmc/lib/python3.9/site-packages (from datasets) (2.2.2)\n",
            "Requirement already satisfied: requests>=2.32.1 in /Users/tangminhanh/Downloads/artemis_ai/kmc/lib/python3.9/site-packages (from datasets) (2.32.3)\n",
            "Requirement already satisfied: tqdm>=4.62.1 in /Users/tangminhanh/Downloads/artemis_ai/kmc/lib/python3.9/site-packages (from datasets) (4.66.2)\n",
            "Requirement already satisfied: xxhash in /Users/tangminhanh/Downloads/artemis_ai/kmc/lib/python3.9/site-packages (from datasets) (3.4.1)\n",
            "Requirement already satisfied: multiprocess in /Users/tangminhanh/Downloads/artemis_ai/kmc/lib/python3.9/site-packages (from datasets) (0.70.16)\n",
            "Requirement already satisfied: fsspec<=2024.3.1,>=2023.1.0 in /Users/tangminhanh/Downloads/artemis_ai/kmc/lib/python3.9/site-packages (from fsspec[http]<=2024.3.1,>=2023.1.0->datasets) (2024.3.1)\n",
            "Requirement already satisfied: aiohttp in /Users/tangminhanh/Downloads/artemis_ai/kmc/lib/python3.9/site-packages (from datasets) (3.9.5)\n",
            "Requirement already satisfied: huggingface-hub>=0.21.2 in /Users/tangminhanh/Downloads/artemis_ai/kmc/lib/python3.9/site-packages (from datasets) (0.22.2)\n",
            "Requirement already satisfied: packaging in /Users/tangminhanh/Downloads/artemis_ai/kmc/lib/python3.9/site-packages (from datasets) (24.0)\n",
            "Requirement already satisfied: pyyaml>=5.1 in /Users/tangminhanh/Downloads/artemis_ai/kmc/lib/python3.9/site-packages (from datasets) (6.0.1)\n",
            "Requirement already satisfied: regex!=2019.12.17 in /Users/tangminhanh/Downloads/artemis_ai/kmc/lib/python3.9/site-packages (from transformers) (2023.12.25)\n",
            "Requirement already satisfied: tokenizers!=0.11.3,<0.14,>=0.11.1 in /Users/tangminhanh/Downloads/artemis_ai/kmc/lib/python3.9/site-packages (from transformers) (0.13.3)\n",
            "Requirement already satisfied: safetensors>=0.3.1 in /Users/tangminhanh/Downloads/artemis_ai/kmc/lib/python3.9/site-packages (from transformers) (0.4.2)\n",
            "Requirement already satisfied: psutil in /Users/tangminhanh/Downloads/artemis_ai/kmc/lib/python3.9/site-packages (from accelerate) (5.9.8)\n",
            "Requirement already satisfied: torch>=1.10.0 in /Users/tangminhanh/Downloads/artemis_ai/kmc/lib/python3.9/site-packages (from accelerate) (2.0.1)\n",
            "Requirement already satisfied: aiosignal>=1.1.2 in /Users/tangminhanh/Downloads/artemis_ai/kmc/lib/python3.9/site-packages (from aiohttp->datasets) (1.3.1)\n",
            "Requirement already satisfied: attrs>=17.3.0 in /Users/tangminhanh/Downloads/artemis_ai/kmc/lib/python3.9/site-packages (from aiohttp->datasets) (23.2.0)\n",
            "Requirement already satisfied: frozenlist>=1.1.1 in /Users/tangminhanh/Downloads/artemis_ai/kmc/lib/python3.9/site-packages (from aiohttp->datasets) (1.4.1)\n",
            "Requirement already satisfied: multidict<7.0,>=4.5 in /Users/tangminhanh/Downloads/artemis_ai/kmc/lib/python3.9/site-packages (from aiohttp->datasets) (6.0.5)\n",
            "Requirement already satisfied: yarl<2.0,>=1.0 in /Users/tangminhanh/Downloads/artemis_ai/kmc/lib/python3.9/site-packages (from aiohttp->datasets) (1.9.4)\n",
            "Requirement already satisfied: async-timeout<5.0,>=4.0 in /Users/tangminhanh/Downloads/artemis_ai/kmc/lib/python3.9/site-packages (from aiohttp->datasets) (4.0.3)\n",
            "Requirement already satisfied: typing-extensions>=3.7.4.3 in /Users/tangminhanh/Downloads/artemis_ai/kmc/lib/python3.9/site-packages (from huggingface-hub>=0.21.2->datasets) (4.10.0)\n",
            "Requirement already satisfied: charset-normalizer<4,>=2 in /Users/tangminhanh/Downloads/artemis_ai/kmc/lib/python3.9/site-packages (from requests>=2.32.1->datasets) (3.3.2)\n",
            "Requirement already satisfied: idna<4,>=2.5 in /Users/tangminhanh/Downloads/artemis_ai/kmc/lib/python3.9/site-packages (from requests>=2.32.1->datasets) (3.6)\n",
            "Requirement already satisfied: urllib3<3,>=1.21.1 in /Users/tangminhanh/Downloads/artemis_ai/kmc/lib/python3.9/site-packages (from requests>=2.32.1->datasets) (2.2.1)\n",
            "Requirement already satisfied: certifi>=2017.4.17 in /Users/tangminhanh/Downloads/artemis_ai/kmc/lib/python3.9/site-packages (from requests>=2.32.1->datasets) (2024.2.2)\n",
            "Requirement already satisfied: sympy in /Users/tangminhanh/Downloads/artemis_ai/kmc/lib/python3.9/site-packages (from torch>=1.10.0->accelerate) (1.12)\n",
            "Requirement already satisfied: networkx in /Users/tangminhanh/Downloads/artemis_ai/kmc/lib/python3.9/site-packages (from torch>=1.10.0->accelerate) (3.2.1)\n",
            "Requirement already satisfied: jinja2 in /Users/tangminhanh/Downloads/artemis_ai/kmc/lib/python3.9/site-packages (from torch>=1.10.0->accelerate) (3.1.3)\n",
            "Requirement already satisfied: python-dateutil>=2.8.2 in /Users/tangminhanh/Downloads/artemis_ai/kmc/lib/python3.9/site-packages (from pandas->datasets) (2.9.0.post0)\n",
            "Requirement already satisfied: pytz>=2020.1 in /Users/tangminhanh/Downloads/artemis_ai/kmc/lib/python3.9/site-packages (from pandas->datasets) (2024.1)\n",
            "Requirement already satisfied: tzdata>=2022.7 in /Users/tangminhanh/Downloads/artemis_ai/kmc/lib/python3.9/site-packages (from pandas->datasets) (2024.1)\n",
            "Requirement already satisfied: six>=1.5 in /Users/tangminhanh/Downloads/artemis_ai/kmc/lib/python3.9/site-packages (from python-dateutil>=2.8.2->pandas->datasets) (1.16.0)\n",
            "Requirement already satisfied: MarkupSafe>=2.0 in /Users/tangminhanh/Downloads/artemis_ai/kmc/lib/python3.9/site-packages (from jinja2->torch>=1.10.0->accelerate) (2.1.5)\n",
            "Requirement already satisfied: mpmath>=0.19 in /Users/tangminhanh/Downloads/artemis_ai/kmc/lib/python3.9/site-packages (from sympy->torch>=1.10.0->accelerate) (1.3.0)\n",
            "Downloading evaluate-0.4.2-py3-none-any.whl (84 kB)\n",
            "\u001b[2K   \u001b[90m━━━━━━━━━━━━━━━━━━━━━━━━━━━━━━━━━━━━━━━━\u001b[0m \u001b[32m84.1/84.1 kB\u001b[0m \u001b[31m1.8 MB/s\u001b[0m eta \u001b[36m0:00:00\u001b[0ma \u001b[36m0:00:01\u001b[0m\n",
            "\u001b[?25hDownloading sentencepiece-0.2.0-cp39-cp39-macosx_10_9_x86_64.whl (1.2 MB)\n",
            "\u001b[2K   \u001b[90m━━━━━━━━━━━━━━━━━━━━━━━━━━━━━━━━━━━━━━━━\u001b[0m \u001b[32m1.2/1.2 MB\u001b[0m \u001b[31m8.9 MB/s\u001b[0m eta \u001b[36m0:00:00\u001b[0ma \u001b[36m0:00:01\u001b[0m\n",
            "\u001b[?25hInstalling collected packages: sentencepiece, evaluate\n",
            "Successfully installed evaluate-0.4.2 sentencepiece-0.2.0\n"
          ]
        }
      ],
      "source": [
        "!pip3 install datasets transformers evaluate sentencepiece accelerate"
      ]
    },
    {
      "cell_type": "markdown",
      "metadata": {
        "id": "pfYZTTvsAQ6Q"
      },
      "source": [
        "## DeBERT Model"
      ]
    },
    {
      "cell_type": "code",
      "execution_count": 23,
      "metadata": {
        "colab": {
          "base_uri": "https://localhost:8080/"
        },
        "id": "prFX6CTX5qZQ",
        "outputId": "0f458137-c14f-4991-a922-91a1d059faae"
      },
      "outputs": [
        {
          "name": "stdout",
          "output_type": "stream",
          "text": [
            "Requirement already satisfied: datasets in /Users/tangminhanh/Downloads/artemis_ai/kmc/lib/python3.9/site-packages (2.19.2)\n",
            "Requirement already satisfied: filelock in /Users/tangminhanh/Downloads/artemis_ai/kmc/lib/python3.9/site-packages (from datasets) (3.13.3)\n",
            "Requirement already satisfied: numpy>=1.17 in /Users/tangminhanh/Downloads/artemis_ai/kmc/lib/python3.9/site-packages (from datasets) (1.26.4)\n",
            "Requirement already satisfied: pyarrow>=12.0.0 in /Users/tangminhanh/Downloads/artemis_ai/kmc/lib/python3.9/site-packages (from datasets) (16.1.0)\n",
            "Requirement already satisfied: pyarrow-hotfix in /Users/tangminhanh/Downloads/artemis_ai/kmc/lib/python3.9/site-packages (from datasets) (0.6)\n",
            "Requirement already satisfied: dill<0.3.9,>=0.3.0 in /Users/tangminhanh/Downloads/artemis_ai/kmc/lib/python3.9/site-packages (from datasets) (0.3.8)\n",
            "Requirement already satisfied: pandas in /Users/tangminhanh/Downloads/artemis_ai/kmc/lib/python3.9/site-packages (from datasets) (2.2.2)\n",
            "Requirement already satisfied: requests>=2.32.1 in /Users/tangminhanh/Downloads/artemis_ai/kmc/lib/python3.9/site-packages (from datasets) (2.32.3)\n",
            "Requirement already satisfied: tqdm>=4.62.1 in /Users/tangminhanh/Downloads/artemis_ai/kmc/lib/python3.9/site-packages (from datasets) (4.66.2)\n",
            "Requirement already satisfied: xxhash in /Users/tangminhanh/Downloads/artemis_ai/kmc/lib/python3.9/site-packages (from datasets) (3.4.1)\n",
            "Requirement already satisfied: multiprocess in /Users/tangminhanh/Downloads/artemis_ai/kmc/lib/python3.9/site-packages (from datasets) (0.70.16)\n",
            "Requirement already satisfied: fsspec<=2024.3.1,>=2023.1.0 in /Users/tangminhanh/Downloads/artemis_ai/kmc/lib/python3.9/site-packages (from fsspec[http]<=2024.3.1,>=2023.1.0->datasets) (2024.3.1)\n",
            "Requirement already satisfied: aiohttp in /Users/tangminhanh/Downloads/artemis_ai/kmc/lib/python3.9/site-packages (from datasets) (3.9.5)\n",
            "Requirement already satisfied: huggingface-hub>=0.21.2 in /Users/tangminhanh/Downloads/artemis_ai/kmc/lib/python3.9/site-packages (from datasets) (0.22.2)\n",
            "Requirement already satisfied: packaging in /Users/tangminhanh/Downloads/artemis_ai/kmc/lib/python3.9/site-packages (from datasets) (24.0)\n",
            "Requirement already satisfied: pyyaml>=5.1 in /Users/tangminhanh/Downloads/artemis_ai/kmc/lib/python3.9/site-packages (from datasets) (6.0.1)\n",
            "Requirement already satisfied: aiosignal>=1.1.2 in /Users/tangminhanh/Downloads/artemis_ai/kmc/lib/python3.9/site-packages (from aiohttp->datasets) (1.3.1)\n",
            "Requirement already satisfied: attrs>=17.3.0 in /Users/tangminhanh/Downloads/artemis_ai/kmc/lib/python3.9/site-packages (from aiohttp->datasets) (23.2.0)\n",
            "Requirement already satisfied: frozenlist>=1.1.1 in /Users/tangminhanh/Downloads/artemis_ai/kmc/lib/python3.9/site-packages (from aiohttp->datasets) (1.4.1)\n",
            "Requirement already satisfied: multidict<7.0,>=4.5 in /Users/tangminhanh/Downloads/artemis_ai/kmc/lib/python3.9/site-packages (from aiohttp->datasets) (6.0.5)\n",
            "Requirement already satisfied: yarl<2.0,>=1.0 in /Users/tangminhanh/Downloads/artemis_ai/kmc/lib/python3.9/site-packages (from aiohttp->datasets) (1.9.4)\n",
            "Requirement already satisfied: async-timeout<5.0,>=4.0 in /Users/tangminhanh/Downloads/artemis_ai/kmc/lib/python3.9/site-packages (from aiohttp->datasets) (4.0.3)\n",
            "Requirement already satisfied: typing-extensions>=3.7.4.3 in /Users/tangminhanh/Downloads/artemis_ai/kmc/lib/python3.9/site-packages (from huggingface-hub>=0.21.2->datasets) (4.10.0)\n",
            "Requirement already satisfied: charset-normalizer<4,>=2 in /Users/tangminhanh/Downloads/artemis_ai/kmc/lib/python3.9/site-packages (from requests>=2.32.1->datasets) (3.3.2)\n",
            "Requirement already satisfied: idna<4,>=2.5 in /Users/tangminhanh/Downloads/artemis_ai/kmc/lib/python3.9/site-packages (from requests>=2.32.1->datasets) (3.6)\n",
            "Requirement already satisfied: urllib3<3,>=1.21.1 in /Users/tangminhanh/Downloads/artemis_ai/kmc/lib/python3.9/site-packages (from requests>=2.32.1->datasets) (2.2.1)\n",
            "Requirement already satisfied: certifi>=2017.4.17 in /Users/tangminhanh/Downloads/artemis_ai/kmc/lib/python3.9/site-packages (from requests>=2.32.1->datasets) (2024.2.2)\n",
            "Requirement already satisfied: python-dateutil>=2.8.2 in /Users/tangminhanh/Downloads/artemis_ai/kmc/lib/python3.9/site-packages (from pandas->datasets) (2.9.0.post0)\n",
            "Requirement already satisfied: pytz>=2020.1 in /Users/tangminhanh/Downloads/artemis_ai/kmc/lib/python3.9/site-packages (from pandas->datasets) (2024.1)\n",
            "Requirement already satisfied: tzdata>=2022.7 in /Users/tangminhanh/Downloads/artemis_ai/kmc/lib/python3.9/site-packages (from pandas->datasets) (2024.1)\n",
            "Requirement already satisfied: six>=1.5 in /Users/tangminhanh/Downloads/artemis_ai/kmc/lib/python3.9/site-packages (from python-dateutil>=2.8.2->pandas->datasets) (1.16.0)\n"
          ]
        }
      ],
      "source": [
        "!pip install datasets"
      ]
    },
    {
      "cell_type": "code",
      "execution_count": 24,
      "metadata": {
        "id": "RG7aocY6-cdR"
      },
      "outputs": [],
      "source": [
        "from sklearn.model_selection import train_test_split\n",
        "train_dataset, test_dataset = train_test_split(train_data, test_size=0.2, random_state=42)"
      ]
    },
    {
      "cell_type": "code",
      "execution_count": 25,
      "metadata": {},
      "outputs": [
        {
          "data": {
            "text/plain": [
              "'cpu'"
            ]
          },
          "execution_count": 25,
          "metadata": {},
          "output_type": "execute_result"
        }
      ],
      "source": [
        "from torch import cuda \n",
        "device = 'cuda' if cuda.is_available() else 'cpu'\n",
        "device"
      ]
    },
    {
      "cell_type": "code",
      "execution_count": 26,
      "metadata": {
        "id": "gqnRL-1p50jm"
      },
      "outputs": [
        {
          "name": "stderr",
          "output_type": "stream",
          "text": [
            "/Users/tangminhanh/Downloads/artemis_ai/kmc/lib/python3.9/site-packages/tqdm/auto.py:21: TqdmWarning: IProgress not found. Please update jupyter and ipywidgets. See https://ipywidgets.readthedocs.io/en/stable/user_install.html\n",
            "  from .autonotebook import tqdm as notebook_tqdm\n"
          ]
        }
      ],
      "source": [
        "from datasets import Dataset\n",
        "train_dataset = Dataset.from_pandas(train_dataset)\n",
        "test_dataset = Dataset.from_pandas(test_dataset)"
      ]
    },
    {
      "cell_type": "code",
      "execution_count": 27,
      "metadata": {
        "colab": {
          "base_uri": "https://localhost:8080/"
        },
        "id": "u2DlKrM1_UYY",
        "outputId": "e2176722-0b18-49c9-f38f-1a2b46551ec1"
      },
      "outputs": [
        {
          "data": {
            "text/plain": [
              "Dataset({\n",
              "    features: ['Description', 'Technology Services', 'Finance', 'Projects & Design', 'Engineering', 'HR', 'Customer Success', 'Document Controller', 'Legal & Compliance', 'Marketing', 'Service Delivery External', 'Operations Team', '__index_level_0__'],\n",
              "    num_rows: 744\n",
              "})"
            ]
          },
          "execution_count": 27,
          "metadata": {},
          "output_type": "execute_result"
        }
      ],
      "source": [
        "train_dataset"
      ]
    },
    {
      "cell_type": "code",
      "execution_count": 28,
      "metadata": {
        "id": "F1j1hGp2CUqT"
      },
      "outputs": [],
      "source": [
        "departments = [col for col in train_dataset.column_names if col != 'Description']"
      ]
    },
    {
      "cell_type": "code",
      "execution_count": 29,
      "metadata": {
        "colab": {
          "base_uri": "https://localhost:8080/"
        },
        "id": "alMCqB9-Ci-8",
        "outputId": "58468e95-bb40-4687-a597-240e117c4e0f"
      },
      "outputs": [
        {
          "name": "stdout",
          "output_type": "stream",
          "text": [
            "['Technology Services', 'Finance', 'Projects & Design', 'Engineering', 'HR', 'Customer Success', 'Document Controller', 'Legal & Compliance', 'Marketing', 'Service Delivery External', 'Operations Team']\n"
          ]
        }
      ],
      "source": [
        "departments = departments[:-1]\n",
        "print(departments)"
      ]
    },
    {
      "cell_type": "code",
      "execution_count": 30,
      "metadata": {
        "id": "PiFMb3wTBCmF"
      },
      "outputs": [],
      "source": [
        "department2id = {department: id for id, department in enumerate(departments)}\n",
        "id2department = {id:department for department, id in department2id.items()}"
      ]
    },
    {
      "cell_type": "code",
      "execution_count": 31,
      "metadata": {
        "colab": {
          "base_uri": "https://localhost:8080/"
        },
        "id": "9qGTkng6y_9q",
        "outputId": "d8d3a093-d6cb-46c4-a0d0-0b38082d4f5c"
      },
      "outputs": [
        {
          "data": {
            "text/plain": [
              "({'Technology Services': 0,\n",
              "  'Finance': 1,\n",
              "  'Projects & Design': 2,\n",
              "  'Engineering': 3,\n",
              "  'HR': 4,\n",
              "  'Customer Success': 5,\n",
              "  'Document Controller': 6,\n",
              "  'Legal & Compliance': 7,\n",
              "  'Marketing': 8,\n",
              "  'Service Delivery External': 9,\n",
              "  'Operations Team': 10},\n",
              " {0: 'Technology Services',\n",
              "  1: 'Finance',\n",
              "  2: 'Projects & Design',\n",
              "  3: 'Engineering',\n",
              "  4: 'HR',\n",
              "  5: 'Customer Success',\n",
              "  6: 'Document Controller',\n",
              "  7: 'Legal & Compliance',\n",
              "  8: 'Marketing',\n",
              "  9: 'Service Delivery External',\n",
              "  10: 'Operations Team'})"
            ]
          },
          "execution_count": 31,
          "metadata": {},
          "output_type": "execute_result"
        }
      ],
      "source": [
        "department2id, id2department"
      ]
    },
    {
      "cell_type": "markdown",
      "metadata": {
        "id": "xNX9_WBoBvK0"
      },
      "source": [
        "### Tokenize and Process Department Label"
      ]
    },
    {
      "cell_type": "code",
      "execution_count": 34,
      "metadata": {},
      "outputs": [
        {
          "name": "stdout",
          "output_type": "stream",
          "text": [
            "Collecting protobuf\n",
            "  Downloading protobuf-5.27.1-cp38-abi3-macosx_10_9_universal2.whl.metadata (592 bytes)\n",
            "Downloading protobuf-5.27.1-cp38-abi3-macosx_10_9_universal2.whl (412 kB)\n",
            "\u001b[2K   \u001b[90m━━━━━━━━━━━━━━━━━━━━━━━━━━━━━━━━━━━━━━━━\u001b[0m \u001b[32m412.3/412.3 kB\u001b[0m \u001b[31m4.4 MB/s\u001b[0m eta \u001b[36m0:00:00\u001b[0ma \u001b[36m0:00:01\u001b[0m\n",
            "\u001b[?25hInstalling collected packages: protobuf\n",
            "Successfully installed protobuf-5.27.1\n"
          ]
        }
      ],
      "source": [
        "!pip install protobuf\n"
      ]
    },
    {
      "cell_type": "code",
      "execution_count": 35,
      "metadata": {
        "colab": {
          "base_uri": "https://localhost:8080/",
          "height": 307,
          "referenced_widgets": [
            "a09f2c8ca89b421cb3a00b09e8fe8098",
            "70ecc456ae3d4b0fa798f7a1d0bf4d65",
            "eee8b02b85014d4aa2a651ca41f9a9d2",
            "7f364f140f424db8ba428b487440c8b8",
            "402d82e4dba54bf6addf76cecc18c0e9",
            "6b9a0e6224ee4b19b994aa5a8b15b033",
            "adbd12d35cd3444e8b11d9b2f23452d8",
            "efe9c2c06f984215a0d1a74fd94bb2ec",
            "0530564903364bf59c3f167933a39469",
            "5e5fff14f4be4bc08370ce33fef69163",
            "d247789c27c041ba8f1bbaf7606fdbbe",
            "c8049f59b3e24a91b5f525b41e47dfdb",
            "7341af488cbf4f2e884ed8343de1ad5d",
            "6812ae2c43654f758fd2c1bf146acacc",
            "50210f3643a947ff835ec75304b2cf53",
            "862deeca427c4edb8149840d780ad23e",
            "373b30c1a93b4540b4fd34be9b1a66c9",
            "a5d2fb8e5e584f6781134c2e4bbaf2c3",
            "e4bd55faf1924436ad6adbbe03b0a569",
            "109b1c6c7c2c47fe9e91780a8c0de6b2",
            "d9bc239b1e80482aa218056e37e82cf8",
            "dc08b73fd201446fb49e3678b6818a4a",
            "9e29925b5c184c7eb12e0dd2c7633f78",
            "4c86601f28d748a69970d10a39b9ce33",
            "5d281fa554c94b0d9eb9fe012bbd0bce",
            "b114a7f0fae74516920e3574a1712873",
            "83197338df014cdabd32f6f50d32d579",
            "a3b5b36cb2114452a3b8991699536c3a",
            "8ddfb7b348484465bc9b013ffeea7e2f",
            "8703f69b02cd46bcb7c537b7ae6900ad",
            "2e52c55385c14f83932e2fc112babc11",
            "04701680182e42f5a98bbe570995e457",
            "6b27e8ac48034f7ba781701a363e3913"
          ]
        },
        "id": "vLFt3C9IBtL3",
        "outputId": "c312b357-b8e2-4156-ca86-264af276ebf7"
      },
      "outputs": [
        {
          "name": "stderr",
          "output_type": "stream",
          "text": [
            "Special tokens have been added in the vocabulary, make sure the associated word embeddings are fine-tuned or trained.\n",
            "/Users/tangminhanh/Downloads/artemis_ai/kmc/lib/python3.9/site-packages/transformers/convert_slow_tokenizer.py:470: UserWarning: The sentencepiece tokenizer that you are converting to a fast tokenizer uses the byte fallback option which is not implemented in the fast tokenizers. In practice this means that the fast version of the tokenizer can produce unknown tokens whereas the sentencepiece version would have converted these unknown tokens into a sequence of byte tokens matching the original piece of text.\n",
            "  warnings.warn(\n",
            "Special tokens have been added in the vocabulary, make sure the associated word embeddings are fine-tuned or trained.\n"
          ]
        }
      ],
      "source": [
        "from transformers import AutoTokenizer\n",
        "model_path = 'microsoft/deberta-v3-small'\n",
        "tokenizer = AutoTokenizer.from_pretrained(model_path)"
      ]
    },
    {
      "cell_type": "code",
      "execution_count": 36,
      "metadata": {
        "id": "Pl4YMte-B6rr"
      },
      "outputs": [],
      "source": [
        "def preprocess_function(example):\n",
        "  text = example[\"Description\"]\n",
        "  labels = [0. for _ in range(len(departments))]\n",
        "  for department in departments:\n",
        "      if example[department] == 1:\n",
        "          label_id = department2id[department]\n",
        "          labels[label_id] = 1.\n",
        "\n",
        "  example = tokenizer(text, truncation=True, padding='max_length', max_length=512)\n",
        "  example['labels'] = labels\n",
        "  return example"
      ]
    },
    {
      "cell_type": "code",
      "execution_count": 37,
      "metadata": {
        "colab": {
          "base_uri": "https://localhost:8080/",
          "height": 49,
          "referenced_widgets": [
            "4e15521c086a47b68fcb2e0df986b13a",
            "914e44d0549d4e8b8e5541261a6f6508",
            "ca5c4453a2314ee991b16f2a3ae4fcda",
            "a2ce05eba1df46c4a3c7711644eaa5b3",
            "e87ffb6cda33475396180768be0c7d0e",
            "27492512935c4e2ebbd36fc2a0066612",
            "f4217380534840f280142fc0b4e77296",
            "c71eb083a08a4374939ae552fdf17a3e",
            "bfc855ceaa8542b8aeb9456a330245e2",
            "52b6cfdd61314f73bd7866352a5289d6",
            "07a2eda6d2854484aafc47a0617a3cd6"
          ]
        },
        "id": "YtlWMQPVDEOi",
        "outputId": "764e4922-84ab-4b4c-8b5f-7533bc56f346"
      },
      "outputs": [
        {
          "name": "stderr",
          "output_type": "stream",
          "text": [
            "Map: 100%|██████████| 744/744 [00:01<00:00, 631.24 examples/s] \n"
          ]
        }
      ],
      "source": [
        "tokenized_train_dataset = train_dataset.map(preprocess_function)"
      ]
    },
    {
      "cell_type": "code",
      "execution_count": 38,
      "metadata": {
        "colab": {
          "base_uri": "https://localhost:8080/",
          "height": 49,
          "referenced_widgets": [
            "f8293f7c760946119bbc37639ec0611a",
            "224f798aa28b4c3283044a1bdd6be404",
            "6684bec4011f4120be3b61d4b1f11e02",
            "8f77b1e517bb486ba8dc911bbe77beb5",
            "6c8fed20582a4aebae67d5d94e6e76ea",
            "89d929e2cdbf44028d4ffbe1c4ace042",
            "3d57815ccc0e43bc8bb0416fb8c2c327",
            "3119299d84664a77bdd1a7752a113c74",
            "3b40f7ee3dba4bc1b26e0de4ce72dc46",
            "370e76d5721d4a26bd24170010c09e8c",
            "48aa6a1745004a03b13df84768fdd5c4"
          ]
        },
        "id": "00FKiX41D2KN",
        "outputId": "fc66a124-55c9-4151-c0ec-6d415635bfb9"
      },
      "outputs": [
        {
          "name": "stderr",
          "output_type": "stream",
          "text": [
            "Map: 100%|██████████| 187/187 [00:00<00:00, 1180.39 examples/s]\n"
          ]
        }
      ],
      "source": [
        "tokenized_test_dataset = test_dataset.map(preprocess_function)"
      ]
    },
    {
      "cell_type": "code",
      "execution_count": 39,
      "metadata": {
        "colab": {
          "base_uri": "https://localhost:8080/"
        },
        "id": "NNxXr3p6D8kD",
        "outputId": "d0c84ed0-2de9-47e8-98d7-b781a4eb63d2"
      },
      "outputs": [
        {
          "data": {
            "text/plain": [
              "Dataset({\n",
              "    features: ['Description', 'Technology Services', 'Finance', 'Projects & Design', 'Engineering', 'HR', 'Customer Success', 'Document Controller', 'Legal & Compliance', 'Marketing', 'Service Delivery External', 'Operations Team', '__index_level_0__', 'input_ids', 'token_type_ids', 'attention_mask', 'labels'],\n",
              "    num_rows: 187\n",
              "})"
            ]
          },
          "execution_count": 39,
          "metadata": {},
          "output_type": "execute_result"
        }
      ],
      "source": [
        "tokenized_test_dataset"
      ]
    },
    {
      "cell_type": "code",
      "execution_count": 40,
      "metadata": {
        "id": "E--ctCQyB66K"
      },
      "outputs": [],
      "source": [
        "from transformers import DataCollatorWithPadding\n",
        "data_collator = DataCollatorWithPadding(tokenizer=tokenizer)"
      ]
    },
    {
      "cell_type": "markdown",
      "metadata": {
        "id": "DakhGilhDiIl"
      },
      "source": [
        "### Evaluation Metrics"
      ]
    },
    {
      "cell_type": "code",
      "execution_count": 46,
      "metadata": {
        "id": "xPf6WWX1C7Wz"
      },
      "outputs": [],
      "source": [
        "from sklearn.metrics import accuracy_score, f1_score, precision_score, recall_score\n",
        "import numpy as np\n",
        "\n",
        "\n",
        "def compute_metrics(eval_pred):\n",
        "    labels = eval_pred.label_ids\n",
        "    predictions = eval_pred.predictions.argmax(-1)\n",
        "    \n",
        "    # Compute metrics\n",
        "    accuracy = accuracy_score(labels, predictions)\n",
        "    f1 = f1_score(labels, predictions, average='micro')\n",
        "    precision = precision_score(labels, predictions, average='micro')\n",
        "    recall = recall_score(labels, predictions, average='micro')\n",
        "\n",
        "    return {\"accuracy\": accuracy, \"f1\": f1, \"precision\": precision, \"recall\": recall}"
      ]
    },
    {
      "cell_type": "markdown",
      "metadata": {
        "id": "hqIfo_yhDlwO"
      },
      "source": [
        "### Model"
      ]
    },
    {
      "cell_type": "code",
      "execution_count": 42,
      "metadata": {
        "colab": {
          "base_uri": "https://localhost:8080/",
          "height": 104,
          "referenced_widgets": [
            "e6a76856f83143f3829e97af21748ff8",
            "0706289aec7b48c79d1cee18bf7bbaae",
            "dd80fbc240cb4a4cb1757a7ed2e63d31",
            "a947f3b3abbd4a7ebd042203842ae72d",
            "c60a2a86c6a94bb2b5380b4ba9ad3582",
            "2e69bd1001c740f0b59adadd45cb2c4b",
            "ce71695b24274e758d8632294cecc833",
            "15d9e0fe68a24ebfb4209eb34c9daaa9",
            "c25745530d684a2a9f979ca799b0410f",
            "0eba13521b144ca7b11e7b40c2b1188d",
            "d84dd5d4d6c24e5db9c4592766d776f2"
          ]
        },
        "id": "lYVW0YGtDEdi",
        "outputId": "b5d81358-be6d-4c31-f6c7-5d0f74f3894f"
      },
      "outputs": [
        {
          "name": "stderr",
          "output_type": "stream",
          "text": [
            "Some weights of DebertaV2ForSequenceClassification were not initialized from the model checkpoint at microsoft/deberta-v3-small and are newly initialized: ['pooler.dense.bias', 'classifier.bias', 'pooler.dense.weight', 'classifier.weight']\n",
            "You should probably TRAIN this model on a down-stream task to be able to use it for predictions and inference.\n"
          ]
        }
      ],
      "source": [
        "from transformers import AutoModelForSequenceClassification, TrainingArguments, Trainer\n",
        "\n",
        "model = AutoModelForSequenceClassification.from_pretrained(\n",
        "   model_path, num_labels=len(departments),\n",
        "           id2label=id2department, label2id=department2id,\n",
        "                       problem_type = \"multi_label_classification\")"
      ]
    },
    {
      "cell_type": "code",
      "execution_count": 43,
      "metadata": {
        "colab": {
          "base_uri": "https://localhost:8080/"
        },
        "id": "_TzhTTSJEBtQ",
        "outputId": "e95c0196-1316-44a9-e98c-4ef85a3fb944"
      },
      "outputs": [],
      "source": [
        "training_args = TrainingArguments(\n",
        "\n",
        "   output_dir=\"my_awesome_model\",\n",
        "   learning_rate=2e-5,\n",
        "   per_device_train_batch_size=8,\n",
        "   per_device_eval_batch_size=8,\n",
        "   num_train_epochs=5,\n",
        "   weight_decay=0.01,\n",
        "   evaluation_strategy=\"epoch\",\n",
        "   save_strategy=\"epoch\",\n",
        "   load_best_model_at_end=True,\n",
        ")"
      ]
    },
    {
      "cell_type": "code",
      "execution_count": 44,
      "metadata": {
        "id": "NCbPC-_rFv81"
      },
      "outputs": [],
      "source": [
        "# Initialize the trainer\n",
        "trainer = Trainer(\n",
        "    model=model,\n",
        "    args=training_args,\n",
        "    train_dataset=tokenized_train_dataset,\n",
        "    eval_dataset=tokenized_test_dataset,\n",
        "    tokenizer=tokenizer,\n",
        "    data_collator=data_collator,\n",
        "    compute_metrics=compute_metrics,\n",
        ")"
      ]
    },
    {
      "cell_type": "code",
      "execution_count": null,
      "metadata": {},
      "outputs": [],
      "source": [
        "trainer.train()"
      ]
    },
    {
      "cell_type": "markdown",
      "metadata": {
        "id": "IEmllUabGs7m"
      },
      "source": [
        "## Testing Text"
      ]
    },
    {
      "cell_type": "code",
      "execution_count": null,
      "metadata": {
        "id": "3TsURfsVGze5"
      },
      "outputs": [],
      "source": [
        "trainer.evaluate()"
      ]
    },
    {
      "cell_type": "code",
      "execution_count": null,
      "metadata": {},
      "outputs": [],
      "source": [
        "def predict(text):\n",
        "    input = tokenizer(text, truncation=True, padding='max_length', return_tensors='pt').to('cuda')\n",
        "    output = model(**input)\n",
        "    probs = output[0].softmax(1)\n",
        "    pred_label_idx = probs.argmax()\n",
        "    pred_label = model.config.id2label[pred_label_idx.item()]\n",
        "\n",
        "    return probs, pred_label_idx, pred_label\n"
      ]
    },
    {
      "cell_type": "code",
      "execution_count": 49,
      "metadata": {},
      "outputs": [
        {
          "data": {
            "text/plain": [
              "'Technology Services'"
            ]
          },
          "execution_count": 49,
          "metadata": {},
          "output_type": "execute_result"
        }
      ],
      "source": []
    }
  ],
  "metadata": {
    "accelerator": "GPU",
    "colab": {
      "gpuType": "T4",
      "provenance": []
    },
    "kernelspec": {
      "display_name": "Python 3.9.19 ('kmc': venv)",
      "language": "python",
      "name": "python3"
    },
    "language_info": {
      "codemirror_mode": {
        "name": "ipython",
        "version": 3
      },
      "file_extension": ".py",
      "mimetype": "text/x-python",
      "name": "python",
      "nbconvert_exporter": "python",
      "pygments_lexer": "ipython3",
      "version": "3.9.19"
    },
    "vscode": {
      "interpreter": {
        "hash": "7862b5a6e35079c40cb2d1748d53f7678b5fa889df8274f1e4d1172b6b205b82"
      }
    },
    "widgets": {
      "application/vnd.jupyter.widget-state+json": {
        "04701680182e42f5a98bbe570995e457": {
          "model_module": "@jupyter-widgets/base",
          "model_module_version": "1.2.0",
          "model_name": "LayoutModel",
          "state": {
            "_model_module": "@jupyter-widgets/base",
            "_model_module_version": "1.2.0",
            "_model_name": "LayoutModel",
            "_view_count": null,
            "_view_module": "@jupyter-widgets/base",
            "_view_module_version": "1.2.0",
            "_view_name": "LayoutView",
            "align_content": null,
            "align_items": null,
            "align_self": null,
            "border": null,
            "bottom": null,
            "display": null,
            "flex": null,
            "flex_flow": null,
            "grid_area": null,
            "grid_auto_columns": null,
            "grid_auto_flow": null,
            "grid_auto_rows": null,
            "grid_column": null,
            "grid_gap": null,
            "grid_row": null,
            "grid_template_areas": null,
            "grid_template_columns": null,
            "grid_template_rows": null,
            "height": null,
            "justify_content": null,
            "justify_items": null,
            "left": null,
            "margin": null,
            "max_height": null,
            "max_width": null,
            "min_height": null,
            "min_width": null,
            "object_fit": null,
            "object_position": null,
            "order": null,
            "overflow": null,
            "overflow_x": null,
            "overflow_y": null,
            "padding": null,
            "right": null,
            "top": null,
            "visibility": null,
            "width": null
          }
        },
        "0530564903364bf59c3f167933a39469": {
          "model_module": "@jupyter-widgets/controls",
          "model_module_version": "1.5.0",
          "model_name": "ProgressStyleModel",
          "state": {
            "_model_module": "@jupyter-widgets/controls",
            "_model_module_version": "1.5.0",
            "_model_name": "ProgressStyleModel",
            "_view_count": null,
            "_view_module": "@jupyter-widgets/base",
            "_view_module_version": "1.2.0",
            "_view_name": "StyleView",
            "bar_color": null,
            "description_width": ""
          }
        },
        "0706289aec7b48c79d1cee18bf7bbaae": {
          "model_module": "@jupyter-widgets/controls",
          "model_module_version": "1.5.0",
          "model_name": "HTMLModel",
          "state": {
            "_dom_classes": [],
            "_model_module": "@jupyter-widgets/controls",
            "_model_module_version": "1.5.0",
            "_model_name": "HTMLModel",
            "_view_count": null,
            "_view_module": "@jupyter-widgets/controls",
            "_view_module_version": "1.5.0",
            "_view_name": "HTMLView",
            "description": "",
            "description_tooltip": null,
            "layout": "IPY_MODEL_2e69bd1001c740f0b59adadd45cb2c4b",
            "placeholder": "​",
            "style": "IPY_MODEL_ce71695b24274e758d8632294cecc833",
            "value": "pytorch_model.bin: 100%"
          }
        },
        "07a2eda6d2854484aafc47a0617a3cd6": {
          "model_module": "@jupyter-widgets/controls",
          "model_module_version": "1.5.0",
          "model_name": "DescriptionStyleModel",
          "state": {
            "_model_module": "@jupyter-widgets/controls",
            "_model_module_version": "1.5.0",
            "_model_name": "DescriptionStyleModel",
            "_view_count": null,
            "_view_module": "@jupyter-widgets/base",
            "_view_module_version": "1.2.0",
            "_view_name": "StyleView",
            "description_width": ""
          }
        },
        "0eba13521b144ca7b11e7b40c2b1188d": {
          "model_module": "@jupyter-widgets/base",
          "model_module_version": "1.2.0",
          "model_name": "LayoutModel",
          "state": {
            "_model_module": "@jupyter-widgets/base",
            "_model_module_version": "1.2.0",
            "_model_name": "LayoutModel",
            "_view_count": null,
            "_view_module": "@jupyter-widgets/base",
            "_view_module_version": "1.2.0",
            "_view_name": "LayoutView",
            "align_content": null,
            "align_items": null,
            "align_self": null,
            "border": null,
            "bottom": null,
            "display": null,
            "flex": null,
            "flex_flow": null,
            "grid_area": null,
            "grid_auto_columns": null,
            "grid_auto_flow": null,
            "grid_auto_rows": null,
            "grid_column": null,
            "grid_gap": null,
            "grid_row": null,
            "grid_template_areas": null,
            "grid_template_columns": null,
            "grid_template_rows": null,
            "height": null,
            "justify_content": null,
            "justify_items": null,
            "left": null,
            "margin": null,
            "max_height": null,
            "max_width": null,
            "min_height": null,
            "min_width": null,
            "object_fit": null,
            "object_position": null,
            "order": null,
            "overflow": null,
            "overflow_x": null,
            "overflow_y": null,
            "padding": null,
            "right": null,
            "top": null,
            "visibility": null,
            "width": null
          }
        },
        "109b1c6c7c2c47fe9e91780a8c0de6b2": {
          "model_module": "@jupyter-widgets/controls",
          "model_module_version": "1.5.0",
          "model_name": "ProgressStyleModel",
          "state": {
            "_model_module": "@jupyter-widgets/controls",
            "_model_module_version": "1.5.0",
            "_model_name": "ProgressStyleModel",
            "_view_count": null,
            "_view_module": "@jupyter-widgets/base",
            "_view_module_version": "1.2.0",
            "_view_name": "StyleView",
            "bar_color": null,
            "description_width": ""
          }
        },
        "15d9e0fe68a24ebfb4209eb34c9daaa9": {
          "model_module": "@jupyter-widgets/base",
          "model_module_version": "1.2.0",
          "model_name": "LayoutModel",
          "state": {
            "_model_module": "@jupyter-widgets/base",
            "_model_module_version": "1.2.0",
            "_model_name": "LayoutModel",
            "_view_count": null,
            "_view_module": "@jupyter-widgets/base",
            "_view_module_version": "1.2.0",
            "_view_name": "LayoutView",
            "align_content": null,
            "align_items": null,
            "align_self": null,
            "border": null,
            "bottom": null,
            "display": null,
            "flex": null,
            "flex_flow": null,
            "grid_area": null,
            "grid_auto_columns": null,
            "grid_auto_flow": null,
            "grid_auto_rows": null,
            "grid_column": null,
            "grid_gap": null,
            "grid_row": null,
            "grid_template_areas": null,
            "grid_template_columns": null,
            "grid_template_rows": null,
            "height": null,
            "justify_content": null,
            "justify_items": null,
            "left": null,
            "margin": null,
            "max_height": null,
            "max_width": null,
            "min_height": null,
            "min_width": null,
            "object_fit": null,
            "object_position": null,
            "order": null,
            "overflow": null,
            "overflow_x": null,
            "overflow_y": null,
            "padding": null,
            "right": null,
            "top": null,
            "visibility": null,
            "width": null
          }
        },
        "224f798aa28b4c3283044a1bdd6be404": {
          "model_module": "@jupyter-widgets/controls",
          "model_module_version": "1.5.0",
          "model_name": "HTMLModel",
          "state": {
            "_dom_classes": [],
            "_model_module": "@jupyter-widgets/controls",
            "_model_module_version": "1.5.0",
            "_model_name": "HTMLModel",
            "_view_count": null,
            "_view_module": "@jupyter-widgets/controls",
            "_view_module_version": "1.5.0",
            "_view_name": "HTMLView",
            "description": "",
            "description_tooltip": null,
            "layout": "IPY_MODEL_89d929e2cdbf44028d4ffbe1c4ace042",
            "placeholder": "​",
            "style": "IPY_MODEL_3d57815ccc0e43bc8bb0416fb8c2c327",
            "value": "Map: 100%"
          }
        },
        "27492512935c4e2ebbd36fc2a0066612": {
          "model_module": "@jupyter-widgets/base",
          "model_module_version": "1.2.0",
          "model_name": "LayoutModel",
          "state": {
            "_model_module": "@jupyter-widgets/base",
            "_model_module_version": "1.2.0",
            "_model_name": "LayoutModel",
            "_view_count": null,
            "_view_module": "@jupyter-widgets/base",
            "_view_module_version": "1.2.0",
            "_view_name": "LayoutView",
            "align_content": null,
            "align_items": null,
            "align_self": null,
            "border": null,
            "bottom": null,
            "display": null,
            "flex": null,
            "flex_flow": null,
            "grid_area": null,
            "grid_auto_columns": null,
            "grid_auto_flow": null,
            "grid_auto_rows": null,
            "grid_column": null,
            "grid_gap": null,
            "grid_row": null,
            "grid_template_areas": null,
            "grid_template_columns": null,
            "grid_template_rows": null,
            "height": null,
            "justify_content": null,
            "justify_items": null,
            "left": null,
            "margin": null,
            "max_height": null,
            "max_width": null,
            "min_height": null,
            "min_width": null,
            "object_fit": null,
            "object_position": null,
            "order": null,
            "overflow": null,
            "overflow_x": null,
            "overflow_y": null,
            "padding": null,
            "right": null,
            "top": null,
            "visibility": null,
            "width": null
          }
        },
        "2e52c55385c14f83932e2fc112babc11": {
          "model_module": "@jupyter-widgets/controls",
          "model_module_version": "1.5.0",
          "model_name": "ProgressStyleModel",
          "state": {
            "_model_module": "@jupyter-widgets/controls",
            "_model_module_version": "1.5.0",
            "_model_name": "ProgressStyleModel",
            "_view_count": null,
            "_view_module": "@jupyter-widgets/base",
            "_view_module_version": "1.2.0",
            "_view_name": "StyleView",
            "bar_color": null,
            "description_width": ""
          }
        },
        "2e69bd1001c740f0b59adadd45cb2c4b": {
          "model_module": "@jupyter-widgets/base",
          "model_module_version": "1.2.0",
          "model_name": "LayoutModel",
          "state": {
            "_model_module": "@jupyter-widgets/base",
            "_model_module_version": "1.2.0",
            "_model_name": "LayoutModel",
            "_view_count": null,
            "_view_module": "@jupyter-widgets/base",
            "_view_module_version": "1.2.0",
            "_view_name": "LayoutView",
            "align_content": null,
            "align_items": null,
            "align_self": null,
            "border": null,
            "bottom": null,
            "display": null,
            "flex": null,
            "flex_flow": null,
            "grid_area": null,
            "grid_auto_columns": null,
            "grid_auto_flow": null,
            "grid_auto_rows": null,
            "grid_column": null,
            "grid_gap": null,
            "grid_row": null,
            "grid_template_areas": null,
            "grid_template_columns": null,
            "grid_template_rows": null,
            "height": null,
            "justify_content": null,
            "justify_items": null,
            "left": null,
            "margin": null,
            "max_height": null,
            "max_width": null,
            "min_height": null,
            "min_width": null,
            "object_fit": null,
            "object_position": null,
            "order": null,
            "overflow": null,
            "overflow_x": null,
            "overflow_y": null,
            "padding": null,
            "right": null,
            "top": null,
            "visibility": null,
            "width": null
          }
        },
        "3119299d84664a77bdd1a7752a113c74": {
          "model_module": "@jupyter-widgets/base",
          "model_module_version": "1.2.0",
          "model_name": "LayoutModel",
          "state": {
            "_model_module": "@jupyter-widgets/base",
            "_model_module_version": "1.2.0",
            "_model_name": "LayoutModel",
            "_view_count": null,
            "_view_module": "@jupyter-widgets/base",
            "_view_module_version": "1.2.0",
            "_view_name": "LayoutView",
            "align_content": null,
            "align_items": null,
            "align_self": null,
            "border": null,
            "bottom": null,
            "display": null,
            "flex": null,
            "flex_flow": null,
            "grid_area": null,
            "grid_auto_columns": null,
            "grid_auto_flow": null,
            "grid_auto_rows": null,
            "grid_column": null,
            "grid_gap": null,
            "grid_row": null,
            "grid_template_areas": null,
            "grid_template_columns": null,
            "grid_template_rows": null,
            "height": null,
            "justify_content": null,
            "justify_items": null,
            "left": null,
            "margin": null,
            "max_height": null,
            "max_width": null,
            "min_height": null,
            "min_width": null,
            "object_fit": null,
            "object_position": null,
            "order": null,
            "overflow": null,
            "overflow_x": null,
            "overflow_y": null,
            "padding": null,
            "right": null,
            "top": null,
            "visibility": null,
            "width": null
          }
        },
        "370e76d5721d4a26bd24170010c09e8c": {
          "model_module": "@jupyter-widgets/base",
          "model_module_version": "1.2.0",
          "model_name": "LayoutModel",
          "state": {
            "_model_module": "@jupyter-widgets/base",
            "_model_module_version": "1.2.0",
            "_model_name": "LayoutModel",
            "_view_count": null,
            "_view_module": "@jupyter-widgets/base",
            "_view_module_version": "1.2.0",
            "_view_name": "LayoutView",
            "align_content": null,
            "align_items": null,
            "align_self": null,
            "border": null,
            "bottom": null,
            "display": null,
            "flex": null,
            "flex_flow": null,
            "grid_area": null,
            "grid_auto_columns": null,
            "grid_auto_flow": null,
            "grid_auto_rows": null,
            "grid_column": null,
            "grid_gap": null,
            "grid_row": null,
            "grid_template_areas": null,
            "grid_template_columns": null,
            "grid_template_rows": null,
            "height": null,
            "justify_content": null,
            "justify_items": null,
            "left": null,
            "margin": null,
            "max_height": null,
            "max_width": null,
            "min_height": null,
            "min_width": null,
            "object_fit": null,
            "object_position": null,
            "order": null,
            "overflow": null,
            "overflow_x": null,
            "overflow_y": null,
            "padding": null,
            "right": null,
            "top": null,
            "visibility": null,
            "width": null
          }
        },
        "373b30c1a93b4540b4fd34be9b1a66c9": {
          "model_module": "@jupyter-widgets/base",
          "model_module_version": "1.2.0",
          "model_name": "LayoutModel",
          "state": {
            "_model_module": "@jupyter-widgets/base",
            "_model_module_version": "1.2.0",
            "_model_name": "LayoutModel",
            "_view_count": null,
            "_view_module": "@jupyter-widgets/base",
            "_view_module_version": "1.2.0",
            "_view_name": "LayoutView",
            "align_content": null,
            "align_items": null,
            "align_self": null,
            "border": null,
            "bottom": null,
            "display": null,
            "flex": null,
            "flex_flow": null,
            "grid_area": null,
            "grid_auto_columns": null,
            "grid_auto_flow": null,
            "grid_auto_rows": null,
            "grid_column": null,
            "grid_gap": null,
            "grid_row": null,
            "grid_template_areas": null,
            "grid_template_columns": null,
            "grid_template_rows": null,
            "height": null,
            "justify_content": null,
            "justify_items": null,
            "left": null,
            "margin": null,
            "max_height": null,
            "max_width": null,
            "min_height": null,
            "min_width": null,
            "object_fit": null,
            "object_position": null,
            "order": null,
            "overflow": null,
            "overflow_x": null,
            "overflow_y": null,
            "padding": null,
            "right": null,
            "top": null,
            "visibility": null,
            "width": null
          }
        },
        "3b40f7ee3dba4bc1b26e0de4ce72dc46": {
          "model_module": "@jupyter-widgets/controls",
          "model_module_version": "1.5.0",
          "model_name": "ProgressStyleModel",
          "state": {
            "_model_module": "@jupyter-widgets/controls",
            "_model_module_version": "1.5.0",
            "_model_name": "ProgressStyleModel",
            "_view_count": null,
            "_view_module": "@jupyter-widgets/base",
            "_view_module_version": "1.2.0",
            "_view_name": "StyleView",
            "bar_color": null,
            "description_width": ""
          }
        },
        "3d57815ccc0e43bc8bb0416fb8c2c327": {
          "model_module": "@jupyter-widgets/controls",
          "model_module_version": "1.5.0",
          "model_name": "DescriptionStyleModel",
          "state": {
            "_model_module": "@jupyter-widgets/controls",
            "_model_module_version": "1.5.0",
            "_model_name": "DescriptionStyleModel",
            "_view_count": null,
            "_view_module": "@jupyter-widgets/base",
            "_view_module_version": "1.2.0",
            "_view_name": "StyleView",
            "description_width": ""
          }
        },
        "402d82e4dba54bf6addf76cecc18c0e9": {
          "model_module": "@jupyter-widgets/base",
          "model_module_version": "1.2.0",
          "model_name": "LayoutModel",
          "state": {
            "_model_module": "@jupyter-widgets/base",
            "_model_module_version": "1.2.0",
            "_model_name": "LayoutModel",
            "_view_count": null,
            "_view_module": "@jupyter-widgets/base",
            "_view_module_version": "1.2.0",
            "_view_name": "LayoutView",
            "align_content": null,
            "align_items": null,
            "align_self": null,
            "border": null,
            "bottom": null,
            "display": null,
            "flex": null,
            "flex_flow": null,
            "grid_area": null,
            "grid_auto_columns": null,
            "grid_auto_flow": null,
            "grid_auto_rows": null,
            "grid_column": null,
            "grid_gap": null,
            "grid_row": null,
            "grid_template_areas": null,
            "grid_template_columns": null,
            "grid_template_rows": null,
            "height": null,
            "justify_content": null,
            "justify_items": null,
            "left": null,
            "margin": null,
            "max_height": null,
            "max_width": null,
            "min_height": null,
            "min_width": null,
            "object_fit": null,
            "object_position": null,
            "order": null,
            "overflow": null,
            "overflow_x": null,
            "overflow_y": null,
            "padding": null,
            "right": null,
            "top": null,
            "visibility": null,
            "width": null
          }
        },
        "48aa6a1745004a03b13df84768fdd5c4": {
          "model_module": "@jupyter-widgets/controls",
          "model_module_version": "1.5.0",
          "model_name": "DescriptionStyleModel",
          "state": {
            "_model_module": "@jupyter-widgets/controls",
            "_model_module_version": "1.5.0",
            "_model_name": "DescriptionStyleModel",
            "_view_count": null,
            "_view_module": "@jupyter-widgets/base",
            "_view_module_version": "1.2.0",
            "_view_name": "StyleView",
            "description_width": ""
          }
        },
        "4c86601f28d748a69970d10a39b9ce33": {
          "model_module": "@jupyter-widgets/controls",
          "model_module_version": "1.5.0",
          "model_name": "HTMLModel",
          "state": {
            "_dom_classes": [],
            "_model_module": "@jupyter-widgets/controls",
            "_model_module_version": "1.5.0",
            "_model_name": "HTMLModel",
            "_view_count": null,
            "_view_module": "@jupyter-widgets/controls",
            "_view_module_version": "1.5.0",
            "_view_name": "HTMLView",
            "description": "",
            "description_tooltip": null,
            "layout": "IPY_MODEL_a3b5b36cb2114452a3b8991699536c3a",
            "placeholder": "​",
            "style": "IPY_MODEL_8ddfb7b348484465bc9b013ffeea7e2f",
            "value": "spm.model: 100%"
          }
        },
        "4e15521c086a47b68fcb2e0df986b13a": {
          "model_module": "@jupyter-widgets/controls",
          "model_module_version": "1.5.0",
          "model_name": "HBoxModel",
          "state": {
            "_dom_classes": [],
            "_model_module": "@jupyter-widgets/controls",
            "_model_module_version": "1.5.0",
            "_model_name": "HBoxModel",
            "_view_count": null,
            "_view_module": "@jupyter-widgets/controls",
            "_view_module_version": "1.5.0",
            "_view_name": "HBoxView",
            "box_style": "",
            "children": [
              "IPY_MODEL_914e44d0549d4e8b8e5541261a6f6508",
              "IPY_MODEL_ca5c4453a2314ee991b16f2a3ae4fcda",
              "IPY_MODEL_a2ce05eba1df46c4a3c7711644eaa5b3"
            ],
            "layout": "IPY_MODEL_e87ffb6cda33475396180768be0c7d0e"
          }
        },
        "50210f3643a947ff835ec75304b2cf53": {
          "model_module": "@jupyter-widgets/controls",
          "model_module_version": "1.5.0",
          "model_name": "HTMLModel",
          "state": {
            "_dom_classes": [],
            "_model_module": "@jupyter-widgets/controls",
            "_model_module_version": "1.5.0",
            "_model_name": "HTMLModel",
            "_view_count": null,
            "_view_module": "@jupyter-widgets/controls",
            "_view_module_version": "1.5.0",
            "_view_name": "HTMLView",
            "description": "",
            "description_tooltip": null,
            "layout": "IPY_MODEL_d9bc239b1e80482aa218056e37e82cf8",
            "placeholder": "​",
            "style": "IPY_MODEL_dc08b73fd201446fb49e3678b6818a4a",
            "value": " 578/578 [00:00&lt;00:00, 37.3kB/s]"
          }
        },
        "52b6cfdd61314f73bd7866352a5289d6": {
          "model_module": "@jupyter-widgets/base",
          "model_module_version": "1.2.0",
          "model_name": "LayoutModel",
          "state": {
            "_model_module": "@jupyter-widgets/base",
            "_model_module_version": "1.2.0",
            "_model_name": "LayoutModel",
            "_view_count": null,
            "_view_module": "@jupyter-widgets/base",
            "_view_module_version": "1.2.0",
            "_view_name": "LayoutView",
            "align_content": null,
            "align_items": null,
            "align_self": null,
            "border": null,
            "bottom": null,
            "display": null,
            "flex": null,
            "flex_flow": null,
            "grid_area": null,
            "grid_auto_columns": null,
            "grid_auto_flow": null,
            "grid_auto_rows": null,
            "grid_column": null,
            "grid_gap": null,
            "grid_row": null,
            "grid_template_areas": null,
            "grid_template_columns": null,
            "grid_template_rows": null,
            "height": null,
            "justify_content": null,
            "justify_items": null,
            "left": null,
            "margin": null,
            "max_height": null,
            "max_width": null,
            "min_height": null,
            "min_width": null,
            "object_fit": null,
            "object_position": null,
            "order": null,
            "overflow": null,
            "overflow_x": null,
            "overflow_y": null,
            "padding": null,
            "right": null,
            "top": null,
            "visibility": null,
            "width": null
          }
        },
        "5d281fa554c94b0d9eb9fe012bbd0bce": {
          "model_module": "@jupyter-widgets/controls",
          "model_module_version": "1.5.0",
          "model_name": "FloatProgressModel",
          "state": {
            "_dom_classes": [],
            "_model_module": "@jupyter-widgets/controls",
            "_model_module_version": "1.5.0",
            "_model_name": "FloatProgressModel",
            "_view_count": null,
            "_view_module": "@jupyter-widgets/controls",
            "_view_module_version": "1.5.0",
            "_view_name": "ProgressView",
            "bar_style": "success",
            "description": "",
            "description_tooltip": null,
            "layout": "IPY_MODEL_8703f69b02cd46bcb7c537b7ae6900ad",
            "max": 2464616,
            "min": 0,
            "orientation": "horizontal",
            "style": "IPY_MODEL_2e52c55385c14f83932e2fc112babc11",
            "value": 2464616
          }
        },
        "5e5fff14f4be4bc08370ce33fef69163": {
          "model_module": "@jupyter-widgets/base",
          "model_module_version": "1.2.0",
          "model_name": "LayoutModel",
          "state": {
            "_model_module": "@jupyter-widgets/base",
            "_model_module_version": "1.2.0",
            "_model_name": "LayoutModel",
            "_view_count": null,
            "_view_module": "@jupyter-widgets/base",
            "_view_module_version": "1.2.0",
            "_view_name": "LayoutView",
            "align_content": null,
            "align_items": null,
            "align_self": null,
            "border": null,
            "bottom": null,
            "display": null,
            "flex": null,
            "flex_flow": null,
            "grid_area": null,
            "grid_auto_columns": null,
            "grid_auto_flow": null,
            "grid_auto_rows": null,
            "grid_column": null,
            "grid_gap": null,
            "grid_row": null,
            "grid_template_areas": null,
            "grid_template_columns": null,
            "grid_template_rows": null,
            "height": null,
            "justify_content": null,
            "justify_items": null,
            "left": null,
            "margin": null,
            "max_height": null,
            "max_width": null,
            "min_height": null,
            "min_width": null,
            "object_fit": null,
            "object_position": null,
            "order": null,
            "overflow": null,
            "overflow_x": null,
            "overflow_y": null,
            "padding": null,
            "right": null,
            "top": null,
            "visibility": null,
            "width": null
          }
        },
        "6684bec4011f4120be3b61d4b1f11e02": {
          "model_module": "@jupyter-widgets/controls",
          "model_module_version": "1.5.0",
          "model_name": "FloatProgressModel",
          "state": {
            "_dom_classes": [],
            "_model_module": "@jupyter-widgets/controls",
            "_model_module_version": "1.5.0",
            "_model_name": "FloatProgressModel",
            "_view_count": null,
            "_view_module": "@jupyter-widgets/controls",
            "_view_module_version": "1.5.0",
            "_view_name": "ProgressView",
            "bar_style": "success",
            "description": "",
            "description_tooltip": null,
            "layout": "IPY_MODEL_3119299d84664a77bdd1a7752a113c74",
            "max": 187,
            "min": 0,
            "orientation": "horizontal",
            "style": "IPY_MODEL_3b40f7ee3dba4bc1b26e0de4ce72dc46",
            "value": 187
          }
        },
        "6812ae2c43654f758fd2c1bf146acacc": {
          "model_module": "@jupyter-widgets/controls",
          "model_module_version": "1.5.0",
          "model_name": "FloatProgressModel",
          "state": {
            "_dom_classes": [],
            "_model_module": "@jupyter-widgets/controls",
            "_model_module_version": "1.5.0",
            "_model_name": "FloatProgressModel",
            "_view_count": null,
            "_view_module": "@jupyter-widgets/controls",
            "_view_module_version": "1.5.0",
            "_view_name": "ProgressView",
            "bar_style": "success",
            "description": "",
            "description_tooltip": null,
            "layout": "IPY_MODEL_e4bd55faf1924436ad6adbbe03b0a569",
            "max": 578,
            "min": 0,
            "orientation": "horizontal",
            "style": "IPY_MODEL_109b1c6c7c2c47fe9e91780a8c0de6b2",
            "value": 578
          }
        },
        "6b27e8ac48034f7ba781701a363e3913": {
          "model_module": "@jupyter-widgets/controls",
          "model_module_version": "1.5.0",
          "model_name": "DescriptionStyleModel",
          "state": {
            "_model_module": "@jupyter-widgets/controls",
            "_model_module_version": "1.5.0",
            "_model_name": "DescriptionStyleModel",
            "_view_count": null,
            "_view_module": "@jupyter-widgets/base",
            "_view_module_version": "1.2.0",
            "_view_name": "StyleView",
            "description_width": ""
          }
        },
        "6b9a0e6224ee4b19b994aa5a8b15b033": {
          "model_module": "@jupyter-widgets/base",
          "model_module_version": "1.2.0",
          "model_name": "LayoutModel",
          "state": {
            "_model_module": "@jupyter-widgets/base",
            "_model_module_version": "1.2.0",
            "_model_name": "LayoutModel",
            "_view_count": null,
            "_view_module": "@jupyter-widgets/base",
            "_view_module_version": "1.2.0",
            "_view_name": "LayoutView",
            "align_content": null,
            "align_items": null,
            "align_self": null,
            "border": null,
            "bottom": null,
            "display": null,
            "flex": null,
            "flex_flow": null,
            "grid_area": null,
            "grid_auto_columns": null,
            "grid_auto_flow": null,
            "grid_auto_rows": null,
            "grid_column": null,
            "grid_gap": null,
            "grid_row": null,
            "grid_template_areas": null,
            "grid_template_columns": null,
            "grid_template_rows": null,
            "height": null,
            "justify_content": null,
            "justify_items": null,
            "left": null,
            "margin": null,
            "max_height": null,
            "max_width": null,
            "min_height": null,
            "min_width": null,
            "object_fit": null,
            "object_position": null,
            "order": null,
            "overflow": null,
            "overflow_x": null,
            "overflow_y": null,
            "padding": null,
            "right": null,
            "top": null,
            "visibility": null,
            "width": null
          }
        },
        "6c8fed20582a4aebae67d5d94e6e76ea": {
          "model_module": "@jupyter-widgets/base",
          "model_module_version": "1.2.0",
          "model_name": "LayoutModel",
          "state": {
            "_model_module": "@jupyter-widgets/base",
            "_model_module_version": "1.2.0",
            "_model_name": "LayoutModel",
            "_view_count": null,
            "_view_module": "@jupyter-widgets/base",
            "_view_module_version": "1.2.0",
            "_view_name": "LayoutView",
            "align_content": null,
            "align_items": null,
            "align_self": null,
            "border": null,
            "bottom": null,
            "display": null,
            "flex": null,
            "flex_flow": null,
            "grid_area": null,
            "grid_auto_columns": null,
            "grid_auto_flow": null,
            "grid_auto_rows": null,
            "grid_column": null,
            "grid_gap": null,
            "grid_row": null,
            "grid_template_areas": null,
            "grid_template_columns": null,
            "grid_template_rows": null,
            "height": null,
            "justify_content": null,
            "justify_items": null,
            "left": null,
            "margin": null,
            "max_height": null,
            "max_width": null,
            "min_height": null,
            "min_width": null,
            "object_fit": null,
            "object_position": null,
            "order": null,
            "overflow": null,
            "overflow_x": null,
            "overflow_y": null,
            "padding": null,
            "right": null,
            "top": null,
            "visibility": null,
            "width": null
          }
        },
        "70ecc456ae3d4b0fa798f7a1d0bf4d65": {
          "model_module": "@jupyter-widgets/controls",
          "model_module_version": "1.5.0",
          "model_name": "HTMLModel",
          "state": {
            "_dom_classes": [],
            "_model_module": "@jupyter-widgets/controls",
            "_model_module_version": "1.5.0",
            "_model_name": "HTMLModel",
            "_view_count": null,
            "_view_module": "@jupyter-widgets/controls",
            "_view_module_version": "1.5.0",
            "_view_name": "HTMLView",
            "description": "",
            "description_tooltip": null,
            "layout": "IPY_MODEL_6b9a0e6224ee4b19b994aa5a8b15b033",
            "placeholder": "​",
            "style": "IPY_MODEL_adbd12d35cd3444e8b11d9b2f23452d8",
            "value": "tokenizer_config.json: 100%"
          }
        },
        "7341af488cbf4f2e884ed8343de1ad5d": {
          "model_module": "@jupyter-widgets/controls",
          "model_module_version": "1.5.0",
          "model_name": "HTMLModel",
          "state": {
            "_dom_classes": [],
            "_model_module": "@jupyter-widgets/controls",
            "_model_module_version": "1.5.0",
            "_model_name": "HTMLModel",
            "_view_count": null,
            "_view_module": "@jupyter-widgets/controls",
            "_view_module_version": "1.5.0",
            "_view_name": "HTMLView",
            "description": "",
            "description_tooltip": null,
            "layout": "IPY_MODEL_373b30c1a93b4540b4fd34be9b1a66c9",
            "placeholder": "​",
            "style": "IPY_MODEL_a5d2fb8e5e584f6781134c2e4bbaf2c3",
            "value": "config.json: 100%"
          }
        },
        "7f364f140f424db8ba428b487440c8b8": {
          "model_module": "@jupyter-widgets/controls",
          "model_module_version": "1.5.0",
          "model_name": "HTMLModel",
          "state": {
            "_dom_classes": [],
            "_model_module": "@jupyter-widgets/controls",
            "_model_module_version": "1.5.0",
            "_model_name": "HTMLModel",
            "_view_count": null,
            "_view_module": "@jupyter-widgets/controls",
            "_view_module_version": "1.5.0",
            "_view_name": "HTMLView",
            "description": "",
            "description_tooltip": null,
            "layout": "IPY_MODEL_5e5fff14f4be4bc08370ce33fef69163",
            "placeholder": "​",
            "style": "IPY_MODEL_d247789c27c041ba8f1bbaf7606fdbbe",
            "value": " 52.0/52.0 [00:00&lt;00:00, 3.54kB/s]"
          }
        },
        "83197338df014cdabd32f6f50d32d579": {
          "model_module": "@jupyter-widgets/base",
          "model_module_version": "1.2.0",
          "model_name": "LayoutModel",
          "state": {
            "_model_module": "@jupyter-widgets/base",
            "_model_module_version": "1.2.0",
            "_model_name": "LayoutModel",
            "_view_count": null,
            "_view_module": "@jupyter-widgets/base",
            "_view_module_version": "1.2.0",
            "_view_name": "LayoutView",
            "align_content": null,
            "align_items": null,
            "align_self": null,
            "border": null,
            "bottom": null,
            "display": null,
            "flex": null,
            "flex_flow": null,
            "grid_area": null,
            "grid_auto_columns": null,
            "grid_auto_flow": null,
            "grid_auto_rows": null,
            "grid_column": null,
            "grid_gap": null,
            "grid_row": null,
            "grid_template_areas": null,
            "grid_template_columns": null,
            "grid_template_rows": null,
            "height": null,
            "justify_content": null,
            "justify_items": null,
            "left": null,
            "margin": null,
            "max_height": null,
            "max_width": null,
            "min_height": null,
            "min_width": null,
            "object_fit": null,
            "object_position": null,
            "order": null,
            "overflow": null,
            "overflow_x": null,
            "overflow_y": null,
            "padding": null,
            "right": null,
            "top": null,
            "visibility": null,
            "width": null
          }
        },
        "862deeca427c4edb8149840d780ad23e": {
          "model_module": "@jupyter-widgets/base",
          "model_module_version": "1.2.0",
          "model_name": "LayoutModel",
          "state": {
            "_model_module": "@jupyter-widgets/base",
            "_model_module_version": "1.2.0",
            "_model_name": "LayoutModel",
            "_view_count": null,
            "_view_module": "@jupyter-widgets/base",
            "_view_module_version": "1.2.0",
            "_view_name": "LayoutView",
            "align_content": null,
            "align_items": null,
            "align_self": null,
            "border": null,
            "bottom": null,
            "display": null,
            "flex": null,
            "flex_flow": null,
            "grid_area": null,
            "grid_auto_columns": null,
            "grid_auto_flow": null,
            "grid_auto_rows": null,
            "grid_column": null,
            "grid_gap": null,
            "grid_row": null,
            "grid_template_areas": null,
            "grid_template_columns": null,
            "grid_template_rows": null,
            "height": null,
            "justify_content": null,
            "justify_items": null,
            "left": null,
            "margin": null,
            "max_height": null,
            "max_width": null,
            "min_height": null,
            "min_width": null,
            "object_fit": null,
            "object_position": null,
            "order": null,
            "overflow": null,
            "overflow_x": null,
            "overflow_y": null,
            "padding": null,
            "right": null,
            "top": null,
            "visibility": null,
            "width": null
          }
        },
        "8703f69b02cd46bcb7c537b7ae6900ad": {
          "model_module": "@jupyter-widgets/base",
          "model_module_version": "1.2.0",
          "model_name": "LayoutModel",
          "state": {
            "_model_module": "@jupyter-widgets/base",
            "_model_module_version": "1.2.0",
            "_model_name": "LayoutModel",
            "_view_count": null,
            "_view_module": "@jupyter-widgets/base",
            "_view_module_version": "1.2.0",
            "_view_name": "LayoutView",
            "align_content": null,
            "align_items": null,
            "align_self": null,
            "border": null,
            "bottom": null,
            "display": null,
            "flex": null,
            "flex_flow": null,
            "grid_area": null,
            "grid_auto_columns": null,
            "grid_auto_flow": null,
            "grid_auto_rows": null,
            "grid_column": null,
            "grid_gap": null,
            "grid_row": null,
            "grid_template_areas": null,
            "grid_template_columns": null,
            "grid_template_rows": null,
            "height": null,
            "justify_content": null,
            "justify_items": null,
            "left": null,
            "margin": null,
            "max_height": null,
            "max_width": null,
            "min_height": null,
            "min_width": null,
            "object_fit": null,
            "object_position": null,
            "order": null,
            "overflow": null,
            "overflow_x": null,
            "overflow_y": null,
            "padding": null,
            "right": null,
            "top": null,
            "visibility": null,
            "width": null
          }
        },
        "89d929e2cdbf44028d4ffbe1c4ace042": {
          "model_module": "@jupyter-widgets/base",
          "model_module_version": "1.2.0",
          "model_name": "LayoutModel",
          "state": {
            "_model_module": "@jupyter-widgets/base",
            "_model_module_version": "1.2.0",
            "_model_name": "LayoutModel",
            "_view_count": null,
            "_view_module": "@jupyter-widgets/base",
            "_view_module_version": "1.2.0",
            "_view_name": "LayoutView",
            "align_content": null,
            "align_items": null,
            "align_self": null,
            "border": null,
            "bottom": null,
            "display": null,
            "flex": null,
            "flex_flow": null,
            "grid_area": null,
            "grid_auto_columns": null,
            "grid_auto_flow": null,
            "grid_auto_rows": null,
            "grid_column": null,
            "grid_gap": null,
            "grid_row": null,
            "grid_template_areas": null,
            "grid_template_columns": null,
            "grid_template_rows": null,
            "height": null,
            "justify_content": null,
            "justify_items": null,
            "left": null,
            "margin": null,
            "max_height": null,
            "max_width": null,
            "min_height": null,
            "min_width": null,
            "object_fit": null,
            "object_position": null,
            "order": null,
            "overflow": null,
            "overflow_x": null,
            "overflow_y": null,
            "padding": null,
            "right": null,
            "top": null,
            "visibility": null,
            "width": null
          }
        },
        "8ddfb7b348484465bc9b013ffeea7e2f": {
          "model_module": "@jupyter-widgets/controls",
          "model_module_version": "1.5.0",
          "model_name": "DescriptionStyleModel",
          "state": {
            "_model_module": "@jupyter-widgets/controls",
            "_model_module_version": "1.5.0",
            "_model_name": "DescriptionStyleModel",
            "_view_count": null,
            "_view_module": "@jupyter-widgets/base",
            "_view_module_version": "1.2.0",
            "_view_name": "StyleView",
            "description_width": ""
          }
        },
        "8f77b1e517bb486ba8dc911bbe77beb5": {
          "model_module": "@jupyter-widgets/controls",
          "model_module_version": "1.5.0",
          "model_name": "HTMLModel",
          "state": {
            "_dom_classes": [],
            "_model_module": "@jupyter-widgets/controls",
            "_model_module_version": "1.5.0",
            "_model_name": "HTMLModel",
            "_view_count": null,
            "_view_module": "@jupyter-widgets/controls",
            "_view_module_version": "1.5.0",
            "_view_name": "HTMLView",
            "description": "",
            "description_tooltip": null,
            "layout": "IPY_MODEL_370e76d5721d4a26bd24170010c09e8c",
            "placeholder": "​",
            "style": "IPY_MODEL_48aa6a1745004a03b13df84768fdd5c4",
            "value": " 187/187 [00:00&lt;00:00, 922.14 examples/s]"
          }
        },
        "914e44d0549d4e8b8e5541261a6f6508": {
          "model_module": "@jupyter-widgets/controls",
          "model_module_version": "1.5.0",
          "model_name": "HTMLModel",
          "state": {
            "_dom_classes": [],
            "_model_module": "@jupyter-widgets/controls",
            "_model_module_version": "1.5.0",
            "_model_name": "HTMLModel",
            "_view_count": null,
            "_view_module": "@jupyter-widgets/controls",
            "_view_module_version": "1.5.0",
            "_view_name": "HTMLView",
            "description": "",
            "description_tooltip": null,
            "layout": "IPY_MODEL_27492512935c4e2ebbd36fc2a0066612",
            "placeholder": "​",
            "style": "IPY_MODEL_f4217380534840f280142fc0b4e77296",
            "value": "Map: 100%"
          }
        },
        "9e29925b5c184c7eb12e0dd2c7633f78": {
          "model_module": "@jupyter-widgets/controls",
          "model_module_version": "1.5.0",
          "model_name": "HBoxModel",
          "state": {
            "_dom_classes": [],
            "_model_module": "@jupyter-widgets/controls",
            "_model_module_version": "1.5.0",
            "_model_name": "HBoxModel",
            "_view_count": null,
            "_view_module": "@jupyter-widgets/controls",
            "_view_module_version": "1.5.0",
            "_view_name": "HBoxView",
            "box_style": "",
            "children": [
              "IPY_MODEL_4c86601f28d748a69970d10a39b9ce33",
              "IPY_MODEL_5d281fa554c94b0d9eb9fe012bbd0bce",
              "IPY_MODEL_b114a7f0fae74516920e3574a1712873"
            ],
            "layout": "IPY_MODEL_83197338df014cdabd32f6f50d32d579"
          }
        },
        "a09f2c8ca89b421cb3a00b09e8fe8098": {
          "model_module": "@jupyter-widgets/controls",
          "model_module_version": "1.5.0",
          "model_name": "HBoxModel",
          "state": {
            "_dom_classes": [],
            "_model_module": "@jupyter-widgets/controls",
            "_model_module_version": "1.5.0",
            "_model_name": "HBoxModel",
            "_view_count": null,
            "_view_module": "@jupyter-widgets/controls",
            "_view_module_version": "1.5.0",
            "_view_name": "HBoxView",
            "box_style": "",
            "children": [
              "IPY_MODEL_70ecc456ae3d4b0fa798f7a1d0bf4d65",
              "IPY_MODEL_eee8b02b85014d4aa2a651ca41f9a9d2",
              "IPY_MODEL_7f364f140f424db8ba428b487440c8b8"
            ],
            "layout": "IPY_MODEL_402d82e4dba54bf6addf76cecc18c0e9"
          }
        },
        "a2ce05eba1df46c4a3c7711644eaa5b3": {
          "model_module": "@jupyter-widgets/controls",
          "model_module_version": "1.5.0",
          "model_name": "HTMLModel",
          "state": {
            "_dom_classes": [],
            "_model_module": "@jupyter-widgets/controls",
            "_model_module_version": "1.5.0",
            "_model_name": "HTMLModel",
            "_view_count": null,
            "_view_module": "@jupyter-widgets/controls",
            "_view_module_version": "1.5.0",
            "_view_name": "HTMLView",
            "description": "",
            "description_tooltip": null,
            "layout": "IPY_MODEL_52b6cfdd61314f73bd7866352a5289d6",
            "placeholder": "​",
            "style": "IPY_MODEL_07a2eda6d2854484aafc47a0617a3cd6",
            "value": " 744/744 [00:00&lt;00:00, 1462.87 examples/s]"
          }
        },
        "a3b5b36cb2114452a3b8991699536c3a": {
          "model_module": "@jupyter-widgets/base",
          "model_module_version": "1.2.0",
          "model_name": "LayoutModel",
          "state": {
            "_model_module": "@jupyter-widgets/base",
            "_model_module_version": "1.2.0",
            "_model_name": "LayoutModel",
            "_view_count": null,
            "_view_module": "@jupyter-widgets/base",
            "_view_module_version": "1.2.0",
            "_view_name": "LayoutView",
            "align_content": null,
            "align_items": null,
            "align_self": null,
            "border": null,
            "bottom": null,
            "display": null,
            "flex": null,
            "flex_flow": null,
            "grid_area": null,
            "grid_auto_columns": null,
            "grid_auto_flow": null,
            "grid_auto_rows": null,
            "grid_column": null,
            "grid_gap": null,
            "grid_row": null,
            "grid_template_areas": null,
            "grid_template_columns": null,
            "grid_template_rows": null,
            "height": null,
            "justify_content": null,
            "justify_items": null,
            "left": null,
            "margin": null,
            "max_height": null,
            "max_width": null,
            "min_height": null,
            "min_width": null,
            "object_fit": null,
            "object_position": null,
            "order": null,
            "overflow": null,
            "overflow_x": null,
            "overflow_y": null,
            "padding": null,
            "right": null,
            "top": null,
            "visibility": null,
            "width": null
          }
        },
        "a5d2fb8e5e584f6781134c2e4bbaf2c3": {
          "model_module": "@jupyter-widgets/controls",
          "model_module_version": "1.5.0",
          "model_name": "DescriptionStyleModel",
          "state": {
            "_model_module": "@jupyter-widgets/controls",
            "_model_module_version": "1.5.0",
            "_model_name": "DescriptionStyleModel",
            "_view_count": null,
            "_view_module": "@jupyter-widgets/base",
            "_view_module_version": "1.2.0",
            "_view_name": "StyleView",
            "description_width": ""
          }
        },
        "a947f3b3abbd4a7ebd042203842ae72d": {
          "model_module": "@jupyter-widgets/controls",
          "model_module_version": "1.5.0",
          "model_name": "HTMLModel",
          "state": {
            "_dom_classes": [],
            "_model_module": "@jupyter-widgets/controls",
            "_model_module_version": "1.5.0",
            "_model_name": "HTMLModel",
            "_view_count": null,
            "_view_module": "@jupyter-widgets/controls",
            "_view_module_version": "1.5.0",
            "_view_name": "HTMLView",
            "description": "",
            "description_tooltip": null,
            "layout": "IPY_MODEL_0eba13521b144ca7b11e7b40c2b1188d",
            "placeholder": "​",
            "style": "IPY_MODEL_d84dd5d4d6c24e5db9c4592766d776f2",
            "value": " 286M/286M [00:02&lt;00:00, 162MB/s]"
          }
        },
        "adbd12d35cd3444e8b11d9b2f23452d8": {
          "model_module": "@jupyter-widgets/controls",
          "model_module_version": "1.5.0",
          "model_name": "DescriptionStyleModel",
          "state": {
            "_model_module": "@jupyter-widgets/controls",
            "_model_module_version": "1.5.0",
            "_model_name": "DescriptionStyleModel",
            "_view_count": null,
            "_view_module": "@jupyter-widgets/base",
            "_view_module_version": "1.2.0",
            "_view_name": "StyleView",
            "description_width": ""
          }
        },
        "b114a7f0fae74516920e3574a1712873": {
          "model_module": "@jupyter-widgets/controls",
          "model_module_version": "1.5.0",
          "model_name": "HTMLModel",
          "state": {
            "_dom_classes": [],
            "_model_module": "@jupyter-widgets/controls",
            "_model_module_version": "1.5.0",
            "_model_name": "HTMLModel",
            "_view_count": null,
            "_view_module": "@jupyter-widgets/controls",
            "_view_module_version": "1.5.0",
            "_view_name": "HTMLView",
            "description": "",
            "description_tooltip": null,
            "layout": "IPY_MODEL_04701680182e42f5a98bbe570995e457",
            "placeholder": "​",
            "style": "IPY_MODEL_6b27e8ac48034f7ba781701a363e3913",
            "value": " 2.46M/2.46M [00:00&lt;00:00, 7.79MB/s]"
          }
        },
        "bfc855ceaa8542b8aeb9456a330245e2": {
          "model_module": "@jupyter-widgets/controls",
          "model_module_version": "1.5.0",
          "model_name": "ProgressStyleModel",
          "state": {
            "_model_module": "@jupyter-widgets/controls",
            "_model_module_version": "1.5.0",
            "_model_name": "ProgressStyleModel",
            "_view_count": null,
            "_view_module": "@jupyter-widgets/base",
            "_view_module_version": "1.2.0",
            "_view_name": "StyleView",
            "bar_color": null,
            "description_width": ""
          }
        },
        "c25745530d684a2a9f979ca799b0410f": {
          "model_module": "@jupyter-widgets/controls",
          "model_module_version": "1.5.0",
          "model_name": "ProgressStyleModel",
          "state": {
            "_model_module": "@jupyter-widgets/controls",
            "_model_module_version": "1.5.0",
            "_model_name": "ProgressStyleModel",
            "_view_count": null,
            "_view_module": "@jupyter-widgets/base",
            "_view_module_version": "1.2.0",
            "_view_name": "StyleView",
            "bar_color": null,
            "description_width": ""
          }
        },
        "c60a2a86c6a94bb2b5380b4ba9ad3582": {
          "model_module": "@jupyter-widgets/base",
          "model_module_version": "1.2.0",
          "model_name": "LayoutModel",
          "state": {
            "_model_module": "@jupyter-widgets/base",
            "_model_module_version": "1.2.0",
            "_model_name": "LayoutModel",
            "_view_count": null,
            "_view_module": "@jupyter-widgets/base",
            "_view_module_version": "1.2.0",
            "_view_name": "LayoutView",
            "align_content": null,
            "align_items": null,
            "align_self": null,
            "border": null,
            "bottom": null,
            "display": null,
            "flex": null,
            "flex_flow": null,
            "grid_area": null,
            "grid_auto_columns": null,
            "grid_auto_flow": null,
            "grid_auto_rows": null,
            "grid_column": null,
            "grid_gap": null,
            "grid_row": null,
            "grid_template_areas": null,
            "grid_template_columns": null,
            "grid_template_rows": null,
            "height": null,
            "justify_content": null,
            "justify_items": null,
            "left": null,
            "margin": null,
            "max_height": null,
            "max_width": null,
            "min_height": null,
            "min_width": null,
            "object_fit": null,
            "object_position": null,
            "order": null,
            "overflow": null,
            "overflow_x": null,
            "overflow_y": null,
            "padding": null,
            "right": null,
            "top": null,
            "visibility": null,
            "width": null
          }
        },
        "c71eb083a08a4374939ae552fdf17a3e": {
          "model_module": "@jupyter-widgets/base",
          "model_module_version": "1.2.0",
          "model_name": "LayoutModel",
          "state": {
            "_model_module": "@jupyter-widgets/base",
            "_model_module_version": "1.2.0",
            "_model_name": "LayoutModel",
            "_view_count": null,
            "_view_module": "@jupyter-widgets/base",
            "_view_module_version": "1.2.0",
            "_view_name": "LayoutView",
            "align_content": null,
            "align_items": null,
            "align_self": null,
            "border": null,
            "bottom": null,
            "display": null,
            "flex": null,
            "flex_flow": null,
            "grid_area": null,
            "grid_auto_columns": null,
            "grid_auto_flow": null,
            "grid_auto_rows": null,
            "grid_column": null,
            "grid_gap": null,
            "grid_row": null,
            "grid_template_areas": null,
            "grid_template_columns": null,
            "grid_template_rows": null,
            "height": null,
            "justify_content": null,
            "justify_items": null,
            "left": null,
            "margin": null,
            "max_height": null,
            "max_width": null,
            "min_height": null,
            "min_width": null,
            "object_fit": null,
            "object_position": null,
            "order": null,
            "overflow": null,
            "overflow_x": null,
            "overflow_y": null,
            "padding": null,
            "right": null,
            "top": null,
            "visibility": null,
            "width": null
          }
        },
        "c8049f59b3e24a91b5f525b41e47dfdb": {
          "model_module": "@jupyter-widgets/controls",
          "model_module_version": "1.5.0",
          "model_name": "HBoxModel",
          "state": {
            "_dom_classes": [],
            "_model_module": "@jupyter-widgets/controls",
            "_model_module_version": "1.5.0",
            "_model_name": "HBoxModel",
            "_view_count": null,
            "_view_module": "@jupyter-widgets/controls",
            "_view_module_version": "1.5.0",
            "_view_name": "HBoxView",
            "box_style": "",
            "children": [
              "IPY_MODEL_7341af488cbf4f2e884ed8343de1ad5d",
              "IPY_MODEL_6812ae2c43654f758fd2c1bf146acacc",
              "IPY_MODEL_50210f3643a947ff835ec75304b2cf53"
            ],
            "layout": "IPY_MODEL_862deeca427c4edb8149840d780ad23e"
          }
        },
        "ca5c4453a2314ee991b16f2a3ae4fcda": {
          "model_module": "@jupyter-widgets/controls",
          "model_module_version": "1.5.0",
          "model_name": "FloatProgressModel",
          "state": {
            "_dom_classes": [],
            "_model_module": "@jupyter-widgets/controls",
            "_model_module_version": "1.5.0",
            "_model_name": "FloatProgressModel",
            "_view_count": null,
            "_view_module": "@jupyter-widgets/controls",
            "_view_module_version": "1.5.0",
            "_view_name": "ProgressView",
            "bar_style": "success",
            "description": "",
            "description_tooltip": null,
            "layout": "IPY_MODEL_c71eb083a08a4374939ae552fdf17a3e",
            "max": 744,
            "min": 0,
            "orientation": "horizontal",
            "style": "IPY_MODEL_bfc855ceaa8542b8aeb9456a330245e2",
            "value": 744
          }
        },
        "ce71695b24274e758d8632294cecc833": {
          "model_module": "@jupyter-widgets/controls",
          "model_module_version": "1.5.0",
          "model_name": "DescriptionStyleModel",
          "state": {
            "_model_module": "@jupyter-widgets/controls",
            "_model_module_version": "1.5.0",
            "_model_name": "DescriptionStyleModel",
            "_view_count": null,
            "_view_module": "@jupyter-widgets/base",
            "_view_module_version": "1.2.0",
            "_view_name": "StyleView",
            "description_width": ""
          }
        },
        "d247789c27c041ba8f1bbaf7606fdbbe": {
          "model_module": "@jupyter-widgets/controls",
          "model_module_version": "1.5.0",
          "model_name": "DescriptionStyleModel",
          "state": {
            "_model_module": "@jupyter-widgets/controls",
            "_model_module_version": "1.5.0",
            "_model_name": "DescriptionStyleModel",
            "_view_count": null,
            "_view_module": "@jupyter-widgets/base",
            "_view_module_version": "1.2.0",
            "_view_name": "StyleView",
            "description_width": ""
          }
        },
        "d84dd5d4d6c24e5db9c4592766d776f2": {
          "model_module": "@jupyter-widgets/controls",
          "model_module_version": "1.5.0",
          "model_name": "DescriptionStyleModel",
          "state": {
            "_model_module": "@jupyter-widgets/controls",
            "_model_module_version": "1.5.0",
            "_model_name": "DescriptionStyleModel",
            "_view_count": null,
            "_view_module": "@jupyter-widgets/base",
            "_view_module_version": "1.2.0",
            "_view_name": "StyleView",
            "description_width": ""
          }
        },
        "d9bc239b1e80482aa218056e37e82cf8": {
          "model_module": "@jupyter-widgets/base",
          "model_module_version": "1.2.0",
          "model_name": "LayoutModel",
          "state": {
            "_model_module": "@jupyter-widgets/base",
            "_model_module_version": "1.2.0",
            "_model_name": "LayoutModel",
            "_view_count": null,
            "_view_module": "@jupyter-widgets/base",
            "_view_module_version": "1.2.0",
            "_view_name": "LayoutView",
            "align_content": null,
            "align_items": null,
            "align_self": null,
            "border": null,
            "bottom": null,
            "display": null,
            "flex": null,
            "flex_flow": null,
            "grid_area": null,
            "grid_auto_columns": null,
            "grid_auto_flow": null,
            "grid_auto_rows": null,
            "grid_column": null,
            "grid_gap": null,
            "grid_row": null,
            "grid_template_areas": null,
            "grid_template_columns": null,
            "grid_template_rows": null,
            "height": null,
            "justify_content": null,
            "justify_items": null,
            "left": null,
            "margin": null,
            "max_height": null,
            "max_width": null,
            "min_height": null,
            "min_width": null,
            "object_fit": null,
            "object_position": null,
            "order": null,
            "overflow": null,
            "overflow_x": null,
            "overflow_y": null,
            "padding": null,
            "right": null,
            "top": null,
            "visibility": null,
            "width": null
          }
        },
        "dc08b73fd201446fb49e3678b6818a4a": {
          "model_module": "@jupyter-widgets/controls",
          "model_module_version": "1.5.0",
          "model_name": "DescriptionStyleModel",
          "state": {
            "_model_module": "@jupyter-widgets/controls",
            "_model_module_version": "1.5.0",
            "_model_name": "DescriptionStyleModel",
            "_view_count": null,
            "_view_module": "@jupyter-widgets/base",
            "_view_module_version": "1.2.0",
            "_view_name": "StyleView",
            "description_width": ""
          }
        },
        "dd80fbc240cb4a4cb1757a7ed2e63d31": {
          "model_module": "@jupyter-widgets/controls",
          "model_module_version": "1.5.0",
          "model_name": "FloatProgressModel",
          "state": {
            "_dom_classes": [],
            "_model_module": "@jupyter-widgets/controls",
            "_model_module_version": "1.5.0",
            "_model_name": "FloatProgressModel",
            "_view_count": null,
            "_view_module": "@jupyter-widgets/controls",
            "_view_module_version": "1.5.0",
            "_view_name": "ProgressView",
            "bar_style": "success",
            "description": "",
            "description_tooltip": null,
            "layout": "IPY_MODEL_15d9e0fe68a24ebfb4209eb34c9daaa9",
            "max": 286059269,
            "min": 0,
            "orientation": "horizontal",
            "style": "IPY_MODEL_c25745530d684a2a9f979ca799b0410f",
            "value": 286059269
          }
        },
        "e4bd55faf1924436ad6adbbe03b0a569": {
          "model_module": "@jupyter-widgets/base",
          "model_module_version": "1.2.0",
          "model_name": "LayoutModel",
          "state": {
            "_model_module": "@jupyter-widgets/base",
            "_model_module_version": "1.2.0",
            "_model_name": "LayoutModel",
            "_view_count": null,
            "_view_module": "@jupyter-widgets/base",
            "_view_module_version": "1.2.0",
            "_view_name": "LayoutView",
            "align_content": null,
            "align_items": null,
            "align_self": null,
            "border": null,
            "bottom": null,
            "display": null,
            "flex": null,
            "flex_flow": null,
            "grid_area": null,
            "grid_auto_columns": null,
            "grid_auto_flow": null,
            "grid_auto_rows": null,
            "grid_column": null,
            "grid_gap": null,
            "grid_row": null,
            "grid_template_areas": null,
            "grid_template_columns": null,
            "grid_template_rows": null,
            "height": null,
            "justify_content": null,
            "justify_items": null,
            "left": null,
            "margin": null,
            "max_height": null,
            "max_width": null,
            "min_height": null,
            "min_width": null,
            "object_fit": null,
            "object_position": null,
            "order": null,
            "overflow": null,
            "overflow_x": null,
            "overflow_y": null,
            "padding": null,
            "right": null,
            "top": null,
            "visibility": null,
            "width": null
          }
        },
        "e6a76856f83143f3829e97af21748ff8": {
          "model_module": "@jupyter-widgets/controls",
          "model_module_version": "1.5.0",
          "model_name": "HBoxModel",
          "state": {
            "_dom_classes": [],
            "_model_module": "@jupyter-widgets/controls",
            "_model_module_version": "1.5.0",
            "_model_name": "HBoxModel",
            "_view_count": null,
            "_view_module": "@jupyter-widgets/controls",
            "_view_module_version": "1.5.0",
            "_view_name": "HBoxView",
            "box_style": "",
            "children": [
              "IPY_MODEL_0706289aec7b48c79d1cee18bf7bbaae",
              "IPY_MODEL_dd80fbc240cb4a4cb1757a7ed2e63d31",
              "IPY_MODEL_a947f3b3abbd4a7ebd042203842ae72d"
            ],
            "layout": "IPY_MODEL_c60a2a86c6a94bb2b5380b4ba9ad3582"
          }
        },
        "e87ffb6cda33475396180768be0c7d0e": {
          "model_module": "@jupyter-widgets/base",
          "model_module_version": "1.2.0",
          "model_name": "LayoutModel",
          "state": {
            "_model_module": "@jupyter-widgets/base",
            "_model_module_version": "1.2.0",
            "_model_name": "LayoutModel",
            "_view_count": null,
            "_view_module": "@jupyter-widgets/base",
            "_view_module_version": "1.2.0",
            "_view_name": "LayoutView",
            "align_content": null,
            "align_items": null,
            "align_self": null,
            "border": null,
            "bottom": null,
            "display": null,
            "flex": null,
            "flex_flow": null,
            "grid_area": null,
            "grid_auto_columns": null,
            "grid_auto_flow": null,
            "grid_auto_rows": null,
            "grid_column": null,
            "grid_gap": null,
            "grid_row": null,
            "grid_template_areas": null,
            "grid_template_columns": null,
            "grid_template_rows": null,
            "height": null,
            "justify_content": null,
            "justify_items": null,
            "left": null,
            "margin": null,
            "max_height": null,
            "max_width": null,
            "min_height": null,
            "min_width": null,
            "object_fit": null,
            "object_position": null,
            "order": null,
            "overflow": null,
            "overflow_x": null,
            "overflow_y": null,
            "padding": null,
            "right": null,
            "top": null,
            "visibility": null,
            "width": null
          }
        },
        "eee8b02b85014d4aa2a651ca41f9a9d2": {
          "model_module": "@jupyter-widgets/controls",
          "model_module_version": "1.5.0",
          "model_name": "FloatProgressModel",
          "state": {
            "_dom_classes": [],
            "_model_module": "@jupyter-widgets/controls",
            "_model_module_version": "1.5.0",
            "_model_name": "FloatProgressModel",
            "_view_count": null,
            "_view_module": "@jupyter-widgets/controls",
            "_view_module_version": "1.5.0",
            "_view_name": "ProgressView",
            "bar_style": "success",
            "description": "",
            "description_tooltip": null,
            "layout": "IPY_MODEL_efe9c2c06f984215a0d1a74fd94bb2ec",
            "max": 52,
            "min": 0,
            "orientation": "horizontal",
            "style": "IPY_MODEL_0530564903364bf59c3f167933a39469",
            "value": 52
          }
        },
        "efe9c2c06f984215a0d1a74fd94bb2ec": {
          "model_module": "@jupyter-widgets/base",
          "model_module_version": "1.2.0",
          "model_name": "LayoutModel",
          "state": {
            "_model_module": "@jupyter-widgets/base",
            "_model_module_version": "1.2.0",
            "_model_name": "LayoutModel",
            "_view_count": null,
            "_view_module": "@jupyter-widgets/base",
            "_view_module_version": "1.2.0",
            "_view_name": "LayoutView",
            "align_content": null,
            "align_items": null,
            "align_self": null,
            "border": null,
            "bottom": null,
            "display": null,
            "flex": null,
            "flex_flow": null,
            "grid_area": null,
            "grid_auto_columns": null,
            "grid_auto_flow": null,
            "grid_auto_rows": null,
            "grid_column": null,
            "grid_gap": null,
            "grid_row": null,
            "grid_template_areas": null,
            "grid_template_columns": null,
            "grid_template_rows": null,
            "height": null,
            "justify_content": null,
            "justify_items": null,
            "left": null,
            "margin": null,
            "max_height": null,
            "max_width": null,
            "min_height": null,
            "min_width": null,
            "object_fit": null,
            "object_position": null,
            "order": null,
            "overflow": null,
            "overflow_x": null,
            "overflow_y": null,
            "padding": null,
            "right": null,
            "top": null,
            "visibility": null,
            "width": null
          }
        },
        "f4217380534840f280142fc0b4e77296": {
          "model_module": "@jupyter-widgets/controls",
          "model_module_version": "1.5.0",
          "model_name": "DescriptionStyleModel",
          "state": {
            "_model_module": "@jupyter-widgets/controls",
            "_model_module_version": "1.5.0",
            "_model_name": "DescriptionStyleModel",
            "_view_count": null,
            "_view_module": "@jupyter-widgets/base",
            "_view_module_version": "1.2.0",
            "_view_name": "StyleView",
            "description_width": ""
          }
        },
        "f8293f7c760946119bbc37639ec0611a": {
          "model_module": "@jupyter-widgets/controls",
          "model_module_version": "1.5.0",
          "model_name": "HBoxModel",
          "state": {
            "_dom_classes": [],
            "_model_module": "@jupyter-widgets/controls",
            "_model_module_version": "1.5.0",
            "_model_name": "HBoxModel",
            "_view_count": null,
            "_view_module": "@jupyter-widgets/controls",
            "_view_module_version": "1.5.0",
            "_view_name": "HBoxView",
            "box_style": "",
            "children": [
              "IPY_MODEL_224f798aa28b4c3283044a1bdd6be404",
              "IPY_MODEL_6684bec4011f4120be3b61d4b1f11e02",
              "IPY_MODEL_8f77b1e517bb486ba8dc911bbe77beb5"
            ],
            "layout": "IPY_MODEL_6c8fed20582a4aebae67d5d94e6e76ea"
          }
        }
      }
    }
  },
  "nbformat": 4,
  "nbformat_minor": 0
}

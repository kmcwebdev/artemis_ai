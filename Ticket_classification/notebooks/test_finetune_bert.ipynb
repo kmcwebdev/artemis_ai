{
  "cells": [
    {
      "cell_type": "markdown",
      "metadata": {},
      "source": [
        "## Install Library and Package"
      ]
    },
    {
      "cell_type": "code",
      "execution_count": 3,
      "metadata": {
        "colab": {
          "base_uri": "https://localhost:8080/",
          "height": 313
        },
        "id": "GsSU2vtFJZc_",
        "outputId": "b48a2054-ceb2-40ef-f9f6-30e5b9b28454"
      },
      "outputs": [
        {
          "name": "stderr",
          "output_type": "stream",
          "text": [
            "[nltk_data] Downloading package stopwords to\n",
            "[nltk_data]     /Users/tangminhanh/nltk_data...\n",
            "[nltk_data]   Package stopwords is already up-to-date!\n",
            "[nltk_data] Downloading package wordnet to\n",
            "[nltk_data]     /Users/tangminhanh/nltk_data...\n",
            "[nltk_data]   Package wordnet is already up-to-date!\n",
            "[nltk_data] Downloading package omw-1.4 to\n",
            "[nltk_data]     /Users/tangminhanh/nltk_data...\n",
            "[nltk_data]   Package omw-1.4 is already up-to-date!\n"
          ]
        },
        {
          "data": {
            "text/html": [
              "<div>\n",
              "<style scoped>\n",
              "    .dataframe tbody tr th:only-of-type {\n",
              "        vertical-align: middle;\n",
              "    }\n",
              "\n",
              "    .dataframe tbody tr th {\n",
              "        vertical-align: top;\n",
              "    }\n",
              "\n",
              "    .dataframe thead th {\n",
              "        text-align: right;\n",
              "    }\n",
              "</style>\n",
              "<table border=\"1\" class=\"dataframe\">\n",
              "  <thead>\n",
              "    <tr style=\"text-align: right;\">\n",
              "      <th></th>\n",
              "      <th>Category</th>\n",
              "      <th>Sub-Category</th>\n",
              "      <th>Description</th>\n",
              "    </tr>\n",
              "  </thead>\n",
              "  <tbody>\n",
              "    <tr>\n",
              "      <th>0</th>\n",
              "      <td>Web/Application Security</td>\n",
              "      <td>High Severity Alert</td>\n",
              "      <td>NaN</td>\n",
              "    </tr>\n",
              "    <tr>\n",
              "      <th>1</th>\n",
              "      <td>Web/Application Security</td>\n",
              "      <td>Low Severity Alert</td>\n",
              "      <td>NaN</td>\n",
              "    </tr>\n",
              "    <tr>\n",
              "      <th>2</th>\n",
              "      <td>Web/Application Security</td>\n",
              "      <td>Vulnerability Assessment</td>\n",
              "      <td>Any tickets associated with the assessment and...</td>\n",
              "    </tr>\n",
              "    <tr>\n",
              "      <th>3</th>\n",
              "      <td>Web/Application Security</td>\n",
              "      <td>Vulnerability Remediation</td>\n",
              "      <td>Any tickets associated with concerns or findin...</td>\n",
              "    </tr>\n",
              "    <tr>\n",
              "      <th>4</th>\n",
              "      <td>Vendor Payment</td>\n",
              "      <td>Invoice Posting</td>\n",
              "      <td>Any ticket related to Posting of invoices tail...</td>\n",
              "    </tr>\n",
              "  </tbody>\n",
              "</table>\n",
              "</div>"
            ],
            "text/plain": [
              "                   Category               Sub-Category  \\\n",
              "0  Web/Application Security        High Severity Alert   \n",
              "1  Web/Application Security         Low Severity Alert   \n",
              "2  Web/Application Security   Vulnerability Assessment   \n",
              "3  Web/Application Security  Vulnerability Remediation   \n",
              "4            Vendor Payment            Invoice Posting   \n",
              "\n",
              "                                         Description  \n",
              "0                                                NaN  \n",
              "1                                                NaN  \n",
              "2  Any tickets associated with the assessment and...  \n",
              "3  Any tickets associated with concerns or findin...  \n",
              "4  Any ticket related to Posting of invoices tail...  "
            ]
          },
          "execution_count": 3,
          "metadata": {},
          "output_type": "execute_result"
        }
      ],
      "source": [
        "import pandas as pd\n",
        "import sklearn\n",
        "import numpy as np\n",
        "import joblib\n",
        "import string\n",
        "import re\n",
        "import nltk\n",
        "from nltk.corpus import stopwords\n",
        "from nltk.stem.porter import PorterStemmer\n",
        "from nltk.tokenize import word_tokenize\n",
        "from nltk.stem import SnowballStemmer\n",
        "from nltk.stem import WordNetLemmatizer\n",
        "from sklearn.feature_extraction.text import TfidfVectorizer\n",
        "from sklearn.linear_model import LogisticRegression\n",
        "\n",
        "nltk.download('stopwords')\n",
        "nltk.download('wordnet')\n",
        "nltk.download('omw-1.4')\n",
        "\n",
        "# Load the dataset\n",
        "file_path = '../data/Ticket Categories Description (Updated)(Updated Dataset).csv'\n",
        "df = pd.read_csv(file_path, encoding='ISO-8859-1')\n",
        "data = df[['Category', 'Sub-Category', 'Description']]\n",
        "# Display the first few rows of the dataset\n",
        "data.head()\n"
      ]
    },
    {
      "cell_type": "code",
      "execution_count": 44,
      "metadata": {
        "colab": {
          "base_uri": "https://localhost:8080/"
        },
        "id": "-iMY9gm4JukR",
        "outputId": "0ba3e6ac-c0b0-4197-9b04-b7b1f177cecc"
      },
      "outputs": [
        {
          "name": "stdout",
          "output_type": "stream",
          "text": [
            "Requirement already satisfied: transformers in /usr/local/lib/python3.10/dist-packages (4.41.1)\n",
            "Requirement already satisfied: torch in /usr/local/lib/python3.10/dist-packages (2.3.0+cu121)\n",
            "Requirement already satisfied: torchvision in /usr/local/lib/python3.10/dist-packages (0.18.0+cu121)\n",
            "Requirement already satisfied: scikit-learn in /usr/local/lib/python3.10/dist-packages (1.2.2)\n",
            "Requirement already satisfied: pandas in /usr/local/lib/python3.10/dist-packages (2.0.3)\n",
            "Requirement already satisfied: filelock in /usr/local/lib/python3.10/dist-packages (3.14.0)\n",
            "Requirement already satisfied: accelerate in /usr/local/lib/python3.10/dist-packages (0.30.1)\n",
            "Requirement already satisfied: huggingface-hub<1.0,>=0.23.0 in /usr/local/lib/python3.10/dist-packages (from transformers) (0.23.2)\n",
            "Requirement already satisfied: numpy>=1.17 in /usr/local/lib/python3.10/dist-packages (from transformers) (1.25.2)\n",
            "Requirement already satisfied: packaging>=20.0 in /usr/local/lib/python3.10/dist-packages (from transformers) (24.0)\n",
            "Requirement already satisfied: pyyaml>=5.1 in /usr/local/lib/python3.10/dist-packages (from transformers) (6.0.1)\n",
            "Requirement already satisfied: regex!=2019.12.17 in /usr/local/lib/python3.10/dist-packages (from transformers) (2024.5.15)\n",
            "Requirement already satisfied: requests in /usr/local/lib/python3.10/dist-packages (from transformers) (2.31.0)\n",
            "Requirement already satisfied: tokenizers<0.20,>=0.19 in /usr/local/lib/python3.10/dist-packages (from transformers) (0.19.1)\n",
            "Requirement already satisfied: safetensors>=0.4.1 in /usr/local/lib/python3.10/dist-packages (from transformers) (0.4.3)\n",
            "Requirement already satisfied: tqdm>=4.27 in /usr/local/lib/python3.10/dist-packages (from transformers) (4.66.4)\n",
            "Requirement already satisfied: typing-extensions>=4.8.0 in /usr/local/lib/python3.10/dist-packages (from torch) (4.12.0)\n",
            "Requirement already satisfied: sympy in /usr/local/lib/python3.10/dist-packages (from torch) (1.12.1)\n",
            "Requirement already satisfied: networkx in /usr/local/lib/python3.10/dist-packages (from torch) (3.3)\n",
            "Requirement already satisfied: jinja2 in /usr/local/lib/python3.10/dist-packages (from torch) (3.1.4)\n",
            "Requirement already satisfied: fsspec in /usr/local/lib/python3.10/dist-packages (from torch) (2023.6.0)\n",
            "Requirement already satisfied: nvidia-cuda-nvrtc-cu12==12.1.105 in /usr/local/lib/python3.10/dist-packages (from torch) (12.1.105)\n",
            "Requirement already satisfied: nvidia-cuda-runtime-cu12==12.1.105 in /usr/local/lib/python3.10/dist-packages (from torch) (12.1.105)\n",
            "Requirement already satisfied: nvidia-cuda-cupti-cu12==12.1.105 in /usr/local/lib/python3.10/dist-packages (from torch) (12.1.105)\n",
            "Requirement already satisfied: nvidia-cudnn-cu12==8.9.2.26 in /usr/local/lib/python3.10/dist-packages (from torch) (8.9.2.26)\n",
            "Requirement already satisfied: nvidia-cublas-cu12==12.1.3.1 in /usr/local/lib/python3.10/dist-packages (from torch) (12.1.3.1)\n",
            "Requirement already satisfied: nvidia-cufft-cu12==11.0.2.54 in /usr/local/lib/python3.10/dist-packages (from torch) (11.0.2.54)\n",
            "Requirement already satisfied: nvidia-curand-cu12==10.3.2.106 in /usr/local/lib/python3.10/dist-packages (from torch) (10.3.2.106)\n",
            "Requirement already satisfied: nvidia-cusolver-cu12==11.4.5.107 in /usr/local/lib/python3.10/dist-packages (from torch) (11.4.5.107)\n",
            "Requirement already satisfied: nvidia-cusparse-cu12==12.1.0.106 in /usr/local/lib/python3.10/dist-packages (from torch) (12.1.0.106)\n",
            "Requirement already satisfied: nvidia-nccl-cu12==2.20.5 in /usr/local/lib/python3.10/dist-packages (from torch) (2.20.5)\n",
            "Requirement already satisfied: nvidia-nvtx-cu12==12.1.105 in /usr/local/lib/python3.10/dist-packages (from torch) (12.1.105)\n",
            "Requirement already satisfied: triton==2.3.0 in /usr/local/lib/python3.10/dist-packages (from torch) (2.3.0)\n",
            "Requirement already satisfied: nvidia-nvjitlink-cu12 in /usr/local/lib/python3.10/dist-packages (from nvidia-cusolver-cu12==11.4.5.107->torch) (12.5.40)\n",
            "Requirement already satisfied: pillow!=8.3.*,>=5.3.0 in /usr/local/lib/python3.10/dist-packages (from torchvision) (9.4.0)\n",
            "Requirement already satisfied: scipy>=1.3.2 in /usr/local/lib/python3.10/dist-packages (from scikit-learn) (1.11.4)\n",
            "Requirement already satisfied: joblib>=1.1.1 in /usr/local/lib/python3.10/dist-packages (from scikit-learn) (1.4.2)\n",
            "Requirement already satisfied: threadpoolctl>=2.0.0 in /usr/local/lib/python3.10/dist-packages (from scikit-learn) (3.5.0)\n",
            "Requirement already satisfied: python-dateutil>=2.8.2 in /usr/local/lib/python3.10/dist-packages (from pandas) (2.8.2)\n",
            "Requirement already satisfied: pytz>=2020.1 in /usr/local/lib/python3.10/dist-packages (from pandas) (2023.4)\n",
            "Requirement already satisfied: tzdata>=2022.1 in /usr/local/lib/python3.10/dist-packages (from pandas) (2024.1)\n",
            "Requirement already satisfied: psutil in /usr/local/lib/python3.10/dist-packages (from accelerate) (5.9.5)\n",
            "Requirement already satisfied: six>=1.5 in /usr/local/lib/python3.10/dist-packages (from python-dateutil>=2.8.2->pandas) (1.16.0)\n",
            "Requirement already satisfied: MarkupSafe>=2.0 in /usr/local/lib/python3.10/dist-packages (from jinja2->torch) (2.1.5)\n",
            "Requirement already satisfied: charset-normalizer<4,>=2 in /usr/local/lib/python3.10/dist-packages (from requests->transformers) (3.3.2)\n",
            "Requirement already satisfied: idna<4,>=2.5 in /usr/local/lib/python3.10/dist-packages (from requests->transformers) (3.7)\n",
            "Requirement already satisfied: urllib3<3,>=1.21.1 in /usr/local/lib/python3.10/dist-packages (from requests->transformers) (2.0.7)\n",
            "Requirement already satisfied: certifi>=2017.4.17 in /usr/local/lib/python3.10/dist-packages (from requests->transformers) (2024.2.2)\n",
            "Requirement already satisfied: mpmath<1.4.0,>=1.1.0 in /usr/local/lib/python3.10/dist-packages (from sympy->torch) (1.3.0)\n"
          ]
        }
      ],
      "source": [
        "!pip3 install transformers torch torchvision scikit-learn pandas filelock accelerate"
      ]
    },
    {
      "cell_type": "code",
      "execution_count": 4,
      "metadata": {
        "colab": {
          "base_uri": "https://localhost:8080/"
        },
        "id": "vnLikjnpwky-",
        "outputId": "7e440333-d63a-40ac-8c25-40f86262d668"
      },
      "outputs": [
        {
          "name": "stdout",
          "output_type": "stream",
          "text": [
            "Categories: ['Web/Application Security' 'Vendor Payment' 'Vendor Accreditation'\n",
            " 'User Account' 'TV Advertisement' 'TREASURY' 'TPMO' 'Ticketing Support'\n",
            " 'Telephony' 'Talent as a Service' 'System Security' 'Software'\n",
            " 'Services Management' 'Server Projects' 'Server Management'\n",
            " 'Project Quality Summary' 'Procurement' 'PRO Vendor Payment'\n",
            " 'PRO Vendor Accreditation' 'PRO Purchase Order Processing'\n",
            " 'PRO Delivery Confirmation' 'PRO Canvassing' 'Printer'\n",
            " 'PQS - Vendor\\xa0Assessment?' 'PQS - Project Estimate?'\n",
            " 'PQS - Pre-Project Phase' 'PQS - Post Project Phase'\n",
            " 'PQS - Ongoing Project Phase' 'PQS - Contractor Awarding?'\n",
            " 'PQE - Site Inspection' 'PQE - Plan Review Request' 'Power'\n",
            " 'PO Processing' 'PM Testfit request' 'PM Request' 'PM OSM Request'\n",
            " 'PM Office Info Request' 'PM Design Request' 'PM Design Management'\n",
            " 'PM Costing Request' 'PM Compliance Request' 'People Experience'\n",
            " 'P&C Verification' 'P&C SSS | Pag-Ibig | Philhealth | BIR'\n",
            " 'P&C Resignation/Offboarding' 'P&C Reports' 'P&C Performance/Coaching'\n",
            " 'P&C Payroll' 'P&C Others' 'P&C Mental Health / MindNation'\n",
            " 'P&C Leave Benefits' 'P&C Internship' 'P&C Inquiries'\n",
            " 'P&C Incident Report/Employee Discipline' 'P&C HRIS' 'P&C HR Documents'\n",
            " 'P&C Employee Movement/EAA Request' 'P&C Allowance' 'Outage' 'Other'\n",
            " 'On Boarding' 'Off Boarding' 'Notification' 'Non-IT Asset Tag'\n",
            " 'Non-IT Asset Service Delivery' 'Non-IT Asset Record'\n",
            " 'Non-IT Asset Movement' 'Non-IT Asset Compliance' 'New Hire Shadowing'\n",
            " 'Network Security' 'Network and Infrastructure Design' 'Network'\n",
            " 'MKTG Website/ Online Activities' 'MKTG TV Advertisement'\n",
            " 'MKTG Marketing Supplies' 'MKTG KMC Web Account Access/ Creation Request'\n",
            " 'MKTG Creatives & Content (Graphics Creation Request)'\n",
            " 'MKTG Content/Copy' 'LEGAL & COMPLIANCE (INTERNAL)'\n",
            " 'L&C REQUEST FOR DOCUMENTS' 'L&C PROCESSING REQUEST'\n",
            " 'L&C ADVISORY/INQUIRIES' 'HRDT - Requested Report' 'HRDT - Others'\n",
            " 'HRDT - HRIS' 'HRDT - HRBP Requests' 'HRDT - Data Updating' 'Hardware'\n",
            " 'General Assistance' 'Food Allowance' 'FM Support' 'FM Site walkthrough'\n",
            " 'FM Showreadiness' 'FM Repair & Maintenance' 'FM Renovation'\n",
            " 'FM Project Management' 'FM Plumbing' 'FM Mechanical'\n",
            " 'FM Fire Protection' 'FM Emergency' 'FM Electrical' 'FM Costing Request'\n",
            " 'FM Civil' 'FM Cabling' 'ENG Odoo' 'Email Security' 'Email'\n",
            " 'Document Controller' 'Document' 'Development' 'Deployment / Movement'\n",
            " 'Delivery Confirmation' 'Data Security Incident' 'CS Work Permit'\n",
            " 'CS Support' 'CS Shuttle' 'CS Room Reservation' 'CS Reports' 'CS Odoo'\n",
            " 'CS Movement' 'CS Medical' 'CS HMO' 'CS Gatepass' 'CS Emergency'\n",
            " 'CS Checklist' 'CS Admin Support' 'Compliance' 'Circuit' 'Checklist'\n",
            " 'CCTV' 'CASA' 'Canvassing' 'C&B - SWAT' 'C&B - SSS' 'C&B - Sprout Loans'\n",
            " 'C&B - PHILHEALTH' 'C&B - Payroll' 'C&B - PAG-IBIG'\n",
            " 'C&B - MyTown Housing' 'C&B - Mental Health' 'C&B - INTERNAL LOANS'\n",
            " 'C&B - HMO' 'C&B - Final Pay' 'C&B - BIR' 'C&B - ATM'\n",
            " 'BTS SPACE PLANNING REQUEST' 'BTS SITE INSPECTION / AUDIT REQUEST'\n",
            " 'BTS Project Design Management' 'BTS OSM Request'\n",
            " 'BTS OFFICE INFO REQUEST' 'BTS DESIGN REQUEST'\n",
            " 'BTS CLIENT MEETING REQUEST' 'Biometric' 'Billing - Teams'\n",
            " 'Billing - Spaces' 'BCP Activation' 'Asset Management' 'ACCOUNTS PAYABLE'\n",
            " nan]\n",
            "Sub-Categories: ['High Severity Alert' 'Low Severity Alert' 'Vulnerability Assessment'\n",
            " 'Vulnerability Remediation' 'Invoice Posting' 'Invoice Revision'\n",
            " 'Vendor verification' 'Vendor sourcing' 'Vendor Accreditation'\n",
            " 'Vendor Documents' 'Vendor Card Creation' 'Email Account Creation'\n",
            " 'Email Account Deletion' 'Email Password Reset/Unlock'\n",
            " 'NT Login Account Unlock' 'NT Login Password Reset' 'NT Login Creation'\n",
            " 'NT Login Disable' 'NT Login Re-enable' 'NT Login Information Update'\n",
            " 'OSP Account Unlock' 'OSP Access Request' 'OSP Access Disable'\n",
            " 'Digital Signage' 'Setup' 'Removal' 'Bank Request' 'Builds'\n",
            " 'Cash Advance' 'Client Request' 'Government Statutory' 'Last Pay'\n",
            " 'Operations' 'Rush Payroll Request' 'Taxes / BOC / LGU Payment'\n",
            " 'Other Request' 'General IT Services' 'Hardware Purchase'\n",
            " 'Hardware Rental' 'IT Storage Rental' 'Quotation for Room Modification'\n",
            " 'Quotation for Services' 'RFID' 'Site Build'\n",
            " 'Recurring Ticket Request/Removal' 'Report Generation'\n",
            " 'Ticketing Inquiry' 'Test Ticket' 'Softphone Issue' 'Hardphone Issue'\n",
            " 'Configuration Assistance' 'Telco Coordination'\n",
            " 'General Voice Activity/Inquiry'\n",
            " 'TaaS | Employee Movements - Lateral Movement'\n",
            " 'TaaS | Employee Movements - Promotion Request'\n",
            " 'TaaS | Employee Movements - Regularization Inquiry'\n",
            " 'TaaS | Employee Movements - Salary Increase Request'\n",
            " 'TaaS | General Inquiry and Consultation' 'Taas | Incentive Request'\n",
            " 'TaaS | Performance Evaluation Review' 'TaaS | Offboarding Inquiry'\n",
            " 'Taas | Disciplinary Management' 'TaaS | Others'\n",
            " 'TaaS | Sprout - Change in Personal Information'\n",
            " 'TaaS | Sprout - Creation/Deactivation Request'\n",
            " 'TaaS | Sprout - Sprout Unlock/ Reset Request' 'TaaS | Dispute Inquiery'\n",
            " 'TaaS | General Inquiry' 'TaaS | Medical Emergencies'\n",
            " 'TaaS | HMO Requests'\n",
            " 'TaaS | Government Mandated Benefits (SSS PHIC and HDMF) Inquiry'\n",
            " 'TaaS | Canvassing/Price Quotation' 'TaaS | Delivery Confirmation'\n",
            " 'TaaS | Other Inquiries and Requests' 'TaaS | Purchase Order Processing'\n",
            " 'TaaS | Account Review/Reconciliatation' 'TaaS | Billing Dispute'\n",
            " 'TaaS | For desktops laptops monitors headsets webcams keyboards mouse etc.'\n",
            " 'TaaS | Refund / Deposit Request' 'TaaS | Visa Processing Inquiry'\n",
            " 'TaaS | General Legal and Compliance Inquiries'\n",
            " 'TaaS | Desktop Rental Quotation and Order Form'\n",
            " 'TaaS | Laptop Rental Quotation and Order Form' 'Application Issue'\n",
            " 'Application Installation/Unistallation' 'Active Directory Services'\n",
            " 'Access Permission' 'Adobe Product' 'BitDefender' 'Joan Services'\n",
            " 'Kiosk Management' 'Microsoft Dynamics NAV Issue' 'PaperCut ID'\n",
            " 'Printer Configuration' 'Rublon' 'Sophos - Machine Isolation/Removal'\n",
            " 'Server New Service Implementation' 'Server Rebuild' 'Server Refresh'\n",
            " 'Systems Audit' 'Server Backup Management' 'Server Decommissioning'\n",
            " 'Server Deployment and Configuration' 'Server Health Monitoring'\n",
            " 'Server Issue' 'Server Security and Access Control'\n",
            " 'Server Upgrade and Hardware Replacement' 'Server VM Management'\n",
            " 'SSL License' 'Punchlist Insight and Summary' 'BOC Clearance'\n",
            " 'Calculation of Asset Value' 'General Procurement Inquiry'\n",
            " 'Government Permit' 'Payment/Invoices/Liquidation' 'Purchase Request'\n",
            " 'Quotation Request' 'Report' 'Vendor Coordination'\n",
            " 'New vendor accreditation' 'PO Processing Only'\n",
            " 'Price Negotiation + PO Processing' 'Canvassing + PO Processing'\n",
            " 'New Vendor Accreditation + PO Processing'\n",
            " 'Canvassing + Vendor Accreditation + PO Processing' 'Delivery Dates'\n",
            " 'Notice of Incomplete Delivery' 'Delivery Documents'\n",
            " 'New - Item / Service' 'Reorder - Item / Service'\n",
            " 'Ocular/Sample + Canvassing' 'Access Request' 'Change Toner' 'Issue'\n",
            " 'Printing Services' 'Set up' 'New Accredited Vendor Interview'\n",
            " 'New Accredited Vendor Ocular Visit' 'New Vendor Capability Review?'\n",
            " 'Initial Detailed Cost Estimate?' 'Revise Detailed Cost Estimate?'\n",
            " 'OSM Quantifying' 'Revise Budgetary Cost Estimate'\n",
            " 'Initial Budgetary Cost Estimate?'\n",
            " 'Release for Bidding / Vendor Quotation' 'Ocular Inspection with Gencon'\n",
            " 'Project Quantifying' 'Respond to Bid Queries' 'Cost Comparison Review'\n",
            " 'BOM Request' 'Initial BOM Review' 'Revise BOM Review'\n",
            " 'Vendor Quotation/BOM Request' 'VO Quotation Request' 'VO Cost Review'\n",
            " 'Additive-Deductive Review' 'Post Game Analysis' 'Change Order Request'\n",
            " 'Draft of Construction Agreement'\n",
            " 'Construction Agreement Issuance & Signing'\n",
            " 'Draft of Notice to Award & Rejection Notice' 'Testing and Commissioning'\n",
            " 'Project Initial Punchlist (50%)' 'Quality Assessment / Verification'\n",
            " 'Project Initial Punchlist (80-90%)' 'Mechanical Plan' 'UPS/PDU Failure'\n",
            " 'Switch Backup Power Supply' 'PO Processing'\n",
            " 'Initial Testfit (New Build / Refresh)'\n",
            " 'Initial Testfit (Office Modification)'\n",
            " 'Revise Testfit (New Build/ Refresh)'\n",
            " 'Revise Testfit (Office Modification)' 'Construction Bond Refund'\n",
            " 'Engineering Consultation'\n",
            " 'Floorplan/As-built Review & Approval (Audit/BP/OP/)'\n",
            " 'New Build Implementation' 'Non-Urgent: Info/Coordination Request'\n",
            " 'Project Timeline Request'\n",
            " 'Site Handover Acceptance (Pre & Post Construction)'\n",
            " 'Site Punchlist Walkthrough/ Handover Assessment'\n",
            " 'Testfit Implementation' 'Urgent: Info/Coordination Request'\n",
            " 'Planradar App Punchlist Updating'\n",
            " 'Progress Billing Evaluation & Signature' 'New Material Review'\n",
            " 'Methodology Request' 'COC Evaluation & Signature'\n",
            " 'Canvass approval / Vendor Cost Approval (under 20k)'\n",
            " 'Canvassing OSM Alternatives' 'Sourcing/Shopping/Site Accessorizing'\n",
            " 'PEZA Office Areas' 'PEZA As-built print signed and sealed'\n",
            " 'Floorplan / Evacuation Plan Updating' 'Floorplan Copy Request'\n",
            " 'Technical Detail Drawing Request' '3D Walkthrough'\n",
            " 'Render (2 to 3 views)' 'Urgent: RFA/RFI Response for Builds'\n",
            " 'RFA/RFI/Techinical Coordination' 'Site Check'\n",
            " 'OSM Checklist/Internal Dept Design Coordination Tasks'\n",
            " 'Vendor/Contractor Quotation Request' 'Revise Cost Estimate'\n",
            " 'Initial Cost Estimate' 'Evacuation Plan update and Print'\n",
            " 'PEX Training Request (Internal)' 'PEX Training Request (External)'\n",
            " 'PEX Training Report' 'PEX Pubmats/Collaterals Request'\n",
            " 'Eligibility for Rehire (for Talent Acquisition Only)'\n",
            " 'Credit Card/Cash Advance Limit (for Finance Only)'\n",
            " 'Request for Online Certification of Government Loan Application'\n",
            " 'Request for Continuation of Government Loan from Previous Employer'\n",
            " 'Request for Certificate of Contribution - SSS|Philhealth|Pag-Ibig'\n",
            " 'Request for Manual Certification of Pag-Ibig Loan Application'\n",
            " 'Request for Philhealth forms (for hospitalization purposes)'\n",
            " 'Request for Increase in Pag-Ibig Contribution'\n",
            " 'Request for Salary Deduction of MP2 savings'\n",
            " 'Request for TIN Verification'\n",
            " 'Other SSS, Philhealth, Pag-Ibig, and BIR Concerns'\n",
            " 'Offboarding request (for People Managers only)'\n",
            " 'Computation of remaining leave credits' 'Clearance follow up'\n",
            " 'Offboarding-related inquiries' 'Simple Reports'\n",
            " 'Complex Reports / Reports Requiring Analytics'\n",
            " '3rd Month Performance Review upload'\n",
            " '5th Month Performance Review upload'\n",
            " 'Request for Performance Review Form' 'Coaching Logs upload'\n",
            " 'Request for Coaching Logs Form'\n",
            " 'Performance Improvement Plan Inquiry/Orientation'\n",
            " 'Failed Probationary Period / End of Probationary Notice'\n",
            " 'Other performance-related inquiries'\n",
            " 'Request for Bonus / Incentive Computation'\n",
            " 'Request for Sample Payout Computation' 'Pay dispute/payroll concern'\n",
            " 'Request for Computation of Final Pay'\n",
            " 'Request for Computation of Intern Allowance'\n",
            " 'Verification of Salary Range Status'\n",
            " 'Request for Issuance of Authorization To Deduct'\n",
            " 'Concerns Related to Sprout and Savii Loans'\n",
            " 'Other Payroll-related concerns'\n",
            " 'Submission of Reimbursement Form and Receipts'\n",
            " 'All other concerns raised to C&B Internal that do not fall under the above categories'\n",
            " 'All mental health-related inquiries/requests' 'Paternity leave'\n",
            " 'Bereavement benefit' 'Solo parent leave' 'Maternity benefit'\n",
            " 'Company-initiated leave benefit'\n",
            " 'Special leave for women and other leave benefits'\n",
            " 'Compensatory Time Off' 'Certificate of Partial Completion'\n",
            " 'Certificate of Completion' 'Internship allowance follow up'\n",
            " 'Checking of current internship hours' 'Other Internship Inquiries'\n",
            " 'Generic inquiries \\x96 individual contributor'\n",
            " 'Team management-related inquiries \\x96 inquiries from people managers/leadership team (for People Managers only)'\n",
            " 'Incident Report template'\n",
            " 'Incident Report submission / Notice to Explain (NTE) issuance request'\n",
            " 'Employee Counselling Form (ECF) submission'\n",
            " 'Return to Work Order Request' 'Personal information update'\n",
            " 'Marriage Certificate/Birth Certificate/Death Certificate/Solo Parent ID upload'\n",
            " 'HRIS unlock request' 'HRIS approver change request'\n",
            " 'HRIS work schedule change request' 'HRIS filing error / system glitch'\n",
            " 'Cancellation of Leave/Schedule Adjustment/Official Business'\n",
            " 'Access level change' 'Location update'\n",
            " 'Other HRIS requests and inquiries' 'Certificate of Employment Request'\n",
            " 'Non-Disclosure Agreement Request' 'Memo Request'\n",
            " 'Employment Contract / Consultancy Agreement request'\n",
            " 'Endorsement for Salary Increase' 'Endorsement for Promotion'\n",
            " 'Endorsement for Lateral Movement'\n",
            " 'Endorsement for Communication Allowance'\n",
            " 'Other movement endorsement/process inquiries'\n",
            " 'OT Allowance reimbursement'\n",
            " 'Reimbursable allowance (part of compensation)' 'ISP Outage'\n",
            " 'Network Outage' 'Power Outage' 'Server Outage' 'System Outage'\n",
            " 'Telephony Outage' 'Other Inquiries / Requests' 'New Joinee'\n",
            " 'New Hire Shadowing' 'Exit Clearance' 'Employee Leaving' 'Item Retrieval'\n",
            " 'New Client' 'Lease Extension' 'Client Move out' 'Emergency Maintenance'\n",
            " 'ISP Maintenance' 'Network Maintenance' 'Power Maintenance'\n",
            " 'VoIP Maintenance' 'SMS Notification' 'Asset tag number issuance'\n",
            " 'Reprinting' 'Asset tag tracing'\n",
            " 'Asset tag number re-issuance due to transfer ownership' 'Asset Counting'\n",
            " 'Asset tag tagging' 'Vendor Assessment?' 'Project Estimate?'\n",
            " 'Project Costing?' 'Project Awarding?' 'Asset record creation'\n",
            " 'Asset record update' 'Asset record retirement' 'Asset record retrieval'\n",
            " 'Office-to-Office Transfer' 'Site-to-Site Transfer'\n",
            " 'Site-to-Facilities for repair' 'Facilities - Site' 'Facilities - Vendor'\n",
            " 'KMC Casa' 'For disposal - Donation' 'For disposal - Sale'\n",
            " 'For disposal - Scrap' 'Warehouse-to-Site Transfer'\n",
            " 'Site-to-Warehouse Transfer' 'Asset reservation' 'Asset preparation'\n",
            " 'KMC Casa - Delivery' 'KMC Casa - Retrieval'\n",
            " 'For disposal - Adhoc Buyer Canvass'\n",
            " 'For disposal - Adhoc Storage Canvass'\n",
            " 'For disposal - Adhoc Shipping Canvass' 'PEZA Farm In' 'PEZA Farm Out'\n",
            " 'PEZA Documents or Records retrieval' 'PEZA Documents - LOA Liquidation'\n",
            " 'PEZA Documents - Late Filing : Summary List'\n",
            " 'PEZA Documents - Forms Liquidation'\n",
            " 'PEZA Documents - Inventory List : Client assigned asset'\n",
            " 'PEZA Documents - Inventory List : Farm Out'\n",
            " 'PEZA Farm In - Assumed Assets' 'PEZA Farm In - Late Filing'\n",
            " 'PEZA Farm In - New Assets (Aeropark, Cebu, Iloilo, Bacolod)'\n",
            " 'PEZA Farm In - New Assets (NCR)' 'PEZA Farm In - Transferred Assets'\n",
            " 'PEZA Farm Out - Delisting' 'PEZA Farm Out - Disposal : Sell to Buyer'\n",
            " 'PEZA Farm Out - Disposal : Sell to Non PEZA'\n",
            " 'PEZA Farm Out - Transfer : Zone to Zone' 'PEZA Inspection Request'\n",
            " 'PEZA Farm Out - Transfer : Ownership' 'ACS' 'Asset Management' 'CCTV'\n",
            " 'Network' 'OSS / Deployment' 'PCO' 'Procurement' 'Product Development'\n",
            " 'Service Desk' 'Systems' 'TPMO' 'Voice / Email' 'IP Request'\n",
            " 'Traffic Engineering' 'Client High Level Network Design'\n",
            " 'Client Requirement Discovery' 'Connection Issue' 'Connection Checking'\n",
            " 'General Network Activity' 'Maintenance' 'Monitoring Alerts'\n",
            " 'Network Diagram Creation/Update' 'Network Gear Mount/Unmount'\n",
            " 'Operational Readiness Test' 'Port Tracing' 'SSID Creation/Removal'\n",
            " 'VLAN Change/Create' 'Website Issue' 'Whitelist/Blacklist'\n",
            " 'Wired/Wireless Connection' 'Social Media/ Web Posting Request'\n",
            " 'Email Blasting (to clients, external, etc)' 'Website Content Revisions'\n",
            " 'Website Design Revisions' 'Website Design Creation'\n",
            " 'Website Service Error Troubleshooting' 'Request for Approval'\n",
            " 'Supplies Distribution/ Acquisition (Flyers, stickers, Tarps, etc.)'\n",
            " 'Borrowing of Equipment' 'Social Media Access'\n",
            " 'Third Party Account Access (Google, Paypal, Mailchimp, Website, etc.)'\n",
            " 'Hubspot Account Access/creation/ Revision' 'Hubspot Reports Creation'\n",
            " 'Production Request' 'Signage Request' 'Creative Collateral Request'\n",
            " 'Website landing page Content' 'Articles/essays Content' 'Ads/image copy'\n",
            " 'Social media captions - 1 day' 'Emails'\n",
            " 'OFFSHORE (FOREIGN) CLIENT CONCERNS'\n",
            " 'OTHERS - LEGAL & COMPLIANCE RELATED'\n",
            " 'CRIMINAL/CIVIL/LABOR CASES CONCERNS' 'KYC'\n",
            " 'VENDOR ACCREDITATION/DUE DILIGENCE' 'LOAN AGREEMENTS'\n",
            " 'INTERNAL AUDITS (PWC)' 'BUSINESS REGISTRATION PROCESSING FOR'\n",
            " 'IMPORTATION (IMPORT PERMIT)' 'PEZA REGISTRATION'\n",
            " 'PEZA CERTIFICATIONS/INCENTIVES PROCESSING FOR CLIENTS'\n",
            " 'PEZA CERTIFICATIONS/INCENTIVES PROCESSING-INTERNAL'\n",
            " 'BIR PROCESSING REQUESTS' 'OFFSHORE (FOREIGN) CLIENT PROCESSING REQUESTS'\n",
            " 'INSURANCE CLAIMS PROCESSING'\n",
            " 'OTHER PROCESSING REQUESTS RELATED TO LGU, BIR, PEZA, DOLE, BOC COMPLIANCE'\n",
            " 'REQUEST FOR COPIES OF CONTRACTS' 'SEC/CORPORATE DOCUMENTS'\n",
            " 'LETTER DRAFTING REQUESTS' 'PEZA CERTIFICATIONS / INCENTIVES FOR'\n",
            " 'BUSINESS & OTHER LGU PERMITS FOR'\n",
            " 'BIR/DOLE/FSIC/INSURANCE/BUILDING ADMIN CERTIFICATES/PERMITS FOR :'\n",
            " 'PEZA CERTIFICATIONS FOR CLIENTS'\n",
            " 'OFFSHORE (FOREIGN) CLIENT DOCUMENT REQUESTS' 'OTHER DOCUMENT REQUESTS'\n",
            " 'GENERAL LEGAL/COMPLIANCE ADVICE' 'VISA PROCESSING (REQUIREMENTS)'\n",
            " 'CONTRACT REVIEW' 'INTELLECTUAL PROPERTY CONCERNS' 'AMLA CONCERNS'\n",
            " 'BSP CONCERNS' 'DATA PRIVACY CONCERNS' 'CONSTRUCTION AGREEMENTS'\n",
            " \"TAX RELATED INQUIRIES/ADVISORY - LOCAL (LGU'S) & NATIONAL (BIR)\"\n",
            " 'IMPORTATION (REQUIREMENTS) INQUIRIES' 'BANK ACCOUNT OPENING INQUIRIES'\n",
            " 'OFFSHORE (FOREIGN) CLIENT INQUIRIES'\n",
            " 'OTHER ADVISORY/INQUIRY - LEGAL MATTERS / OPINIONS'\n",
            " 'OTHER ADVISORY/INQUIRY - COMPLIANCE RELATED'\n",
            " 'INQUIRY/ADVISORY FOR PEZA - CLIENTS'\n",
            " 'BUSINESS PERMIT APPLICATION (REQUIREMENTS) FOR:'\n",
            " 'BIR/PEZA/LGU/FSIC/DOLE/INSURANCE RELATED INQUIRIES FOR'\n",
            " 'Complicated Report' 'Simple Report' 'Exit Management Concern'\n",
            " 'Employement Verification' 'HRIS - Approver Account Creation'\n",
            " 'HRIS - Offboarding' 'HRIS - Work Information Update' 'EAA Updates'\n",
            " 'Other HRIS Concerns' 'HRIS Log in Issue' 'ID/Badge Card Request'\n",
            " 'Inaccurate Data Correction' 'Personal Data Updating' 'Cable Management'\n",
            " 'Data Center UPS/PDU Issue' 'Desktop UPS Issue' 'Desktop/Laptop Problem'\n",
            " 'Desktop/Laptop Setup' 'Device/Equipment Checking'\n",
            " 'Equipment Loan/Retrieval' 'Joan Device' 'Peripherals'\n",
            " 'Raspberry Pi/Hygrometer' 'Sonos' 'Tablet' 'TV/Projector/Sound System'\n",
            " 'Video Conference' 'Data Center Access' 'General Inquiry'\n",
            " 'On-site Assistance' 'Port Checking' 'Pull-In/Out Assistance'\n",
            " 'Site Walkthrough / Round Check' 'Deployment/Movement' 'Meeting'\n",
            " 'Request for Measurements / Count / Inspection / Inventory'\n",
            " 'Assist Vendor/Clients & Others' 'Request to Update Plans/Layout'\n",
            " 'Request for Hauling/Delivery of Assets'\n",
            " 'Request for Join Inspection/Punchlist/Turn-Over' 'Others'\n",
            " 'Repainting or Rectification Works (24 sq.m wall)'\n",
            " 'Common Area Show Ready (20 sq.m area)' '15 to 30 Seater Show Ready Room'\n",
            " 'Electrical / Lighting & Plumbing Concerns & Request'\n",
            " 'Fire Protection Concerns & Request'\n",
            " 'Acoustic Board Replacement/Realignment'\n",
            " 'Report or Follow up Concerns and Warranty Issues to BA / Gencon / Vendors & Others'\n",
            " 'Request for Equipment PM / Update PM Checklist / Form or Tagging)'\n",
            " 'Facilities and Signage\\x92s Concerns & Request (Repair/Replacement /Assembly/Set-up/Installation/ Modification/Improvement)'\n",
            " 'Furniture, Appliance, Fixtures & Accessories Concerns & Reques'\n",
            " 'Electrical/Mechanical Major Works (Repair/Replacement/Modification/Improvement)'\n",
            " 'Office Wall Installation' 'Office Wall Demolition'\n",
            " 'Workstation Installation' 'Workstation Dismantling' 'Furniture Set-up'\n",
            " 'Workstation Partition Installation' 'Workstation Partition Dismantling'\n",
            " 'Office Modification' 'Bidet/Faucet Repair/Replacement'\n",
            " 'Faucet/Cubicle Leak' 'Continous Flushing'\n",
            " 'Cleaning/Unclogging of Sanitary Line' 'Aircon Water Leak' 'Aircon Error'\n",
            " 'Aircon System - General Cleaning' 'Aircon System - Filter Cleaning'\n",
            " 'Aircon System - Repair' 'Drain Line Sloping Check/Vacuuming'\n",
            " 'Fire Extinguisher Checking' 'Escutheon Plate Installation'\n",
            " 'Troubleshooting of Defective Smoke Detector'\n",
            " 'Troubleshooting of FDAS Panel' 'Preventive Maintenance of FDAS System'\n",
            " 'Incident Report' 'Emergency Repair' 'Busted Light Replacement'\n",
            " 'Outlet Installation' 'TV Installation' 'Resetting of Circuit Breaker'\n",
            " 'Electricity Consumption Computation' 'Lighting Upgrade'\n",
            " 'Electrical Troubleshooting'\n",
            " 'Replacement/Repair of Emergency Lights/Exit Signages' 'Canvass'\n",
            " 'Costing from KMC, Contractor or Supplier'\n",
            " 'Wall Repainting (Less than 20sqm)' 'Wall Repainting (Above 20sqm)'\n",
            " 'Base Board Repair/Repainting' 'Wall Crack Rectification'\n",
            " 'Floor Crack Rectification' 'Cabinet/Joineries Repair'\n",
            " 'Door Laminate Repair' 'Door Jamb Repair/Repainting' 'Bio Repair'\n",
            " 'Bio Installation/Uninstallation' 'CCTV Installation/Uninstallation'\n",
            " 'CCTV Repair' 'General Cabling Works' 'Port Additional' 'Port Relocation'\n",
            " 'Port Repair' 'Site Build Layout' 'UPS Preventive Maintenance'\n",
            " 'Temperature adjustment/reading' 'Loose outlet/wiring'\n",
            " 'Smart plug set-up' 'Exhaust system checking'\n",
            " 'Exit signage replacement/checking' 'Instalaltion of FE signage'\n",
            " 'Lux reading verifcation' 'Installation of transfer fan/duct'\n",
            " 'Mechanical: Others' 'Acoustic Panel installation/replacement'\n",
            " 'Installation of frosted stickers' 'Door knob repair/replacement'\n",
            " 'Ceiling/window leak rectification' 'Carpet installation/realignment'\n",
            " 'Frames/decals installation' 'Civil: Others'\n",
            " 'Checking of emergency light' 'Checking of panic door lock'\n",
            " 'Plumbing: Others' 'Hauling of debris and disposal'\n",
            " 'Glass/wooden panel/door dismantling' 'Door installation'\n",
            " 'Costing Request' 'Releasing of R&M materials'\n",
            " 'Review of PCF & CC liquidation' 'Payment/reimbursement processing'\n",
            " 'Purchase of materials' 'Support: Others'\n",
            " 'Aircon Sytem - Repair/Parts replacement/System reprocess'\n",
            " 'Reconditioning of expired/overdue fire extinguishers'\n",
            " 'Checking of FM200 system' 'Installation/additional evacuation plan'\n",
            " 'Fire Protection: Others' 'Electrical system reconfiguration'\n",
            " 'Additional airconditioning system'\n",
            " 'Upgrade/replacement of lights for WEM standards'\n",
            " 'Office Modification (MEPF)' 'Malicious Email' 'Phishing Incident' 'Spam'\n",
            " 'Calendar and Events Management' 'Distrolist / Mailbox'\n",
            " 'Email Detail Update' 'Email Issue' 'Email Storage'\n",
            " 'License Request/Removal' 'MFA Request/Concern'\n",
            " 'DC Request for Document number of new ISO process'\n",
            " 'DC Request to update/upload ISO process' 'Diagram Creation/Update'\n",
            " 'Floorplan Creation/Update' 'Infographics' 'Knowledgebase'\n",
            " 'Other Documentations' 'Process Plan' 'Process Update'\n",
            " 'Security Questionnaire' 'OSP' 'ERP' 'Client Portal' 'CATS' 'BDMS'\n",
            " 'EPICOS' 'VMS' 'HDF' 'KMC Hub' 'New Development Request' 'Manatal'\n",
            " 'Movement Request' 'Deployment Request' 'Email Password Reset'\n",
            " 'Asset Item Deployed' 'Work Permit' 'Supplies Request'\n",
            " 'Printing/Scan request' 'Cleaning request'\n",
            " 'Messengerial /Courier Service Request' 'Other Admin Service Request'\n",
            " 'Access Cards Requests' 'Parking / Car pass Requests' 'Storage Request'\n",
            " 'Planned activities' 'Repairs Request' 'Photo / Video Request'\n",
            " 'Client Viewing Request' 'Shuttle Booking' 'Van Repairs & Maintenance'\n",
            " 'Boardroom / Training Room' 'Other Meeting Rooms / Rental Space'\n",
            " 'Skydeck' 'Checklists and Reports' 'Security Breach/ Theft' 'AC Concerns'\n",
            " 'Move Out Request' 'Move In Request' 'Furniture Move' 'Office Set-up'\n",
            " 'Medical Emergency' 'Medical Certificate Validation' 'HMO Enrollment'\n",
            " 'HMO Cancellation' 'HMO Account Update' 'New Office Transfer'\n",
            " 'Reservation (Rooms & Event Space)' 'Repairs and Maintenance Request'\n",
            " 'Visitor Access Request' 'Approval Request' 'Info or Document Request'\n",
            " 'Phone / Sim Requests' 'Orientation / Training Request' 'Assistance'\n",
            " 'Access Cards / Room or Office Access Requests' 'PME Concerns'\n",
            " 'APE Concerns' 'Safety Concerns' 'Other Medical Concerns'\n",
            " 'Checklists & Reports' 'SSS Concerns' 'New Hire Kit Request' 'Invoices'\n",
            " 'Gatepass Request' 'Medical Concerns' 'Health declaration Concerns'\n",
            " 'Pull-in Gatapass' 'Pull-out Gatepass' 'CS checklists' 'Delisting'\n",
            " 'Farm-In' 'Farm-Out' 'ITH' 'Disconnect' 'Order' 'Provisioning' 'Upgrade'\n",
            " 'Common Area and Conference Room Checking' 'Daily Checking'\n",
            " 'Server Room Checking' 'Server Room Log Sheet Checking'\n",
            " 'Camera Rotate/Disable Request' 'CCTV Checking' 'CCTV Footage Extraction'\n",
            " 'CCTV Issue' 'CCTV Viewing Assistance' 'DVR Password Reset'\n",
            " 'General CCTV Inquiry' 'CASA IT support' 'Canvassing'\n",
            " 'Request for Enrollment in the System' 'SWAT ATD-related concern'\n",
            " 'Other SWAT-related inquiries' 'Request for SSS Certificate of Contri'\n",
            " 'Request for SSS Approval Online' 'SSS Loan Status Request'\n",
            " 'SSS Request for Continuation of Loan (from previous ER)'\n",
            " 'Sickness Notifications' 'Expanded maternity benefits'\n",
            " 'SSS Related Concern Feedback' 'Instacash application-related concerns'\n",
            " 'CF1 Form MDR Request' 'Certificate of Contribution - Philhealth'\n",
            " 'Philhealth Related Concern Feedback' 'Viewing of pay slip in HRIS'\n",
            " 'Request for Pagibig Contribution Certificate'\n",
            " 'Pag ibig Loan Approval (Sign)' 'Pag ibig Loan Status Request'\n",
            " 'Pag-Ibig Related Concern Feedback' 'Employee Housing Subsidy inquiries'\n",
            " 'Benefits availment inquiries'\n",
            " 'Other mental health benefits-related inquiries' 'Bank Loan Status'\n",
            " 'HMO Enrollment upon Hire' 'HMO Related Concerns Feedback via email'\n",
            " 'HMO Dependent Enrollment' 'Computation of Final Pay'\n",
            " 'Request for 2316 for resigned employee'\n",
            " 'Request for 2316 for existing employee' 'Availability of ATM Card'\n",
            " 'ATM Related Concern Feedback'\n",
            " 'Initial Testfit (Existing BTS or Service Office Modification)'\n",
            " 'Revise Testfit (Existing BTS or Service Office Modification)'\n",
            " 'Initial Testfit (New BTS or KMC Suites) <1000 sqm'\n",
            " 'Initial Testfit (New BTS or KMC Suites) >1000 to 5000 sqm'\n",
            " 'Initial Testfit (New BTS or KMC Suites) >5000 sqm'\n",
            " 'Revise Testfit (New BTS or KMC Suites) <1000 sqm'\n",
            " 'Revise Testfit (New BTS or KMC Suites) >1000 to 5000 sqm'\n",
            " 'Revise Testfit (New BTS or KMC Suites) >5000 sqm'\n",
            " 'Around Metro Manila - BTS / KMC Suites / SO'\n",
            " 'Outside of Metro Manila - BTS / KMC Suites / SO'\n",
            " 'Initial Bid / BOM Review' 'Revised Bid / BOM Review'\n",
            " 'MEPF Design Review' 'Site Coordination Meetings'\n",
            " 'Site Walkthrough / Punchlisting' 'Site Accessorizing'\n",
            " 'OSM Checklist & Coordination'\n",
            " 'Canvassing OSM Alternatives / Vendor Costing Request'\n",
            " 'Office Area / Floorplan Copy / PEZA Info (Subject for Verification of P&D)'\n",
            " 'Printing & Signing + Sealing of PEZA Plans'\n",
            " 'Furniture / Joinery Details'\n",
            " '3d Modeling + Rendering (minimum of 5 areas)'\n",
            " '3d Modeling without rendering' 'Revision of renders/3D'\n",
            " '3D Walkthrough (1-3 areas / > 100 sqm)'\n",
            " '3D Walkthrough (4-6 areas / > 300-500 sqm)'\n",
            " '3D Walkthrough (whole floor areas / > 1000 sqm)'\n",
            " 'Design Pegs & Cost Guide' 'Revision of Cost Guide'\n",
            " 'Wall Accent Design / Glass Frosting Design' 'Material Board'\n",
            " 'Furniture and Material Specifications' 'Refresh Initial Design'\n",
            " 'Refresh Revision of Design' 'Client Presentation'\n",
            " 'Project Scoping / Client Meeting' 'Access Reactivation' 'Access Upload'\n",
            " 'Badge Card Re-assignment' 'Badge Card Request' 'Bio Disable'\n",
            " 'Bio Enrollment' 'Bio ID Request' 'Biometric Issue'\n",
            " 'Device Configuration' 'General Biometric Services'\n",
            " 'Logs Report Generation' 'Sprout Migration' 'Account Reconciliation'\n",
            " 'Billing Dispute' 'Client Deposit Refund Request'\n",
            " 'New Client for Billing' 'Pro-forma Billing Request' 'Other Concerns'\n",
            " 'Customer Setup' 'BCP Testing' 'Client' 'Internal' 'Accountability Form'\n",
            " 'Disposal' 'Gatepass Processing' 'Inventory' 'Issuance Form'\n",
            " 'Item Request' 'Warranty' 'Below 20k invoices (No PO)'\n",
            " 'Client Cash advance' 'Client Refund' 'Confidential Payments Requests'\n",
            " 'FORMS (Reimbursement, PCF, Credit Card Liquidation)'\n",
            " 'Internal & External reimb request' 'Petty Cash Request' 'PO invoices'\n",
            " 'Recurring bills (rentals, utilities, telco, etc.)'\n",
            " 'Urgent requests (Business permits, other taxes etc.)' nan]\n"
          ]
        }
      ],
      "source": [
        "categories = data['Category'].unique()\n",
        "sub_categories = data['Sub-Category'].unique()\n",
        "\n",
        "print(f\"Categories: {categories}\")\n",
        "print(f\"Sub-Categories: {sub_categories}\")"
      ]
    },
    {
      "cell_type": "code",
      "execution_count": 5,
      "metadata": {
        "colab": {
          "base_uri": "https://localhost:8080/"
        },
        "id": "6_zkeYDWw76n",
        "outputId": "07740a3d-41f2-46e0-b2b1-6eac11952c3b"
      },
      "outputs": [
        {
          "name": "stdout",
          "output_type": "stream",
          "text": [
            "Category\n",
            "ACCOUNTS PAYABLE              [Below 20k invoices (No PO), Client Cash advan...\n",
            "Asset Management              [Accountability Form, Disposal, Gatepass Proce...\n",
            "BCP Activation                                  [BCP Testing, Client, Internal]\n",
            "BTS CLIENT MEETING REQUEST    [Client Presentation, Project Scoping / Client...\n",
            "BTS DESIGN REQUEST            [Furniture / Joinery Details, 3d Modeling + Re...\n",
            "                                                    ...                        \n",
            "Ticketing Support             [Recurring Ticket Request/Removal, Report Gene...\n",
            "User Account                  [Email Account Creation, Email Account Deletio...\n",
            "Vendor Accreditation          [Vendor verification, Vendor sourcing, Vendor ...\n",
            "Vendor Payment                              [Invoice Posting, Invoice Revision]\n",
            "Web/Application Security      [High Severity Alert, Low Severity Alert, Vuln...\n",
            "Name: Sub-Category, Length: 158, dtype: object\n"
          ]
        }
      ],
      "source": [
        "category_subcategory = df.groupby('Category')['Sub-Category'].unique()\n",
        "print(category_subcategory)"
      ]
    },
    {
      "cell_type": "code",
      "execution_count": 47,
      "metadata": {
        "colab": {
          "base_uri": "https://localhost:8080/"
        },
        "id": "6UOaTdfex9ad",
        "outputId": "bcdc2c7e-0800-456a-ad42-8d4e8c6722da"
      },
      "outputs": [
        {
          "name": "stdout",
          "output_type": "stream",
          "text": [
            "                   Category               Sub-Category  \\\n",
            "0  Web/Application Security        High Severity Alert   \n",
            "1  Web/Application Security         Low Severity Alert   \n",
            "2  Web/Application Security   Vulnerability Assessment   \n",
            "3  Web/Application Security  Vulnerability Remediation   \n",
            "4            Vendor Payment            Invoice Posting   \n",
            "\n",
            "                                         Description  category_encoded  \\\n",
            "0                                                                  157   \n",
            "1                                                                  157   \n",
            "2  ticket associ assess identif vulner web applic...               157   \n",
            "3  ticket associ concern find web applic requir r...               157   \n",
            "4  ticket relat post invoic tailor zoom client re...               156   \n",
            "\n",
            "   sub-category_encoded  \n",
            "0                   304  \n",
            "1                   370  \n",
            "2                   788  \n",
            "3                   789  \n",
            "4                   345  \n"
          ]
        }
      ],
      "source": [
        "from sklearn.preprocessing import LabelEncoder\n",
        "\n",
        "le = LabelEncoder()\n",
        "\n",
        "train_df['category_encoded'] = le.fit_transform(df['Category'])\n",
        "train_df['sub-category_encoded'] = le.fit_transform(df['Sub-Category'])\n",
        "\n",
        "print(train_df.head())"
      ]
    },
    {
      "cell_type": "code",
      "execution_count": 48,
      "metadata": {
        "id": "UFfOoVk0Jumy"
      },
      "outputs": [],
      "source": [
        "data = data.replace(np.nan,\"\")\n",
        "train_df = data"
      ]
    },
    {
      "cell_type": "code",
      "execution_count": 49,
      "metadata": {
        "id": "LOD3R-fqJupE"
      },
      "outputs": [],
      "source": [
        "stop = set(stopwords.words(\"english\"))\n",
        "def clean(text):\n",
        "            text = text.lower()\n",
        "            obj = re.compile(r\"<.*?>\")\n",
        "            text = obj.sub(r\" \", text)\n",
        "            obj = re.compile(r\"https://\\S+|http://\\S+\")\n",
        "            text = obj.sub(r\" \", text)\n",
        "            obj = re.compile(r\"[^\\w\\s]\")\n",
        "            text = obj.sub(r\" \", text)\n",
        "            obj = re.compile(r\"\\d{1,}\")\n",
        "            text = obj.sub(r\" \", text)\n",
        "            obj = re.compile(r\"_+\")\n",
        "            text = obj.sub(r\" \", text)\n",
        "            obj = re.compile(r\"\\s\\w\\s\")\n",
        "            text = obj.sub(r\" \", text)\n",
        "            obj = re.compile(r\"\\s{2,}\")\n",
        "            text = obj.sub(r\" \", text)\n",
        "\n",
        "            stemmer = SnowballStemmer(\"english\")\n",
        "            text = [stemmer.stem(word)\n",
        "                    for word in text.split() if word not in stop]\n",
        "\n",
        "            porter_stemmer = PorterStemmer()\n",
        "            text = [porter_stemmer.stem(word) for word in text]\n",
        "            wordnet_lemmatizer = WordNetLemmatizer()\n",
        "            lemm_text = [wordnet_lemmatizer.lemmatize(word) for word in text]\n",
        "            return \" \".join(text)"
      ]
    },
    {
      "cell_type": "code",
      "execution_count": 50,
      "metadata": {
        "id": "TOJP8DSiJurK"
      },
      "outputs": [],
      "source": [
        "train_df['Description'] = train_df['Description'].apply(clean)"
      ]
    },
    {
      "cell_type": "code",
      "execution_count": 51,
      "metadata": {
        "id": "nWk_LN1CJutb"
      },
      "outputs": [],
      "source": [
        "from sklearn.model_selection import train_test_split\n",
        "from sklearn.preprocessing import LabelEncoder\n",
        "\n",
        "X = train_df['Description'].values\n",
        "y_category = LabelEncoder().fit_transform(train_df['Category'].values)\n",
        "# y_subcategory = LabelEncoder().fit_transform(train_df['Sub-Category'].values)\n",
        "\n",
        "# Split the data into training and validation sets for both category and sub-category\n",
        "X_train, X_val, y_train_category, y_val_category = train_test_split(X, y_category, test_size=0.2, random_state=42)\n",
        "# _, _, y_train_subcategory, y_val_subcategory = train_test_split(X, y_subcategory, test_size=0.2, random_state=42)"
      ]
    },
    {
      "cell_type": "code",
      "execution_count": 52,
      "metadata": {
        "colab": {
          "base_uri": "https://localhost:8080/"
        },
        "id": "pahHFOuVJuvV",
        "outputId": "829dde66-2d5c-4481-f71f-053c950fdfb2"
      },
      "outputs": [
        {
          "name": "stderr",
          "output_type": "stream",
          "text": [
            "Some weights of DistilBertForSequenceClassification were not initialized from the model checkpoint at distilbert-base-uncased and are newly initialized: ['classifier.bias', 'classifier.weight', 'pre_classifier.bias', 'pre_classifier.weight']\n",
            "You should probably TRAIN this model on a down-stream task to be able to use it for predictions and inference.\n"
          ]
        }
      ],
      "source": [
        "# Load model directly\n",
        "from transformers import AutoTokenizer, DistilBertForSequenceClassification\n",
        "\n",
        "tokenizer = AutoTokenizer.from_pretrained(\"distilbert-base-uncased\")\n",
        "model = DistilBertForSequenceClassification.from_pretrained(\"distilbert-base-uncased\", num_labels=len(set(y_category)))"
      ]
    },
    {
      "cell_type": "code",
      "execution_count": 53,
      "metadata": {
        "id": "VEM11CeUJuxi"
      },
      "outputs": [],
      "source": [
        "# Tokenize the input (takes some time)\n",
        "train_encodings = tokenizer(list(X_train), truncation=True, padding=True)\n",
        "val_encodings = tokenizer(list(X_val), truncation=True, padding=True)"
      ]
    },
    {
      "cell_type": "code",
      "execution_count": 54,
      "metadata": {
        "colab": {
          "base_uri": "https://localhost:8080/"
        },
        "id": "7Sm4tDyu_00Y",
        "outputId": "26ca236d-7521-4356-aa8a-3c9ce1007b36"
      },
      "outputs": [
        {
          "data": {
            "text/plain": [
              "dict_keys(['input_ids', 'attention_mask'])"
            ]
          },
          "execution_count": 54,
          "metadata": {},
          "output_type": "execute_result"
        }
      ],
      "source": [
        "train_encodings.keys()"
      ]
    },
    {
      "cell_type": "code",
      "execution_count": 55,
      "metadata": {
        "id": "8Wv1drTHJu0R"
      },
      "outputs": [],
      "source": [
        "# Convert to PyTorch DataLoaders\n",
        "import torch\n",
        "class Dataset(torch.utils.data.Dataset):\n",
        "    def __init__(self, encodings, labels):\n",
        "        self.encodings = encodings\n",
        "        self.labels = labels\n",
        "\n",
        "    def __getitem__(self, idx):\n",
        "        item = {key: torch.tensor(val[idx]) for key, val in self.encodings.items()}\n",
        "        item['labels'] = torch.tensor(self.labels[idx])\n",
        "        return item\n",
        "\n",
        "    def __len__(self):\n",
        "        return len(self.labels)\n",
        "\n",
        "train_dataset = Dataset(train_encodings, y_train_category)\n",
        "val_dataset = Dataset(val_encodings, y_val_category)"
      ]
    },
    {
      "cell_type": "code",
      "execution_count": 56,
      "metadata": {
        "colab": {
          "base_uri": "https://localhost:8080/"
        },
        "id": "4h7u00QOAXQh",
        "outputId": "876a5899-e55a-4111-ae49-0abcf93f9238"
      },
      "outputs": [
        {
          "data": {
            "text/plain": [
              "{'input_ids': tensor([  101,  3154, 18856,  8649, 27885,  3367,  6820,  6593,  2624,  6590,\n",
              "          3089,  2240,   102,     0,     0,     0,     0,     0,     0,     0,\n",
              "             0,     0,     0,     0,     0,     0,     0,     0,     0,     0,\n",
              "             0,     0,     0,     0,     0,     0,     0,     0,     0,     0,\n",
              "             0,     0,     0,     0,     0,     0,     0,     0,     0,     0,\n",
              "             0,     0,     0,     0,     0,     0,     0,     0,     0,     0,\n",
              "             0,     0,     0,     0,     0,     0,     0,     0,     0,     0,\n",
              "             0]),\n",
              " 'attention_mask': tensor([1, 1, 1, 1, 1, 1, 1, 1, 1, 1, 1, 1, 1, 0, 0, 0, 0, 0, 0, 0, 0, 0, 0, 0,\n",
              "         0, 0, 0, 0, 0, 0, 0, 0, 0, 0, 0, 0, 0, 0, 0, 0, 0, 0, 0, 0, 0, 0, 0, 0,\n",
              "         0, 0, 0, 0, 0, 0, 0, 0, 0, 0, 0, 0, 0, 0, 0, 0, 0, 0, 0, 0, 0, 0, 0]),\n",
              " 'labels': tensor(62)}"
            ]
          },
          "execution_count": 56,
          "metadata": {},
          "output_type": "execute_result"
        }
      ],
      "source": [
        "train_dataset[100]"
      ]
    },
    {
      "cell_type": "code",
      "execution_count": 68,
      "metadata": {
        "id": "Vh8xuIXXI9Lh"
      },
      "outputs": [],
      "source": [
        "def compute_metrics(p):\n",
        "  pred, labels = p.predictions, p.label_ids\n",
        "  pred = np.argmax(pred, axis = 1)\n",
        "\n",
        "  accuracy = accuracy_score(y_true=labels, y_pred=pred)\n",
        "  recall = recall_score(y_true = labels, y_pred=pred, average='macro')\n",
        "  precision = precision_score(y_true = labels, y_pred = pred, average='macro')\n",
        "  f1 = f1_score(y_true = labels, y_pred = pred, average='macro')\n",
        "  return {\"accuracy\": accuracy, \"recall\": recall, \"precision\": precision, \"f1\": f1}\n"
      ]
    },
    {
      "cell_type": "code",
      "execution_count": 69,
      "metadata": {
        "id": "yvRtiuSfSDlG"
      },
      "outputs": [],
      "source": [
        "from sklearn.metrics import accuracy_score, recall_score, precision_score, f1_score"
      ]
    },
    {
      "cell_type": "code",
      "execution_count": 70,
      "metadata": {
        "id": "oP_9uQC7JvhV"
      },
      "outputs": [],
      "source": [
        "# Fine-tune the model\n",
        "from transformers import Trainer, TrainingArguments\n",
        "\n",
        "training_args = TrainingArguments(\n",
        "    output_dir='output',          # output directory\n",
        "    num_train_epochs=1,              # total number of training epochs\n",
        "    per_device_train_batch_size=8,  # batch size per device during training\n",
        "    # per_device_eval_batch_size=8,   # batch size for evaluation\n",
        "    #warmup_steps=500,                # number of warmup steps for learning rate scheduler\n",
        "    #weight_decay=0.01,               # strength of weight decay\n",
        "    #logging_dir='./logs',            # directory for storing logs\n",
        "    #logging_steps=10,\n",
        ")\n"
      ]
    },
    {
      "cell_type": "code",
      "execution_count": 71,
      "metadata": {
        "id": "3aVkclYjPxhh"
      },
      "outputs": [],
      "source": [
        "trainer = Trainer(\n",
        "    model=model,                         # the instantiated 🤗 Transformers model to be trained\n",
        "    args=training_args,                  # training arguments, defined above\n",
        "    train_dataset=train_dataset,         # training dataset\n",
        "    eval_dataset=val_dataset ,            # evaluation dataset\n",
        "    compute_metrics=compute_metrics,\n",
        ")\n"
      ]
    },
    {
      "cell_type": "code",
      "execution_count": 72,
      "metadata": {
        "colab": {
          "base_uri": "https://localhost:8080/",
          "height": 111
        },
        "id": "eDLbOMZMMqU2",
        "outputId": "32c16334-2cbf-4e69-c8ef-e5f905ec7022"
      },
      "outputs": [
        {
          "data": {
            "text/html": [
              "\n",
              "    <div>\n",
              "      \n",
              "      <progress value='100' max='100' style='width:300px; height:20px; vertical-align: middle;'></progress>\n",
              "      [100/100 06:37, Epoch 1/1]\n",
              "    </div>\n",
              "    <table border=\"1\" class=\"dataframe\">\n",
              "  <thead>\n",
              " <tr style=\"text-align: left;\">\n",
              "      <th>Step</th>\n",
              "      <th>Training Loss</th>\n",
              "    </tr>\n",
              "  </thead>\n",
              "  <tbody>\n",
              "  </tbody>\n",
              "</table><p>"
            ],
            "text/plain": [
              "<IPython.core.display.HTML object>"
            ]
          },
          "metadata": {},
          "output_type": "display_data"
        },
        {
          "data": {
            "text/plain": [
              "TrainOutput(global_step=100, training_loss=4.517292785644531, metrics={'train_runtime': 403.8076, 'train_samples_per_second': 1.981, 'train_steps_per_second': 0.248, 'total_flos': 14736747844800.0, 'train_loss': 4.517292785644531, 'epoch': 1.0})"
            ]
          },
          "execution_count": 72,
          "metadata": {},
          "output_type": "execute_result"
        }
      ],
      "source": [
        "trainer.train()"
      ]
    },
    {
      "cell_type": "markdown",
      "metadata": {
        "id": "dHO5bwFiednl"
      },
      "source": [
        "**Evaluate Fine-Tune Model**"
      ]
    },
    {
      "cell_type": "code",
      "execution_count": 73,
      "metadata": {
        "colab": {
          "base_uri": "https://localhost:8080/",
          "height": 111
        },
        "id": "0prntlRxQA68",
        "outputId": "28e26ae8-344a-42f2-c36b-1dde13a61f05"
      },
      "outputs": [
        {
          "data": {
            "text/html": [
              "\n",
              "    <div>\n",
              "      \n",
              "      <progress value='25' max='25' style='width:300px; height:20px; vertical-align: middle;'></progress>\n",
              "      [25/25 00:36]\n",
              "    </div>\n",
              "    "
            ],
            "text/plain": [
              "<IPython.core.display.HTML object>"
            ]
          },
          "metadata": {},
          "output_type": "display_data"
        },
        {
          "name": "stdout",
          "output_type": "stream",
          "text": [
            "{'eval_loss': 4.381199359893799, 'eval_accuracy': 0.115, 'eval_recall': 0.011235955056179775, 'eval_precision': 0.0013051866984451254, 'eval_f1': 0.002338705577304388, 'eval_runtime': 37.4199, 'eval_samples_per_second': 5.345, 'eval_steps_per_second': 0.668, 'epoch': 1.0}\n"
          ]
        },
        {
          "name": "stderr",
          "output_type": "stream",
          "text": [
            "/usr/local/lib/python3.10/dist-packages/sklearn/metrics/_classification.py:1344: UndefinedMetricWarning: Precision is ill-defined and being set to 0.0 in labels with no predicted samples. Use `zero_division` parameter to control this behavior.\n",
            "  _warn_prf(average, modifier, msg_start, len(result))\n"
          ]
        }
      ],
      "source": [
        "eval_results = trainer.evaluate()\n",
        "print(eval_results)"
      ]
    },
    {
      "cell_type": "code",
      "execution_count": 75,
      "metadata": {
        "colab": {
          "base_uri": "https://localhost:8080/"
        },
        "id": "hvT3ryhJrq4M",
        "outputId": "f0d6fca1-8c33-4b31-8ca1-ea302e081b41"
      },
      "outputs": [
        {
          "name": "stdout",
          "output_type": "stream",
          "text": [
            "SequenceClassifierOutput(loss=None, logits=tensor([[ 0.3735,  0.0765, -0.0069, -0.6914, -0.6249,  0.4454, -1.0513, -1.1338,\n",
            "         -0.6104, -0.9787, -0.0850,  0.1991, -0.5781, -0.0338, -0.3416, -0.3112,\n",
            "         -0.3927, -1.3495, -0.9651, -0.5681, -1.1739, -0.9182,  0.0308, -0.7326,\n",
            "         -0.4356, -0.4897, -1.2099, -0.8220, -0.3908, -0.2166, -0.9548, -0.7899,\n",
            "         -0.2954, -0.9739, -0.6031, -0.4792,  1.0946, -0.9363, -0.4206, -0.6582,\n",
            "         -0.3878, -0.6317, -0.3592, -0.4276, -0.8160, -0.5542, -0.5718, -0.6678,\n",
            "         -1.1690, -0.5443,  0.0130, -0.8932,  2.2457, -0.1250, -0.5028,  0.3295,\n",
            "         -0.0701, -0.8655,  0.1351, -0.8063, -0.8013,  0.0771, -0.4234, -0.2246,\n",
            "         -1.3062, -1.1546, -1.1298, -0.8776, -0.5027, -0.6403, -0.0757, -0.9083,\n",
            "         -0.7505, -0.4007, -0.5943, -0.1385, -0.0684,  0.4667,  0.1464,  0.3692,\n",
            "         -0.9351, -0.5094, -0.9115, -0.7061, -0.4841, -0.9007,  0.0589,  0.1452,\n",
            "         -0.4910, -0.4956,  0.4417,  0.0540,  0.5255, -0.6376, -0.6931,  0.0659,\n",
            "         -0.6782, -0.1048, -0.6680, -0.3694, -0.8020, -0.4107, -0.9626, -0.3566,\n",
            "         -0.1631, -0.6995, -0.1490, -0.6302, -0.4885, -0.8840, -0.7273, -0.0759,\n",
            "         -0.3276, -0.5732, -0.0788, -0.0417, -0.6413, -0.5706, -0.8336, -0.2193,\n",
            "         -1.1406, -0.3336, -0.5134,  0.2873, -0.8495, -0.3408, -0.4879, -0.4788,\n",
            "         -0.3025, -1.0223, -0.3061,  0.4221, -0.5108, -0.1624, -0.9452, -1.0041,\n",
            "         -1.0419, -0.2048, -0.5164, -0.6201, -0.5220, -0.2021,  0.3296, -0.9669,\n",
            "         -0.4839, -0.3002, -0.0690, -0.3350, -0.4490, -0.4995, -0.1979, -0.6422,\n",
            "          0.8977, -0.0447, -0.2006,  0.0415, -0.5511, -0.9093, -0.4189]],\n",
            "       grad_fn=<AddmmBackward0>), hidden_states=None, attentions=None)\n",
            "tensor([[0.0119, 0.0089, 0.0081, 0.0041, 0.0044, 0.0128, 0.0029, 0.0026, 0.0045,\n",
            "         0.0031, 0.0075, 0.0100, 0.0046, 0.0079, 0.0058, 0.0060, 0.0055, 0.0021,\n",
            "         0.0031, 0.0046, 0.0025, 0.0033, 0.0085, 0.0039, 0.0053, 0.0050, 0.0024,\n",
            "         0.0036, 0.0055, 0.0066, 0.0032, 0.0037, 0.0061, 0.0031, 0.0045, 0.0051,\n",
            "         0.0245, 0.0032, 0.0054, 0.0042, 0.0056, 0.0044, 0.0057, 0.0053, 0.0036,\n",
            "         0.0047, 0.0046, 0.0042, 0.0025, 0.0048, 0.0083, 0.0034, 0.0775, 0.0072,\n",
            "         0.0050, 0.0114, 0.0076, 0.0035, 0.0094, 0.0037, 0.0037, 0.0089, 0.0054,\n",
            "         0.0066, 0.0022, 0.0026, 0.0027, 0.0034, 0.0050, 0.0043, 0.0076, 0.0033,\n",
            "         0.0039, 0.0055, 0.0045, 0.0071, 0.0077, 0.0131, 0.0095, 0.0119, 0.0032,\n",
            "         0.0049, 0.0033, 0.0040, 0.0051, 0.0033, 0.0087, 0.0095, 0.0050, 0.0050,\n",
            "         0.0128, 0.0087, 0.0139, 0.0043, 0.0041, 0.0088, 0.0042, 0.0074, 0.0042,\n",
            "         0.0057, 0.0037, 0.0054, 0.0031, 0.0057, 0.0070, 0.0041, 0.0071, 0.0044,\n",
            "         0.0050, 0.0034, 0.0040, 0.0076, 0.0059, 0.0046, 0.0076, 0.0079, 0.0043,\n",
            "         0.0046, 0.0036, 0.0066, 0.0026, 0.0059, 0.0049, 0.0109, 0.0035, 0.0058,\n",
            "         0.0050, 0.0051, 0.0061, 0.0030, 0.0060, 0.0125, 0.0049, 0.0070, 0.0032,\n",
            "         0.0030, 0.0029, 0.0067, 0.0049, 0.0044, 0.0049, 0.0067, 0.0114, 0.0031,\n",
            "         0.0051, 0.0061, 0.0077, 0.0059, 0.0052, 0.0050, 0.0067, 0.0043, 0.0201,\n",
            "         0.0078, 0.0067, 0.0085, 0.0047, 0.0033, 0.0054]],\n",
            "       grad_fn=<SoftmaxBackward0>)\n"
          ]
        }
      ],
      "source": [
        "text = \"Any ticket related to Accreditation process for vendors exclusive to Zoom clients.\"\n",
        "input = tokenizer(text, padding = True, truncation=True, return_tensors='pt')\n",
        "output = model(**input)\n",
        "print(output)\n",
        "pred = torch.nn.functional.softmax(output.logits, dim = 1)\n",
        "print(pred)"
      ]
    },
    {
      "cell_type": "code",
      "execution_count": null,
      "metadata": {
        "id": "mJGrk2OATaZu"
      },
      "outputs": [],
      "source": [
        "text = \"I'm happy I can finally train a model for multi-label classification\"\n",
        "\n",
        "encoding = tokenizer(text, return_tensors=\"pt\")\n",
        "encoding = {k: v.to(trainer.model.device) for k,v in encoding.items()}\n",
        "\n",
        "outputs = trainer.model(**encoding)"
      ]
    },
    {
      "cell_type": "code",
      "execution_count": null,
      "metadata": {
        "id": "6rTBO7x7SML-"
      },
      "outputs": [],
      "source": [
        "from transformers import pipeline\n",
        "\n",
        "def predict_category(text):\n",
        "    # Preprocess the text\n",
        "    text = clean(text)\n",
        "\n",
        "    # Load the fine-tuned model\n",
        "    model = DistilBertForSequenceClassification.from_pretrained(\"./my_model\")\n",
        "\n",
        "    # Create a pipeline\n",
        "    classifier = pipeline('text-classification', model=model, tokenizer=tokenizer)\n",
        "\n",
        "    # Make a prediction\n",
        "    result = classifier(text)\n",
        "\n",
        "    # Convert the prediction to the corresponding category\n",
        "    predicted_label = result[0]['label']\n",
        "    predicted_score = result[0]['score']\n",
        "\n",
        "    return predicted_label, predicted_score\n",
        "\n",
        "# Test the function\n",
        "text = \"Your test input here\"\n",
        "print(predict_category(text))\n"
      ]
    }
  ],
  "metadata": {
    "accelerator": "GPU",
    "colab": {
      "gpuType": "T4",
      "provenance": []
    },
    "kernelspec": {
      "display_name": "Python 3.9.19 ('kmc': venv)",
      "language": "python",
      "name": "python3"
    },
    "language_info": {
      "codemirror_mode": {
        "name": "ipython",
        "version": 3
      },
      "file_extension": ".py",
      "mimetype": "text/x-python",
      "name": "python",
      "nbconvert_exporter": "python",
      "pygments_lexer": "ipython3",
      "version": "3.9.19"
    },
    "vscode": {
      "interpreter": {
        "hash": "7862b5a6e35079c40cb2d1748d53f7678b5fa889df8274f1e4d1172b6b205b82"
      }
    }
  },
  "nbformat": 4,
  "nbformat_minor": 0
}
